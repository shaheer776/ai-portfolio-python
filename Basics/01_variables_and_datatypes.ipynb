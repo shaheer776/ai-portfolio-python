{
 "cells": [
  {
   "cell_type": "markdown",
   "id": "f27101c9",
   "metadata": {},
   "source": [
    "# 📘 Variables, Strings, Numbers, and Booleans\n",
    "This notebook covers:\n",
    "- What are Variables?\n",
    "- Python Datatypes: Strings, Integers, Floats, Booleans\n",
    "- Type Checking and Casting\n",
    "- Common Built-in Functions\n",
    "- Best Practices\n",
    "\n",
    "🔗 [Official Python Documentation](https://docs.python.org/3/library/stdtypes.html)\n"
   ]
  },
  {
   "cell_type": "markdown",
   "id": "93a6e8c3",
   "metadata": {},
   "source": [
    "## 📌 What is a Variable?\n",
    "In Python, a **variable** is a name that refers to a value stored in memory. You can think of it as a label for data.\n",
    "\n",
    "**Rules for naming variables:**\n",
    "- Must start with a letter or underscore (_)\n",
    "- Cannot start with a number\n",
    "- Can contain letters, numbers, underscores\n",
    "- Case sensitive (`Name` and `name` are different)\n",
    "\n",
    "**Example:**"
   ]
  },
  {
   "cell_type": "code",
   "execution_count": 3,
   "id": "0eead05a",
   "metadata": {
    "execution": {
     "iopub.execute_input": "2025-04-07T07:23:22.456757Z",
     "iopub.status.busy": "2025-04-07T07:23:22.456434Z",
     "iopub.status.idle": "2025-04-07T07:23:22.460668Z",
     "shell.execute_reply": "2025-04-07T07:23:22.459706Z",
     "shell.execute_reply.started": "2025-04-07T07:23:22.456735Z"
    },
    "trusted": true
   },
   "outputs": [],
   "source": [
    "name = 'Alice'\n",
    "age = 25\n",
    "height = 5.6\n",
    "is_student = True"
   ]
  },
  {
   "cell_type": "markdown",
   "id": "4f7d52d6",
   "metadata": {},
   "source": [
    "## 📌 Strings\n",
    "Strings are sequences of characters enclosed in single `'` or double `\"` quotes.\n",
    "\n",
    "**Examples:**"
   ]
  },
  {
   "cell_type": "code",
   "execution_count": 4,
   "id": "d41c3778",
   "metadata": {
    "execution": {
     "iopub.execute_input": "2025-04-07T07:23:25.950162Z",
     "iopub.status.busy": "2025-04-07T07:23:25.949819Z",
     "iopub.status.idle": "2025-04-07T07:23:25.955197Z",
     "shell.execute_reply": "2025-04-07T07:23:25.954502Z",
     "shell.execute_reply.started": "2025-04-07T07:23:25.950136Z"
    },
    "trusted": true
   },
   "outputs": [
    {
     "name": "stdout",
     "output_type": "stream",
     "text": [
      "John Doe\n"
     ]
    }
   ],
   "source": [
    "first_name = 'John'\n",
    "last_name = \"Doe\"\n",
    "full_name = first_name + ' ' + last_name\n",
    "print(full_name)"
   ]
  },
  {
   "cell_type": "markdown",
   "id": "68d9ce29",
   "metadata": {},
   "source": [
    "### 🔧 Common String Operations:\n",
    "- Concatenation: `+`\n",
    "- Length: `len()`\n",
    "- Indexing & Slicing: `str[0]`, `str[1:4]`\n",
    "- Methods: `.upper()`, `.lower()`, `.strip()`, `.replace()`, `.split()`"
   ]
  },
  {
   "cell_type": "code",
   "execution_count": 5,
   "id": "5aae5984",
   "metadata": {
    "execution": {
     "iopub.execute_input": "2025-04-07T07:23:29.910097Z",
     "iopub.status.busy": "2025-04-07T07:23:29.909625Z",
     "iopub.status.idle": "2025-04-07T07:23:29.915890Z",
     "shell.execute_reply": "2025-04-07T07:23:29.914962Z",
     "shell.execute_reply.started": "2025-04-07T07:23:29.910061Z"
    },
    "trusted": true
   },
   "outputs": [
    {
     "name": "stdout",
     "output_type": "stream",
     "text": [
      "Hello, Python!\n",
      "  HELLO, PYTHON!  \n",
      "  Hello, World!  \n",
      "['  Hello', ' Python!  ']\n"
     ]
    }
   ],
   "source": [
    "text = '  Hello, Python!  '\n",
    "print(text.strip())\n",
    "print(text.upper())\n",
    "print(text.replace('Python', 'World'))\n",
    "print(text.split(','))"
   ]
  },
  {
   "cell_type": "markdown",
   "id": "c289c8a3",
   "metadata": {},
   "source": [
    "## 📌 Numbers: Integers and Floats\n",
    "Python has two main numeric types:\n",
    "- **int**: whole numbers (e.g., 1, -10, 300)\n",
    "- **float**: decimal numbers (e.g., 3.14, -0.001)\n",
    "\n",
    "**Examples:**"
   ]
  },
  {
   "cell_type": "code",
   "execution_count": 6,
   "id": "587116f1",
   "metadata": {
    "execution": {
     "iopub.execute_input": "2025-04-07T07:24:01.089955Z",
     "iopub.status.busy": "2025-04-07T07:24:01.089641Z",
     "iopub.status.idle": "2025-04-07T07:24:01.095230Z",
     "shell.execute_reply": "2025-04-07T07:24:01.094373Z",
     "shell.execute_reply.started": "2025-04-07T07:24:01.089931Z"
    },
    "trusted": true
   },
   "outputs": [
    {
     "name": "stdout",
     "output_type": "stream",
     "text": [
      "<class 'int'> <class 'float'>\n",
      "13.14\n",
      "31.400000000000002\n",
      "100\n"
     ]
    }
   ],
   "source": [
    "x = 10      # int\n",
    "y = 3.14    # float\n",
    "print(type(x), type(y))\n",
    "\n",
    "# Arithmetic operations\n",
    "print(x + y)\n",
    "print(x * y)\n",
    "print(x ** 2)"
   ]
  },
  {
   "cell_type": "markdown",
   "id": "457d6df4",
   "metadata": {},
   "source": [
    "## 📌 Booleans\n",
    "Booleans represent one of two values: `True` or `False` (note the capital letters).\n",
    "They're often used in conditional statements.\n",
    "\n",
    "**Examples:**"
   ]
  },
  {
   "cell_type": "code",
   "execution_count": 7,
   "id": "373a157b",
   "metadata": {
    "execution": {
     "iopub.execute_input": "2025-04-07T07:24:14.116692Z",
     "iopub.status.busy": "2025-04-07T07:24:14.116391Z",
     "iopub.status.idle": "2025-04-07T07:24:14.122158Z",
     "shell.execute_reply": "2025-04-07T07:24:14.121099Z",
     "shell.execute_reply.started": "2025-04-07T07:24:14.116668Z"
    },
    "trusted": true
   },
   "outputs": [
    {
     "name": "stdout",
     "output_type": "stream",
     "text": [
      "False\n",
      "True\n",
      "False\n"
     ]
    }
   ],
   "source": [
    "is_sunny = True\n",
    "has_umbrella = False\n",
    "\n",
    "print(is_sunny and has_umbrella)\n",
    "print(is_sunny or has_umbrella)\n",
    "print(not is_sunny)"
   ]
  },
  {
   "cell_type": "markdown",
   "id": "9d2ec284",
   "metadata": {},
   "source": [
    "## 🔍 Type Checking and Casting\n",
    "- Use `type()` to check the datatype\n",
    "- Use functions like `int()`, `float()`, `str()`, `bool()` to cast between types\n",
    "- Use 'id()' to return a unique integer representing the \"identity\" or memory address of the specified object\n",
    "\n",
    "**Examples:**"
   ]
  },
  {
   "cell_type": "code",
   "execution_count": 1,
   "id": "f6411fa3",
   "metadata": {
    "execution": {
     "iopub.execute_input": "2025-04-07T07:24:40.817239Z",
     "iopub.status.busy": "2025-04-07T07:24:40.816899Z",
     "iopub.status.idle": "2025-04-07T07:24:40.823185Z",
     "shell.execute_reply": "2025-04-07T07:24:40.822429Z",
     "shell.execute_reply.started": "2025-04-07T07:24:40.817214Z"
    },
    "trusted": true
   },
   "outputs": [
    {
     "name": "stdout",
     "output_type": "stream",
     "text": [
      "5.0 <class 'float'>\n",
      "5 <class 'str'>\n",
      "True <class 'bool'>\n",
      "id:  140705176566328\n"
     ]
    }
   ],
   "source": [
    "a = 5\n",
    "b = float(a)\n",
    "c = str(a)\n",
    "d = bool(a)\n",
    "\n",
    "print(b, type(b))\n",
    "print(c, type(c))\n",
    "print(d, type(d))\n",
    "print('id: ', id(a))"
   ]
  },
  {
   "cell_type": "markdown",
   "id": "842f2f4e",
   "metadata": {},
   "source": [
    "## 🧠 Best Practices\n",
    "- Use descriptive variable names\n",
    "- Avoid using Python keywords as variable names (`if`, `for`, `int`, etc.)\n",
    "- Stick to snake_case for naming variables\n",
    "- Comment your code for clarity"
   ]
  },
  {
   "cell_type": "markdown",
   "id": "41681063",
   "metadata": {},
   "source": [
    "## ✅ Summary\n",
    "- Variables are containers for storing values\n",
    "- Python has dynamic typing — no need to declare variable types\n",
    "- Strings: sequence of characters, support many methods\n",
    "- Numbers: `int` and `float`, support arithmetic\n",
    "- Booleans: `True`, `False`, used in logic and conditions\n",
    "- Use `type()` to check types and `int()`, `str()` etc. to cast values"
   ]
  },
  {
   "cell_type": "markdown",
   "id": "6bb3fda4",
   "metadata": {},
   "source": [
    "> 📌 [More on Data Types - Python Docs](https://docs.python.org/3/library/stdtypes.html)"
   ]
  }
 ],
 "metadata": {
  "kaggle": {
   "accelerator": "nvidiaTeslaT4",
   "dataSources": [],
   "dockerImageVersionId": 30886,
   "isGpuEnabled": true,
   "isInternetEnabled": true,
   "language": "python",
   "sourceType": "notebook"
  },
  "kernelspec": {
   "display_name": "Python 3",
   "language": "python",
   "name": "python3"
  },
  "language_info": {
   "codemirror_mode": {
    "name": "ipython",
    "version": 3
   },
   "file_extension": ".py",
   "mimetype": "text/x-python",
   "name": "python",
   "nbconvert_exporter": "python",
   "pygments_lexer": "ipython3",
   "version": "3.12.4"
  }
 },
 "nbformat": 4,
 "nbformat_minor": 5
}
