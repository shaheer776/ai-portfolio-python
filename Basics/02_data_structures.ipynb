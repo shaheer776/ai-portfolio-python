{
 "cells": [
  {
   "cell_type": "markdown",
   "id": "e1769373",
   "metadata": {},
   "source": [
    "# 📘 Data Structures: Lists, Tuples, Sets, and Dictionaries\n",
    "This notebook covers:\n",
    "- Lists and their methods\n",
    "- Tuples and immutability\n",
    "- Sets and uniqueness\n",
    "- Dictionaries and key-value pairs\n",
    "- Comparison between data structures\n",
    "- Best practices\n",
    "\n",
    "🔗 [Official Python Docs](https://docs.python.org/3/tutorial/datastructures.html)\n"
   ]
  },
  {
   "cell_type": "markdown",
   "id": "38db4b68",
   "metadata": {},
   "source": [
    "## 🧺 Lists\n",
    "Lists are ordered, mutable collections of items. Defined using square brackets `[]`.\n",
    "\n",
    "**Examples:**"
   ]
  },
  {
   "cell_type": "code",
   "execution_count": null,
   "id": "8b44ac80",
   "metadata": {},
   "outputs": [],
   "source": [
    "fruits = ['apple', 'banana', 'cherry']\n",
    "print(fruits)"
   ]
  },
  {
   "cell_type": "markdown",
   "id": "38a99045",
   "metadata": {},
   "source": [
    "### 🔧 Common List Methods and Operations:\n",
    "- `append()`, `extend()`, `insert()`\n",
    "- `remove()`, `pop()`, `clear()`\n",
    "- `index()`, `count()`\n",
    "- `sort()`, `reverse()`\n",
    "- `copy()`\n"
   ]
  },
  {
   "cell_type": "code",
   "execution_count": null,
   "id": "1c26267a",
   "metadata": {},
   "outputs": [],
   "source": [
    "fruits.append('orange')\n",
    "fruits.insert(1, 'kiwi')\n",
    "print(fruits)\n",
    "\n",
    "fruits.remove('banana')\n",
    "print(fruits)\n",
    "\n",
    "print(fruits.pop())\n",
    "print(fruits)\n",
    "\n",
    "print(fruits.index('apple'))\n",
    "print(fruits.count('apple'))\n",
    "\n",
    "fruits.sort()\n",
    "print(fruits)\n",
    "\n",
    "fruits.reverse()\n",
    "print(fruits)"
   ]
  },
  {
   "cell_type": "markdown",
   "id": "4e4daf77",
   "metadata": {},
   "source": [
    "## 📦 Tuples\n",
    "Tuples are ordered, immutable collections. Defined using parentheses `()`.\n",
    "\n",
    "**Examples:**"
   ]
  },
  {
   "cell_type": "code",
   "execution_count": null,
   "id": "bde9b5f4",
   "metadata": {},
   "outputs": [],
   "source": [
    "dimensions = (1920, 1080)\n",
    "print(dimensions)\n",
    "print(type(dimensions))"
   ]
  },
  {
   "cell_type": "markdown",
   "id": "8e7903b0",
   "metadata": {},
   "source": [
    "### 🔍 Why Tuples?\n",
    "- They are faster than lists.\n",
    "- Useful when data shouldn't change.\n",
    "\n",
    "**Accessing Elements:**"
   ]
  },
  {
   "cell_type": "code",
   "execution_count": null,
   "id": "a23699ad",
   "metadata": {},
   "outputs": [],
   "source": [
    "print(dimensions[0])\n",
    "print(len(dimensions))"
   ]
  },
  {
   "cell_type": "markdown",
   "id": "827712b3",
   "metadata": {},
   "source": [
    "## 🔥 Sets\n",
    "Sets are unordered, mutable collections of **unique** elements. Defined using curly braces `{}`.\n",
    "\n",
    "**Examples:**"
   ]
  },
  {
   "cell_type": "code",
   "execution_count": null,
   "id": "5538106f",
   "metadata": {},
   "outputs": [],
   "source": [
    "colors = {'red', 'green', 'blue', 'red'}\n",
    "print(colors)  # no duplicates"
   ]
  },
  {
   "cell_type": "markdown",
   "id": "7f35831f",
   "metadata": {},
   "source": [
    "### 🔧 Set Methods:\n",
    "- `add()`, `remove()`, `discard()`\n",
    "- `union()`, `intersection()`, `difference()`, `symmetric_difference()`\n",
    "- `issubset()`, `issuperset()`\n"
   ]
  },
  {
   "cell_type": "code",
   "execution_count": null,
   "id": "c25485b6",
   "metadata": {},
   "outputs": [],
   "source": [
    "colors.add('yellow')\n",
    "colors.discard('green')\n",
    "print(colors)\n",
    "\n",
    "primary = {'red', 'blue'}\n",
    "print(colors.union(primary))\n",
    "print(colors.intersection(primary))\n",
    "print(colors.difference(primary))"
   ]
  },
  {
   "cell_type": "markdown",
   "id": "fbff9bb7",
   "metadata": {},
   "source": [
    "## 🧭 Dictionaries\n",
    "Dictionaries store data as key-value pairs. Defined using curly braces `{key: value}`.\n",
    "\n",
    "**Examples:**"
   ]
  },
  {
   "cell_type": "code",
   "execution_count": null,
   "id": "60098c5d",
   "metadata": {},
   "outputs": [],
   "source": [
    "person = {\n",
    "    'name': 'Alice',\n",
    "    'age': 25,\n",
    "    'city': 'New York'\n",
    "}\n",
    "print(person)"
   ]
  },
  {
   "cell_type": "markdown",
   "id": "ebf2cc88",
   "metadata": {},
   "source": [
    "### 🔧 Dictionary Methods:\n",
    "- `get()`, `keys()`, `values()`, `items()`\n",
    "- `update()`, `pop()`, `popitem()`, `clear()`\n"
   ]
  },
  {
   "cell_type": "code",
   "execution_count": null,
   "id": "5b91f745",
   "metadata": {},
   "outputs": [],
   "source": [
    "print(person['name'])\n",
    "print(person.get('age'))\n",
    "\n",
    "print(person.keys())\n",
    "print(person.values())\n",
    "print(person.items())\n",
    "\n",
    "person.update({'age': 26})\n",
    "print(person)\n",
    "\n",
    "person.pop('city')\n",
    "print(person)"
   ]
  },
  {
   "cell_type": "markdown",
   "id": "8929e008",
   "metadata": {},
   "source": [
    "## 📊 Comparison Table\n",
    "| Type       | Ordered | Mutable | Allows Duplicates | Syntax     |\n",
    "|------------|---------|---------|-------------------|------------|\n",
    "| List       | ✅       | ✅       | ✅                 | `[]`       |\n",
    "| Tuple      | ✅       | ❌       | ✅                 | `()`       |\n",
    "| Set        | ❌       | ✅       | ❌                 | `{}`       |\n",
    "| Dictionary | ✅       | ✅       | 🔑 unique keys     | `{key:val}`|\n"
   ]
  },
  {
   "cell_type": "markdown",
   "id": "1afe6fbb",
   "metadata": {},
   "source": [
    "## ✅ Best Practices\n",
    "- Use **lists** when order and mutability matter.\n",
    "- Use **tuples** for fixed data.\n",
    "- Use **sets** to eliminate duplicates.\n",
    "- Use **dictionaries** for structured data (like JSON).\n",
    "- Choose the right data structure for the task."
   ]
  },
  {
   "cell_type": "markdown",
   "id": "36bb14c0",
   "metadata": {},
   "source": [
    "## 📝 Summary\n",
    "- Python provides several built-in data structures: lists, tuples, sets, and dictionaries\n",
    "- Each has unique features suited for different tasks\n",
    "- Know their methods and performance characteristics to use them efficiently"
   ]
  },
  {
   "cell_type": "markdown",
   "id": "2f970a87",
   "metadata": {},
   "source": [
    "> 📌 [Official Data Structures Documentation](https://docs.python.org/3/tutorial/datastructures.html)"
   ]
  }
 ],
 "metadata": {},
 "nbformat": 4,
 "nbformat_minor": 5
}
