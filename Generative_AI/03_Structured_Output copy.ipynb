{
 "cells": [
  {
   "cell_type": "markdown",
   "id": "aa2d46ec",
   "metadata": {
    "papermill": {
     "duration": 0.001961,
     "end_time": "2025-06-30T07:42:40.343505",
     "exception": false,
     "start_time": "2025-06-30T07:42:40.341544",
     "status": "completed"
    },
    "tags": []
   },
   "source": [
    "# Generative Artificial Intelligence\n",
    "---\n",
    "\n",
    "Get started with LLMs\n",
    "\n",
    "---\n",
    "\n",
    "## 📑 Contents\n",
    "\n",
    "1. OpenAI API - GPT\n",
    "2. Anthropic API - Claude\n",
    "3. Google API - Gemini\n",
    "4. HuggingFace API\n",
    "5. OpenAI Embeddings\n",
    "6. HuggingFace Embeddings\n",
    "7. Mini Project"
   ]
  },
  {
   "cell_type": "markdown",
   "id": "abb02c3a",
   "metadata": {},
   "source": [
    "## 1 Typed Dictionary"
   ]
  },
  {
   "cell_type": "code",
   "execution_count": 3,
   "id": "55ac5589",
   "metadata": {},
   "outputs": [
    {
     "name": "stdout",
     "output_type": "stream",
     "text": [
      "{'name': 'Champ', 'age': 25}\n"
     ]
    }
   ],
   "source": [
    "# Demo\n",
    "\n",
    "from typing import TypedDict\n",
    "\n",
    "class Person(TypedDict):\n",
    "\n",
    "    name: str\n",
    "    age: int\n",
    "\n",
    "new_person: Person = {'name':\"Champ\", 'age':25}\n",
    "print(new_person)"
   ]
  },
  {
   "cell_type": "markdown",
   "id": "30ed89ba",
   "metadata": {},
   "source": [
    "### 1.1 Simple TypedDict"
   ]
  },
  {
   "cell_type": "code",
   "execution_count": 6,
   "id": "8aaca127",
   "metadata": {},
   "outputs": [
    {
     "name": "stderr",
     "output_type": "stream",
     "text": [
      "c:\\Users\\shahe\\miniconda3\\Lib\\site-packages\\langchain_openai\\chat_models\\base.py:1857: UserWarning: Cannot use method='json_schema' with model gpt-3.5-turbo since it doesn't support OpenAI's Structured Output API. You can see supported models here: https://platform.openai.com/docs/guides/structured-outputs#supported-models. To fix this warning, set `method='function_calling'. Overriding to method='function_calling'.\n",
      "  warnings.warn(\n"
     ]
    },
    {
     "name": "stdout",
     "output_type": "stream",
     "text": [
      "<class 'dict'>\n",
      "negative\n"
     ]
    }
   ],
   "source": [
    "from langchain_openai import ChatOpenAI\n",
    "from dotenv import load_dotenv\n",
    "from typing import TypedDict\n",
    "\n",
    "load_dotenv()\n",
    "\n",
    "model = ChatOpenAI()\n",
    "\n",
    "class Review(TypedDict):\n",
    "\n",
    "    summary: str\n",
    "    sentiment: str\n",
    "\n",
    "structured_model = model.with_structured_output(Review)\n",
    "\n",
    "result = structured_model.invoke(\"\"\"The hardware is decent but the software feels bloated. There are too many pre-installed apps that i can't remove.\"\"\")\n",
    "\n",
    "print(type(result))\n",
    "print(result['sentiment'])"
   ]
  },
  {
   "cell_type": "markdown",
   "id": "dc1158f8",
   "metadata": {},
   "source": [
    "### 1.2 Annotated TypedDict"
   ]
  },
  {
   "cell_type": "code",
   "execution_count": 8,
   "id": "297d12f1",
   "metadata": {},
   "outputs": [
    {
     "name": "stderr",
     "output_type": "stream",
     "text": [
      "c:\\Users\\shahe\\miniconda3\\Lib\\site-packages\\langchain_openai\\chat_models\\base.py:1857: UserWarning: Cannot use method='json_schema' with model gpt-3.5-turbo since it doesn't support OpenAI's Structured Output API. You can see supported models here: https://platform.openai.com/docs/guides/structured-outputs#supported-models. To fix this warning, set `method='function_calling'. Overriding to method='function_calling'.\n",
      "  warnings.warn(\n"
     ]
    },
    {
     "name": "stdout",
     "output_type": "stream",
     "text": [
      "['Snapdragon 8 Gen 3 processor', '5000mAh battery', '45W fast charging', 'S-Pen integration', '200MP camera', 'night mode', '100x zoom', '30x zoom', 'weight and size', 'One UI', 'bloatware', 'price tag']\n",
      "Shaheer's review of the Samsung Galaxy S24 Ultra highlights its powerful Snapdragon 8 Gen 3 processor, long-lasting battery with fast charging, impressive camera capabilities, and unique S-Pen support. However, the bulky size, bloatware in Samsung's One UI, and high price are noted as drawbacks.\n",
      "pos\n",
      "['Insanely powerful processor (great for gaming and productivity)', 'Stunning 200MP camera with incredible zoom capabilities', 'Long battery life with fast charging', 'S-Pen support is unique and useful']\n",
      "['Bulky and heavy - not great for one-handed use', 'Bloatware still exists in One UI', 'Expensive compared to competitors']\n",
      "Shaheer\n"
     ]
    }
   ],
   "source": [
    "from langchain_openai import ChatOpenAI\n",
    "from dotenv import load_dotenv\n",
    "from typing import TypedDict, Annotated, Optional, Literal\n",
    "\n",
    "\n",
    "load_dotenv()\n",
    "\n",
    "model = ChatOpenAI()\n",
    "\n",
    "class Review(TypedDict):\n",
    "\n",
    "    key_themes: Annotated[list[str], \"Write down all the key themes discussed in the review in a list\"]\n",
    "    summary: Annotated[str, \"A brief summary of the review\"]\n",
    "    sentiment: Annotated[Literal[\"pos\", \"neg\"], \"Return sentiment of the review either negative or positive\"]\n",
    "    pros: Annotated[Optional[list[str]], \"Write down all the pros inside a list\"]\n",
    "    cons: Annotated[Optional[list[str]], \"Write down all the cons inside a list\"]\n",
    "    name: Annotated[Optional[str], \"Write the name of the reviewer\"]\n",
    "\n",
    "structured_model = model.with_structured_output(Review)\n",
    "\n",
    "result = structured_model.invoke(\"\"\"I recently upgraded to the Samsung Galaxy S24 Ultra, and I must say, it’s an absolute powerhouse! The Snapdragon 8 Gen 3 processor makes everything lightning fast—whether I’m gaming, multitasking, or editing photos. The 5000mAh battery easily lasts a full day even with heavy use, and the 45W fast charging is a lifesaver.\n",
    "\n",
    "The S-Pen integration is a great touch for note-taking and quick sketches, though I don't use it often. What really blew me away is the 200MP camera—the night mode is stunning, capturing crisp, vibrant images even in low light. Zooming up to 100x actually works well for distant objects, but anything beyond 30x loses quality.\n",
    "\n",
    "However, the weight and size make it a bit uncomfortable for one-handed use. Also, Samsung’s One UI still comes with bloatware—why do I need five different Samsung apps for things Google already provides? The $1,300 price tag is also a hard pill to swallow.\n",
    "\n",
    "Pros:\n",
    "Insanely powerful processor (great for gaming and productivity)\n",
    "Stunning 200MP camera with incredible zoom capabilities\n",
    "Long battery life with fast charging\n",
    "S-Pen support is unique and useful\n",
    "\n",
    "Cons:\n",
    "Bulky and heavy - not great for one handed-use\n",
    "Bloatware still exists in one UI\n",
    "Expensive compared to competitors                            \n",
    "\n",
    "Review by Shaheer\"\"\")\n",
    "\n",
    "print(result['key_themes'])\n",
    "print(result['summary'])\n",
    "print(result['sentiment'])\n",
    "print(result['pros'])\n",
    "print(result['cons'])\n",
    "print(result['name'])\n",
    "\n"
   ]
  },
  {
   "cell_type": "markdown",
   "id": "5aef0974",
   "metadata": {},
   "source": [
    "### 2. Pydantic"
   ]
  },
  {
   "cell_type": "code",
   "execution_count": 30,
   "id": "1583ac75",
   "metadata": {},
   "outputs": [
    {
     "name": "stdout",
     "output_type": "stream",
     "text": [
      "name='Champ' age=25 email='123@naver.com' cgpa=5.0\n"
     ]
    }
   ],
   "source": [
    "from pydantic import BaseModel, EmailStr, Field\n",
    "from typing import Optional\n",
    "\n",
    "class Student(BaseModel):\n",
    "\n",
    "    name: str\n",
    "    age: Optional[int] = None\n",
    "    email: EmailStr\n",
    "    cgpa: float = Field(gt=0, lt=10)\n",
    "\n",
    "new_student = {'name':'Champ', 'age': 25, 'email': '123@naver.com', 'cgpa':5}\n",
    "\n",
    "student = Student(**new_student)        # ** is dictionary unpacking operator\n",
    "print(student)"
   ]
  },
  {
   "cell_type": "code",
   "execution_count": 31,
   "id": "8f4263e1",
   "metadata": {},
   "outputs": [
    {
     "name": "stderr",
     "output_type": "stream",
     "text": [
      "c:\\Users\\shahe\\miniconda3\\Lib\\site-packages\\langchain_openai\\chat_models\\base.py:1857: UserWarning: Cannot use method='json_schema' with model gpt-3.5-turbo since it doesn't support OpenAI's Structured Output API. You can see supported models here: https://platform.openai.com/docs/guides/structured-outputs#supported-models. To fix this warning, set `method='function_calling'. Overriding to method='function_calling'.\n",
      "  warnings.warn(\n"
     ]
    },
    {
     "name": "stdout",
     "output_type": "stream",
     "text": [
      "key_themes=['powerful processor', 'long battery life', 'S-Pen integration', '200MP camera', 'weight and size', 'One UI bloatware', 'price tag'] summary=\"Shaheer's review of the Samsung Galaxy S24 Ultra highlights its powerful performance, long-lasting battery, stunning camera capabilities, and useful S-Pen integration. However, he mentions concerns about the weight and size, bloatware in Samsung's One UI, and the high price tag.\" sentiment='pos' pros=['Insanely powerful processor (great for gaming and productivity)', 'Stunning 200MP camera with incredible zoom capabilities', 'Long battery life with fast charging', 'S-Pen support is unique and useful'] cons=['Weight and size make one-handed use uncomfortable', \"Bloatware in Samsung's One UI\", 'High price tag'] name='Shaheer'\n"
     ]
    }
   ],
   "source": [
    "from langchain_openai import ChatOpenAI\n",
    "from dotenv import load_dotenv\n",
    "from typing import TypedDict, Annotated, Optional, Literal\n",
    "from pydantic import BaseModel, Field\n",
    "\n",
    "load_dotenv()\n",
    "\n",
    "model = ChatOpenAI()\n",
    "\n",
    "# schema\n",
    "class Review(BaseModel):\n",
    "\n",
    "    key_themes: list[str] = Field(description=\"Write down all the key themes discussed in the review in a list\")\n",
    "    summary: str = Field(description=\"A brief summary of the review\")\n",
    "    sentiment: Literal[\"pos\", \"neg\"] = Field(description=\"Return sentiment of the review either negative, positive or neutral\")\n",
    "    pros: Optional[list[str]] = Field(default=None, description=\"Write down all the pros inside a list\")\n",
    "    cons: Optional[list[str]] = Field(default=None, description=\"Write down all the cons inside a list\")\n",
    "    name: Optional[str] = Field(default=None, description=\"Write the name of the reviewer\")\n",
    "    \n",
    "\n",
    "structured_model = model.with_structured_output(Review)\n",
    "\n",
    "result = structured_model.invoke(\"\"\"I recently upgraded to the Samsung Galaxy S24 Ultra, and I must say, it’s an absolute powerhouse! The Snapdragon 8 Gen 3 processor makes everything lightning fast—whether I’m gaming, multitasking, or editing photos. The 5000mAh battery easily lasts a full day even with heavy use, and the 45W fast charging is a lifesaver.\n",
    "\n",
    "The S-Pen integration is a great touch for note-taking and quick sketches, though I don't use it often. What really blew me away is the 200MP camera—the night mode is stunning, capturing crisp, vibrant images even in low light. Zooming up to 100x actually works well for distant objects, but anything beyond 30x loses quality.\n",
    "\n",
    "However, the weight and size make it a bit uncomfortable for one-handed use. Also, Samsung’s One UI still comes with bloatware—why do I need five different Samsung apps for things Google already provides? The $1,300 price tag is also a hard pill to swallow.\n",
    "\n",
    "Pros:\n",
    "Insanely powerful processor (great for gaming and productivity)\n",
    "Stunning 200MP camera with incredible zoom capabilities\n",
    "Long battery life with fast charging\n",
    "S-Pen support is unique and useful\n",
    "                                 \n",
    "Review by Shaheeer\n",
    "\"\"\")\n",
    "\n",
    "print(result)"
   ]
  }
 ],
 "metadata": {
  "kernelspec": {
   "display_name": "base",
   "language": "python",
   "name": "python3"
  },
  "language_info": {
   "codemirror_mode": {
    "name": "ipython",
    "version": 3
   },
   "file_extension": ".py",
   "mimetype": "text/x-python",
   "name": "python",
   "nbconvert_exporter": "python",
   "pygments_lexer": "ipython3",
   "version": "3.13.5"
  },
  "papermill": {
   "default_parameters": {},
   "duration": 13.057316,
   "end_time": "2025-06-30T07:42:48.794141",
   "environment_variables": {},
   "exception": null,
   "input_path": "__notebook__.ipynb",
   "output_path": "__notebook__.ipynb",
   "parameters": {},
   "start_time": "2025-06-30T07:42:35.736825",
   "version": "2.6.0"
  }
 },
 "nbformat": 4,
 "nbformat_minor": 5
}
