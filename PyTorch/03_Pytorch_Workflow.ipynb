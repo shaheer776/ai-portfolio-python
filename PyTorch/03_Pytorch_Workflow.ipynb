{
 "cells": [
  {
   "cell_type": "markdown",
   "id": "aa2d46ec",
   "metadata": {},
   "source": [
    "# 🧠 PyTorch Workflow\n",
    "---\n",
    "This notebook provides a comprehensive introduction to **PyTorch**, covering essential topics, theory, functions, and practical examples. \n",
    "\n",
    "📘 **Official Documentation**: [https://pytorch.org/docs/stable/index.html](https://pytorch.org/docs/stable/index.html)\n",
    "\n",
    "📘 **Official Pytorch Cheatsheet**: [https://docs.pytorch.org/tutorials/beginner/ptcheat.html](https://docs.pytorch.org/tutorials/beginner/ptcheat.html)\n",
    "\n",
    "📘 **Notebook Resource**: [https://www.learnpytorch.io/01_pytorch_workflow/](https://www.learnpytorch.io/01_pytorch_workflow/)\n",
    "\n",
    "---\n",
    "\n",
    "## 📑 Contents\n",
    "1. Linear Regression\n",
    "2. Preparing Data\n",
    "3. Split Dataset\n",
    "4. Visualize Dataset\n",
    "4. Build Model\n",
    "5. Loss Functions\n",
    "6. Optimization\n",
    "7. Building Training Loop\n",
    "8. Building Testing Loop\n",
    "9. Training\n",
    "10. Evaluation\n",
    "11. Saving and Loading Model\n",
    "12. Summary (Whole process on GPU)\n"
   ]
  },
  {
   "cell_type": "code",
   "execution_count": 969,
   "id": "7cb563eb",
   "metadata": {},
   "outputs": [
    {
     "data": {
      "text/plain": [
       "{1: 'data (prepare and load)',\n",
       " 2: 'build model',\n",
       " 3: 'fitting the model to data (training)',\n",
       " 4: 'making predictions and evaluating model (inference)',\n",
       " 5: 'saving and loading a model',\n",
       " 6: 'putting all together'}"
      ]
     },
     "execution_count": 969,
     "metadata": {},
     "output_type": "execute_result"
    }
   ],
   "source": [
    "Workflow_in_general = {1: \"data (prepare and load)\",\n",
    "                       2: \"build model\",\n",
    "                       3: \"fitting the model to data (training)\",\n",
    "                       4: \"making predictions and evaluating model (inference)\",\n",
    "                       5: \"saving and loading a model\",\n",
    "                       6: \"putting all together\" \n",
    "                        }\n",
    "\n",
    "Workflow_in_general"
   ]
  },
  {
   "cell_type": "code",
   "execution_count": 970,
   "id": "ad22bf3c",
   "metadata": {},
   "outputs": [],
   "source": [
    "import torch\n",
    "from torch import nn ## nn contains all of PyTorch's building block\n",
    "import matplotlib.pyplot as plt"
   ]
  },
  {
   "cell_type": "markdown",
   "id": "1193de27",
   "metadata": {},
   "source": [
    "# Linear Regression"
   ]
  },
  {
   "cell_type": "markdown",
   "id": "223d43eb",
   "metadata": {},
   "source": [
    "Let's define some parameters and try to fit the line"
   ]
  },
  {
   "cell_type": "code",
   "execution_count": 971,
   "id": "6fd9390f",
   "metadata": {},
   "outputs": [],
   "source": [
    "# Known Parameters\n",
    "\n",
    "weight = 0.7\n",
    "bias = 0.3"
   ]
  },
  {
   "cell_type": "markdown",
   "id": "60f695ba",
   "metadata": {},
   "source": [
    "## Preparing Data"
   ]
  },
  {
   "cell_type": "code",
   "execution_count": 972,
   "id": "59e3e71e",
   "metadata": {},
   "outputs": [
    {
     "data": {
      "text/plain": [
       "(tensor([[0.0000],\n",
       "         [0.0200],\n",
       "         [0.0400],\n",
       "         [0.0600],\n",
       "         [0.0800],\n",
       "         [0.1000],\n",
       "         [0.1200],\n",
       "         [0.1400],\n",
       "         [0.1600],\n",
       "         [0.1800]]),\n",
       " tensor([[0.3000],\n",
       "         [0.3140],\n",
       "         [0.3280],\n",
       "         [0.3420],\n",
       "         [0.3560],\n",
       "         [0.3700],\n",
       "         [0.3840],\n",
       "         [0.3980],\n",
       "         [0.4120],\n",
       "         [0.4260]]),\n",
       " 50,\n",
       " 50,\n",
       " torch.Size([50, 1]))"
      ]
     },
     "execution_count": 972,
     "metadata": {},
     "output_type": "execute_result"
    }
   ],
   "source": [
    "start = 0\n",
    "end = 1\n",
    "step = 0.02\n",
    "\n",
    "X = torch.arange(start, end, step).unsqueeze(dim=1)\n",
    "y = weight * X + bias\n",
    "\n",
    "X[:10], y[:10], len(X), len(y), X.shape"
   ]
  },
  {
   "cell_type": "markdown",
   "id": "d9774716",
   "metadata": {},
   "source": [
    "## Splitting Dataset (Train, Test)"
   ]
  },
  {
   "cell_type": "code",
   "execution_count": 973,
   "id": "8b7cdaaf",
   "metadata": {},
   "outputs": [
    {
     "data": {
      "text/plain": [
       "40"
      ]
     },
     "execution_count": 973,
     "metadata": {},
     "output_type": "execute_result"
    }
   ],
   "source": [
    "train_split = int(0.8 * len(X))\n",
    "train_split"
   ]
  },
  {
   "cell_type": "code",
   "execution_count": 974,
   "id": "14ffe124",
   "metadata": {},
   "outputs": [
    {
     "data": {
      "text/plain": [
       "(40, 40, 10, 10)"
      ]
     },
     "execution_count": 974,
     "metadata": {},
     "output_type": "execute_result"
    }
   ],
   "source": [
    "X_train, y_train = X[:train_split], y[:train_split]\n",
    "X_test, y_test = X[train_split:], y[train_split:]\n",
    "len(X_train), len(y_train), len(X_test), len(y_test)"
   ]
  },
  {
   "cell_type": "markdown",
   "id": "d92b151b",
   "metadata": {},
   "source": [
    "## Visualizing the Dataset"
   ]
  },
  {
   "cell_type": "code",
   "execution_count": 975,
   "id": "54ee9ef6",
   "metadata": {},
   "outputs": [],
   "source": [
    "def plot_predictions(train_data=X_train,\n",
    "                     train_labels=y_train,\n",
    "                     test_data=X_test,\n",
    "                     test_labels=y_test,\n",
    "                     predictions=None):\n",
    "    \n",
    "    \"\"\"\n",
    "    Plots training data, test data and compares predictions.\n",
    "    \"\"\"\n",
    "\n",
    "    plt.figure(figsize=(10,7))\n",
    "\n",
    "    # Plot training in blue\n",
    "    plt.scatter(train_data, train_labels, c='b', s=4, label=\"Training data\")\n",
    "\n",
    "\n",
    "    # Plot training in blue\n",
    "    plt.scatter(test_data, test_labels, c='g', s=4, label=\"Testing data\")\n",
    "\n",
    "    if predictions is not None:\n",
    "\n",
    "        # plot predictions if exist\n",
    "        plt.scatter(test_data, predictions, c='r', s=4, label=\"Predictions\")\n",
    "\n",
    "    plt.legend(prop={\"size\":14})\n"
   ]
  },
  {
   "cell_type": "code",
   "execution_count": 976,
   "id": "76c8fe97",
   "metadata": {},
   "outputs": [
    {
     "data": {
      "image/png": "[encoded data removed]",
      "text/plain": [
       "<Figure size 1000x700 with 1 Axes>"
      ]
     },
     "metadata": {},
     "output_type": "display_data"
    }
   ],
   "source": [
    "plot_predictions()"
   ]
  },
  {
   "cell_type": "markdown",
   "id": "966857ea",
   "metadata": {},
   "source": [
    "# PyTorch model building essentials\n",
    "\n",
    "- `torch.nn`\tContains all of the building blocks for computational graphs (Neural Network) (essentially a series of computations executed in a particular way).\n",
    "- `torch.nn.Module` \tThe base class for all neural network modules, all the building blocks for neural networks are subclasses. If you're building a neural network in PyTorch, your models should subclass nn.Module. Requires a forward() method be implemented.\n",
    "- `torch.nn.Parameter` \tStores tensors that can be used with nn.Module. If requires_grad=True gradients (used for updating model parameters via gradient descent) are calculated automatically, this is often referred to as \"autograd\".\n",
    "- `torch.optim` \tContains various optimization algorithms (these tell the model parameters stored in nn.Parameter how to best change to improve gradient descent and in turn reduce the loss). \n",
    "- `def forward()` \tAll nn.Module subclasses require a forward() method, this defines the computation that will take place on the data passed to the particular nn.Module (e.g. the linear regression formula above)."
   ]
  },
  {
   "cell_type": "markdown",
   "id": "4e4d5dc7",
   "metadata": {},
   "source": [
    "# Build Model\n",
    "\n",
    "- create custom class (subclass nn.module)\n",
    "- create __init__ method, initialize parameters randomly - keep requires_grad = True for trainable parameters\n",
    "- create forward method\n",
    "- "
   ]
  },
  {
   "cell_type": "code",
   "execution_count": 977,
   "id": "3a05bb9d",
   "metadata": {},
   "outputs": [],
   "source": [
    "# Create Linear Regression model class\n",
    "\n",
    "class LinearRegressionModel(nn.Module):     # Almost everything in pytorch inherits from nn.module\n",
    "\n",
    "    # Init function\n",
    "\n",
    "    def __init__(self):\n",
    "        super().__init__()\n",
    "        self.weight = nn.Parameter(torch.randn(1,\n",
    "                                                requires_grad=True,\n",
    "                                                dtype=torch.float))\n",
    "        self.bias = nn.Parameter(torch.randn(1,\n",
    "                                             requires_grad=True,\n",
    "                                             dtype=torch.float))\n",
    "        \n",
    "    # Forward Method\n",
    "    def forward(self, x:torch.Tensor)->torch.Tensor: # \"x is the input data\"\n",
    "        return self.weight * x + self.bias\n",
    "    #"
   ]
  },
  {
   "cell_type": "code",
   "execution_count": 978,
   "id": "ca8c2e54",
   "metadata": {},
   "outputs": [
    {
     "data": {
      "text/plain": [
       "OrderedDict([('weight', tensor([0.3367])), ('bias', tensor([0.1288]))])"
      ]
     },
     "execution_count": 978,
     "metadata": {},
     "output_type": "execute_result"
    }
   ],
   "source": [
    "# Set Seed\n",
    "\n",
    "torch.manual_seed(42)\n",
    "\n",
    "# Create instance of model\n",
    "\n",
    "model_0 = LinearRegressionModel()\n",
    "\n",
    "# List model parameters\n",
    "model_0.state_dict()"
   ]
  },
  {
   "cell_type": "markdown",
   "id": "e7ed38ba",
   "metadata": {},
   "source": [
    "## Making Predictions (before training)"
   ]
  },
  {
   "cell_type": "code",
   "execution_count": 979,
   "id": "cbeebc74",
   "metadata": {},
   "outputs": [
    {
     "data": {
      "text/plain": [
       "tensor([[0.3982],\n",
       "        [0.4049],\n",
       "        [0.4116],\n",
       "        [0.4184],\n",
       "        [0.4251],\n",
       "        [0.4318],\n",
       "        [0.4386],\n",
       "        [0.4453],\n",
       "        [0.4520],\n",
       "        [0.4588]])"
      ]
     },
     "execution_count": 979,
     "metadata": {},
     "output_type": "execute_result"
    }
   ],
   "source": [
    "with torch.inference_mode():\n",
    "    y_preds = model_0(X_test)\n",
    "\n",
    "y_preds"
   ]
  },
  {
   "cell_type": "code",
   "execution_count": 980,
   "id": "4b79b61e",
   "metadata": {},
   "outputs": [
    {
     "data": {
      "image/png": "[encoded data removed]",
      "text/plain": [
       "<Figure size 1000x700 with 1 Axes>"
      ]
     },
     "metadata": {},
     "output_type": "display_data"
    }
   ],
   "source": [
    "plot_predictions(predictions=y_preds)"
   ]
  },
  {
   "cell_type": "markdown",
   "id": "36a3372f",
   "metadata": {},
   "source": [
    "# Loss Function\n",
    "\n",
    "Measures how wrong your model's predictions (e.g. y_preds) are compared to the truth labels (e.g. y_test). Lower the better. It is also called Criterion."
   ]
  },
  {
   "cell_type": "code",
   "execution_count": 981,
   "id": "8e64e342",
   "metadata": {},
   "outputs": [],
   "source": [
    "loss_function = nn.L1Loss()"
   ]
  },
  {
   "cell_type": "markdown",
   "id": "e24370fd",
   "metadata": {},
   "source": [
    "# Optimizer\n",
    "\n",
    "Tells your model how to update its internal parameters to best lower the loss."
   ]
  },
  {
   "cell_type": "code",
   "execution_count": 982,
   "id": "df6023ee",
   "metadata": {},
   "outputs": [],
   "source": [
    "optimizer = torch.optim.SGD(params=model_0.parameters(),\n",
    "                            lr=0.01)"
   ]
  },
  {
   "cell_type": "markdown",
   "id": "cbc0a302",
   "metadata": {},
   "source": [
    "# Building Training Loop\n",
    "\n",
    "- Loop through the data\n",
    "- Forward Pass - (data moving through the model's forward () function)\n",
    "- Calculate the loss\n",
    "- Optimizer zero grad\n",
    "- Loss backward - Calculate gradients of each of model parameters\n",
    "- Optimizer step - use optimizer to adjust the model's parameters to reduce the loss"
   ]
  },
  {
   "cell_type": "code",
   "execution_count": 983,
   "id": "a0b3e4b3",
   "metadata": {},
   "outputs": [
    {
     "name": "stdout",
     "output_type": "stream",
     "text": [
      "Epoch: 0, | Loss: 0.31288138031959534, | Test Loss: 0.48106518387794495\n",
      "OrderedDict({'weight': tensor([0.3406]), 'bias': tensor([0.1388])})\n",
      "Epoch: 10, | Loss: 0.1976713240146637, | Test Loss: 0.3463551998138428\n",
      "OrderedDict({'weight': tensor([0.3796]), 'bias': tensor([0.2388])})\n",
      "Epoch: 20, | Loss: 0.08908725529909134, | Test Loss: 0.21729660034179688\n",
      "OrderedDict({'weight': tensor([0.4184]), 'bias': tensor([0.3333])})\n",
      "Epoch: 30, | Loss: 0.053148526698350906, | Test Loss: 0.14464017748832703\n",
      "OrderedDict({'weight': tensor([0.4512]), 'bias': tensor([0.3768])})\n",
      "Epoch: 40, | Loss: 0.04543796554207802, | Test Loss: 0.11360953003168106\n",
      "OrderedDict({'weight': tensor([0.4748]), 'bias': tensor([0.3868])})\n",
      "Epoch: 50, | Loss: 0.04167863354086876, | Test Loss: 0.09919948130846024\n",
      "OrderedDict({'weight': tensor([0.4938]), 'bias': tensor([0.3843])})\n",
      "Epoch: 60, | Loss: 0.03818932920694351, | Test Loss: 0.08886633068323135\n",
      "OrderedDict({'weight': tensor([0.5116]), 'bias': tensor([0.3788])})\n",
      "Epoch: 70, | Loss: 0.03476089984178543, | Test Loss: 0.0805937647819519\n",
      "OrderedDict({'weight': tensor([0.5288]), 'bias': tensor([0.3718])})\n",
      "Epoch: 80, | Loss: 0.03132382780313492, | Test Loss: 0.07232122868299484\n",
      "OrderedDict({'weight': tensor([0.5459]), 'bias': tensor([0.3648])})\n",
      "Epoch: 90, | Loss: 0.02788739837706089, | Test Loss: 0.06473556160926819\n",
      "OrderedDict({'weight': tensor([0.5629]), 'bias': tensor([0.3573])})\n",
      "Epoch: 100, | Loss: 0.024458957836031914, | Test Loss: 0.05646304413676262\n",
      "OrderedDict({'weight': tensor([0.5800]), 'bias': tensor([0.3503])})\n",
      "Epoch: 110, | Loss: 0.021020207554101944, | Test Loss: 0.04819049686193466\n",
      "OrderedDict({'weight': tensor([0.5972]), 'bias': tensor([0.3433])})\n",
      "Epoch: 120, | Loss: 0.01758546568453312, | Test Loss: 0.04060482233762741\n",
      "OrderedDict({'weight': tensor([0.6141]), 'bias': tensor([0.3358])})\n",
      "Epoch: 130, | Loss: 0.014155393466353416, | Test Loss: 0.03233227878808975\n",
      "OrderedDict({'weight': tensor([0.6313]), 'bias': tensor([0.3288])})\n",
      "Epoch: 140, | Loss: 0.010716589167714119, | Test Loss: 0.024059748277068138\n",
      "OrderedDict({'weight': tensor([0.6485]), 'bias': tensor([0.3218])})\n",
      "Epoch: 150, | Loss: 0.0072835334576666355, | Test Loss: 0.016474086791276932\n",
      "OrderedDict({'weight': tensor([0.6654]), 'bias': tensor([0.3143])})\n",
      "Epoch: 160, | Loss: 0.0038517764769494534, | Test Loss: 0.008201557211577892\n",
      "OrderedDict({'weight': tensor([0.6826]), 'bias': tensor([0.3073])})\n",
      "Epoch: 170, | Loss: 0.008932482451200485, | Test Loss: 0.005023092031478882\n",
      "OrderedDict({'weight': tensor([0.6951]), 'bias': tensor([0.2993])})\n",
      "Epoch: 180, | Loss: 0.008932482451200485, | Test Loss: 0.005023092031478882\n",
      "OrderedDict({'weight': tensor([0.6951]), 'bias': tensor([0.2993])})\n",
      "Epoch: 190, | Loss: 0.008932482451200485, | Test Loss: 0.005023092031478882\n",
      "OrderedDict({'weight': tensor([0.6951]), 'bias': tensor([0.2993])})\n"
     ]
    }
   ],
   "source": [
    "torch.manual_seed(42)\n",
    "\n",
    "epochs = 200\n",
    "\n",
    "train_loss_value = []\n",
    "test_loss_value = []\n",
    "epoch_count = []\n",
    "\n",
    "for epoch in range(epochs):\n",
    "\n",
    "    model_0.train() # turns on gradient tracking\n",
    "\n",
    "    # Forward pass\n",
    "    y_pred = model_0(X_train)\n",
    "\n",
    "    # Calculate Loss\n",
    "    loss = loss_function(y_pred,y_train)\n",
    "\n",
    "    # Optimizer zero grad\n",
    "    optimizer.zero_grad()\n",
    "\n",
    "    # Backpropogation\n",
    "    loss.backward()\n",
    "\n",
    "    # Step optimizer\n",
    "    optimizer.step()\n",
    "\n",
    "    model_0.eval()\n",
    "\n",
    "    with torch.inference_mode():\n",
    "        test_pred = model_0(X_test)\n",
    "\n",
    "        test_loss = loss_function(test_pred, y_test.type(torch.float))\n",
    "\n",
    "    if epoch % 10 ==0:\n",
    "\n",
    "        epoch_count.append(epoch)\n",
    "        train_loss_value.append(loss.detach().numpy())\n",
    "        test_loss_value.append(test_loss.detach().numpy())\n",
    "\n",
    "        print(f\"Epoch: {epoch}, | Loss: {loss}, | Test Loss: {test_loss}\")\n",
    "        print(model_0.state_dict())"
   ]
  },
  {
   "cell_type": "code",
   "execution_count": 984,
   "id": "1e689d56",
   "metadata": {},
   "outputs": [
    {
     "data": {
      "text/plain": [
       "OrderedDict([('weight', tensor([0.6990])), ('bias', tensor([0.3093]))])"
      ]
     },
     "execution_count": 984,
     "metadata": {},
     "output_type": "execute_result"
    }
   ],
   "source": [
    "model_0.state_dict()"
   ]
  },
  {
   "cell_type": "code",
   "execution_count": 985,
   "id": "9601b22e",
   "metadata": {},
   "outputs": [],
   "source": [
    "# Test Code\n",
    "\n",
    "model_0.eval()\n",
    "\n",
    "with torch.inference_mode():\n",
    "    test_pred = model_0(X_test)\n",
    "\n",
    "    test_loss = loss_function(test_pred, y_test)"
   ]
  },
  {
   "cell_type": "code",
   "execution_count": 986,
   "id": "81b501d2",
   "metadata": {},
   "outputs": [
    {
     "data": {
      "image/png": "[encoded data removed]",
      "text/plain": [
       "<Figure size 1000x700 with 1 Axes>"
      ]
     },
     "metadata": {},
     "output_type": "display_data"
    }
   ],
   "source": [
    "plot_predictions(predictions=test_pred)"
   ]
  },
  {
   "cell_type": "markdown",
   "id": "e3db4135",
   "metadata": {},
   "source": [
    "Plot Loss Curves\n"
   ]
  },
  {
   "cell_type": "code",
   "execution_count": 987,
   "id": "3f310cc7",
   "metadata": {},
   "outputs": [
    {
     "data": {
      "text/plain": [
       "<matplotlib.legend.Legend at 0x1d0888a49b0>"
      ]
     },
     "execution_count": 987,
     "metadata": {},
     "output_type": "execute_result"
    },
    {
     "data": {
      "image/png": "[encoded data removed]",
      "text/plain": [
       "<Figure size 640x480 with 1 Axes>"
      ]
     },
     "metadata": {},
     "output_type": "display_data"
    }
   ],
   "source": [
    "plt.plot(epoch_count, train_loss_value, label= \"Train Loss\")\n",
    "plt.plot(epoch_count, test_loss_value, label= \"Test Loss\")\n",
    "plt.title(\"Training and Test Loss curves\")\n",
    "plt.ylabel(\"Loss\")\n",
    "plt.xlabel(\"Epochs\")\n",
    "plt.legend()"
   ]
  },
  {
   "cell_type": "markdown",
   "id": "be30983f",
   "metadata": {},
   "source": [
    "# Saving a Model in Pytorch\n",
    "\n",
    "- `torch.save()` - allows you to save a Pytorch object in Python's pickle format\n",
    "- `torch.load()` - allows you to load a saved Pytorch object\n",
    "- `torch.nn.Module.load_state_dict()` - this allows you to load a model's saved state dictionary"
   ]
  },
  {
   "cell_type": "code",
   "execution_count": 988,
   "id": "841743fc",
   "metadata": {},
   "outputs": [
    {
     "data": {
      "text/plain": [
       "WindowsPath('models/01_Model_01.pth')"
      ]
     },
     "execution_count": 988,
     "metadata": {},
     "output_type": "execute_result"
    }
   ],
   "source": [
    "from pathlib import Path\n",
    "\n",
    "MODEL_PATH = Path(\"models\")\n",
    "MODEL_PATH.mkdir(parents=True, exist_ok=True)\n",
    "\n",
    "MODEL_NAME = \"01_Model_01.pth\"\n",
    "MODEL_SAVE_PATH = MODEL_PATH / MODEL_NAME\n",
    "MODEL_SAVE_PATH"
   ]
  },
  {
   "cell_type": "code",
   "execution_count": 989,
   "id": "3591790a",
   "metadata": {},
   "outputs": [
    {
     "name": "stdout",
     "output_type": "stream",
     "text": [
      "Saving model to: models\\01_Model_01.pth\n"
     ]
    }
   ],
   "source": [
    "print(f'Saving model to: {MODEL_SAVE_PATH}')\n",
    "torch.save(obj=model_0.state_dict(), f=MODEL_SAVE_PATH)"
   ]
  },
  {
   "cell_type": "markdown",
   "id": "e7a773a0",
   "metadata": {},
   "source": [
    "# Loading a Model in Pytorch"
   ]
  },
  {
   "cell_type": "code",
   "execution_count": 990,
   "id": "59fb6969",
   "metadata": {},
   "outputs": [
    {
     "data": {
      "text/plain": [
       "<All keys matched successfully>"
      ]
     },
     "execution_count": 990,
     "metadata": {},
     "output_type": "execute_result"
    }
   ],
   "source": [
    "# To load in a saved state_dict we have to instantiate a new instance of our model class\n",
    "\n",
    "loaded_model_0 = LinearRegressionModel()\n",
    "\n",
    "loaded_model_0.load_state_dict(torch.load(f=MODEL_SAVE_PATH))"
   ]
  },
  {
   "cell_type": "code",
   "execution_count": 991,
   "id": "7bb0a300",
   "metadata": {},
   "outputs": [
    {
     "data": {
      "text/plain": [
       "OrderedDict([('weight', tensor([0.6990])), ('bias', tensor([0.3093]))])"
      ]
     },
     "execution_count": 991,
     "metadata": {},
     "output_type": "execute_result"
    }
   ],
   "source": [
    "loaded_model_0.state_dict()"
   ]
  },
  {
   "cell_type": "markdown",
   "id": "b1bef62d",
   "metadata": {},
   "source": [
    "# Summary (Now lets summarize and put all process in one place & on GPU)"
   ]
  },
  {
   "cell_type": "markdown",
   "id": "8b7929dd",
   "metadata": {},
   "source": [
    "### Imports"
   ]
  },
  {
   "cell_type": "code",
   "execution_count": 1025,
   "id": "decbfc02",
   "metadata": {},
   "outputs": [],
   "source": [
    "import torch\n",
    "import numpy as np\n",
    "import matplotlib.pyplot as plt\n"
   ]
  },
  {
   "cell_type": "markdown",
   "id": "24c15e56",
   "metadata": {},
   "source": [
    "### Device Agnostic Code"
   ]
  },
  {
   "cell_type": "code",
   "execution_count": 1035,
   "id": "b1311495",
   "metadata": {},
   "outputs": [
    {
     "name": "stdout",
     "output_type": "stream",
     "text": [
      "Using device: cuda\n"
     ]
    }
   ],
   "source": [
    "# Device agnostic code\n",
    "\n",
    "device = 'cuda' if torch.cuda.is_available() else 'cpu'\n",
    "print(f'Using device: {device}')\n"
   ]
  },
  {
   "cell_type": "markdown",
   "id": "dc8cc92b",
   "metadata": {},
   "source": [
    "### Data\n",
    "\n",
    "Lets make some data using y = mx + b to apply linear regression model\n"
   ]
  },
  {
   "cell_type": "code",
   "execution_count": 1036,
   "id": "6879279e",
   "metadata": {},
   "outputs": [],
   "source": [
    "weight = 0.7\n",
    "bias = 0.3\n",
    "\n",
    "# Create Range values\n",
    "start = 0\n",
    "end = 1\n",
    "step = 0.02\n",
    "\n",
    "# Create X and y\n",
    "\n",
    "X = torch.arange(start,end,step).unsqueeze(dim=1)\n",
    "y = weight * X + bias"
   ]
  },
  {
   "cell_type": "code",
   "execution_count": 1037,
   "id": "f6fb600e",
   "metadata": {},
   "outputs": [
    {
     "data": {
      "text/plain": [
       "(tensor([[0.0000],\n",
       "         [0.0200],\n",
       "         [0.0400],\n",
       "         [0.0600],\n",
       "         [0.0800],\n",
       "         [0.1000],\n",
       "         [0.1200],\n",
       "         [0.1400],\n",
       "         [0.1600],\n",
       "         [0.1800]]),\n",
       " tensor([[0.3000],\n",
       "         [0.3140],\n",
       "         [0.3280],\n",
       "         [0.3420],\n",
       "         [0.3560],\n",
       "         [0.3700],\n",
       "         [0.3840],\n",
       "         [0.3980],\n",
       "         [0.4120],\n",
       "         [0.4260]]))"
      ]
     },
     "execution_count": 1037,
     "metadata": {},
     "output_type": "execute_result"
    }
   ],
   "source": [
    "X[:10], y [:10]"
   ]
  },
  {
   "cell_type": "markdown",
   "id": "ef23c6a5",
   "metadata": {},
   "source": [
    "### Split Data"
   ]
  },
  {
   "cell_type": "code",
   "execution_count": 1038,
   "id": "15dcf813",
   "metadata": {},
   "outputs": [
    {
     "data": {
      "text/plain": [
       "(40, 40, 10, 10)"
      ]
     },
     "execution_count": 1038,
     "metadata": {},
     "output_type": "execute_result"
    }
   ],
   "source": [
    "train_split = int(0.8 * len(X))\n",
    "X_train, y_train = X[:train_split], y[:train_split]\n",
    "X_test, y_test = X[train_split:], y[train_split:]\n",
    "len(X_train), len(y_train), len (X_test), len(y_test)"
   ]
  },
  {
   "cell_type": "code",
   "execution_count": 1039,
   "id": "e8e635e9",
   "metadata": {},
   "outputs": [
    {
     "data": {
      "image/png": "[encoded data removed]",
      "text/plain": [
       "<Figure size 1000x700 with 1 Axes>"
      ]
     },
     "metadata": {},
     "output_type": "display_data"
    }
   ],
   "source": [
    "plot_predictions(X_train,y_train,X_test,y_test)"
   ]
  },
  {
   "cell_type": "markdown",
   "id": "af9e1aa8",
   "metadata": {},
   "source": [
    "### Build a Model"
   ]
  },
  {
   "cell_type": "code",
   "execution_count": 1040,
   "id": "f6bacf57",
   "metadata": {},
   "outputs": [
    {
     "data": {
      "text/plain": [
       "(LinearRegressionModelV2(\n",
       "   (linear_layer): Linear(in_features=1, out_features=1, bias=True)\n",
       " ),\n",
       " OrderedDict([('linear_layer.weight', tensor([[0.7645]])),\n",
       "              ('linear_layer.bias', tensor([0.8300]))]))"
      ]
     },
     "execution_count": 1040,
     "metadata": {},
     "output_type": "execute_result"
    }
   ],
   "source": [
    "class LinearRegressionModelV2(nn.Module):\n",
    "    def __init__(self):\n",
    "        super().__init__()\n",
    "        \n",
    "        # Use Linear for parameters (weights and biases)\n",
    "        self.linear_layer = nn.Linear(in_features=1, out_features=1)\n",
    "\n",
    "    \n",
    "    def forward(self, x):\n",
    "        return self.linear_layer(x)\n",
    "    \n",
    "torch.manual_seed(42)\n",
    "\n",
    "model_1 = LinearRegressionModelV2()\n",
    "model_1, model_1.state_dict()\n"
   ]
  },
  {
   "cell_type": "code",
   "execution_count": 1041,
   "id": "d6a2c2a9",
   "metadata": {},
   "outputs": [
    {
     "data": {
      "text/plain": [
       "device(type='cpu')"
      ]
     },
     "execution_count": 1041,
     "metadata": {},
     "output_type": "execute_result"
    }
   ],
   "source": [
    "# Check model current device\n",
    "\n",
    "next(model_1.parameters()).device"
   ]
  },
  {
   "cell_type": "code",
   "execution_count": 1042,
   "id": "16847cb0",
   "metadata": {},
   "outputs": [
    {
     "data": {
      "text/plain": [
       "device(type='cuda', index=0)"
      ]
     },
     "execution_count": 1042,
     "metadata": {},
     "output_type": "execute_result"
    }
   ],
   "source": [
    "# Transferring model to GPU\n",
    "model_1.to(device)\n",
    "next(model_1.parameters()).device"
   ]
  },
  {
   "cell_type": "code",
   "execution_count": 1043,
   "id": "d79e4da3",
   "metadata": {},
   "outputs": [
    {
     "data": {
      "text/plain": [
       "torch.Size([40, 1])"
      ]
     },
     "execution_count": 1043,
     "metadata": {},
     "output_type": "execute_result"
    }
   ],
   "source": [
    "X_train.shape"
   ]
  },
  {
   "cell_type": "markdown",
   "id": "d53c9af7",
   "metadata": {},
   "source": [
    "### Training\n",
    "\n",
    "For training, we need:\n",
    "- Loss function\n",
    "- Optimizer\n",
    "- Training Loop\n",
    "- Testing Loop"
   ]
  },
  {
   "cell_type": "code",
   "execution_count": 1044,
   "id": "cb865080",
   "metadata": {},
   "outputs": [
    {
     "name": "stdout",
     "output_type": "stream",
     "text": [
      "Epoch: 0 | Loss: 0.5551779866218567 | Test loss: 0.5739762187004089\n",
      "Epoch: 10 | Loss: 0.439968079328537 | Test loss: 0.4392664134502411\n",
      "Epoch: 20 | Loss: 0.3247582018375397 | Test loss: 0.30455657839775085\n",
      "Epoch: 30 | Loss: 0.20954833924770355 | Test loss: 0.16984669864177704\n",
      "Epoch: 40 | Loss: 0.09433845430612564 | Test loss: 0.03513690456748009\n",
      "Epoch: 50 | Loss: 0.023886388167738914 | Test loss: 0.04784907028079033\n",
      "Epoch: 60 | Loss: 0.019956795498728752 | Test loss: 0.045803118497133255\n",
      "Epoch: 70 | Loss: 0.016517987474799156 | Test loss: 0.037530567497015\n",
      "Epoch: 80 | Loss: 0.013089174404740334 | Test loss: 0.02994490973651409\n",
      "Epoch: 90 | Loss: 0.009653178043663502 | Test loss: 0.02167237363755703\n",
      "Epoch: 100 | Loss: 0.006215683650225401 | Test loss: 0.014086711220443249\n",
      "Epoch: 110 | Loss: 0.00278724217787385 | Test loss: 0.005814164876937866\n",
      "Epoch: 120 | Loss: 0.0012645035749301314 | Test loss: 0.013801801018416882\n",
      "Epoch: 130 | Loss: 0.0012645035749301314 | Test loss: 0.013801801018416882\n",
      "Epoch: 140 | Loss: 0.0012645035749301314 | Test loss: 0.013801801018416882\n",
      "Epoch: 150 | Loss: 0.0012645035749301314 | Test loss: 0.013801801018416882\n",
      "Epoch: 160 | Loss: 0.0012645035749301314 | Test loss: 0.013801801018416882\n",
      "Epoch: 170 | Loss: 0.0012645035749301314 | Test loss: 0.013801801018416882\n",
      "Epoch: 180 | Loss: 0.0012645035749301314 | Test loss: 0.013801801018416882\n",
      "Epoch: 190 | Loss: 0.0012645035749301314 | Test loss: 0.013801801018416882\n"
     ]
    }
   ],
   "source": [
    "# Loss function\n",
    "loss_function = nn.L1Loss()\n",
    "\n",
    "# Optimizer\n",
    "optimizer = torch.optim.SGD(params=model_1.parameters(),\n",
    "                            lr=0.01)\n",
    "\n",
    "# Training Loop\n",
    "torch.manual_seed(42)\n",
    "\n",
    "epochs = 200\n",
    "\n",
    "# Put data on target device\n",
    "X_train = X_train.to(device)\n",
    "y_train = y_train.to(device)\n",
    "X_test = X_test.to(device)\n",
    "y_test = y_test.to(device)\n",
    "\n",
    "for epoch in range(epochs):\n",
    "    model_1.train()\n",
    "\n",
    "    # Forward pass\n",
    "    y_pred = model_1(X_train)\n",
    "\n",
    "    # Loss\n",
    "    loss = loss_function(y_pred, y_train)\n",
    "\n",
    "    # Optimizer zero grad\n",
    "    optimizer.zero_grad()\n",
    "\n",
    "    # Backpropogation\n",
    "    loss.backward()\n",
    "\n",
    "    # Opimizer Step\n",
    "    optimizer.step()\n",
    "\n",
    "    # Testing\n",
    "    model_1.eval()\n",
    "\n",
    "\n",
    "    with torch.inference_mode():\n",
    "        \n",
    "        test_pred = model_1(X_test)\n",
    "\n",
    "        test_loss = loss_function(test_pred, y_test)\n",
    "    \n",
    "    # print whats happenening\n",
    "\n",
    "    if epoch % 10 == 0:\n",
    "        print(f'Epoch: {epoch} | Loss: {loss} | Test loss: {test_loss}')\n"
   ]
  },
  {
   "cell_type": "code",
   "execution_count": 1045,
   "id": "d689bc0b",
   "metadata": {},
   "outputs": [
    {
     "data": {
      "text/plain": [
       "OrderedDict([('linear_layer.weight', tensor([[0.6968]], device='cuda:0')),\n",
       "             ('linear_layer.bias', tensor([0.3025], device='cuda:0'))])"
      ]
     },
     "execution_count": 1045,
     "metadata": {},
     "output_type": "execute_result"
    }
   ],
   "source": [
    "model_1.state_dict()"
   ]
  },
  {
   "cell_type": "markdown",
   "id": "9ceedaf3",
   "metadata": {},
   "source": [
    "### Evaluate Model"
   ]
  },
  {
   "cell_type": "code",
   "execution_count": 1048,
   "id": "c0954571",
   "metadata": {},
   "outputs": [
    {
     "data": {
      "text/plain": [
       "tensor([[0.8600],\n",
       "        [0.8739],\n",
       "        [0.8878],\n",
       "        [0.9018],\n",
       "        [0.9157],\n",
       "        [0.9296],\n",
       "        [0.9436],\n",
       "        [0.9575],\n",
       "        [0.9714],\n",
       "        [0.9854]], device='cuda:0')"
      ]
     },
     "execution_count": 1048,
     "metadata": {},
     "output_type": "execute_result"
    }
   ],
   "source": [
    "model_1.eval()\n",
    "\n",
    "with torch.inference_mode():\n",
    "    test_pred = model_1(X_test)\n",
    "    test_loss = loss_function(test_pred,y_test)\n",
    "test_pred"
   ]
  },
  {
   "cell_type": "code",
   "execution_count": 1049,
   "id": "893345e4",
   "metadata": {},
   "outputs": [
    {
     "data": {
      "image/png": "[encoded data removed]",
      "text/plain": [
       "<Figure size 1000x700 with 1 Axes>"
      ]
     },
     "metadata": {},
     "output_type": "display_data"
    }
   ],
   "source": [
    "plot_predictions(predictions=test_pred.cpu())"
   ]
  },
  {
   "cell_type": "markdown",
   "id": "86c30ada",
   "metadata": {},
   "source": [
    "### Saving Model"
   ]
  },
  {
   "cell_type": "code",
   "execution_count": 1050,
   "id": "85d545ff",
   "metadata": {},
   "outputs": [
    {
     "name": "stdout",
     "output_type": "stream",
     "text": [
      "Saving model to: models\\01_model_01.pth\n"
     ]
    }
   ],
   "source": [
    "from pathlib import Path\n",
    "\n",
    "MODEL_PATH = Path('models')\n",
    "MODEL_PATH.mkdir(parents=True, exist_ok=True)\n",
    "\n",
    "MODEL_NAME = \"01_model_01.pth\"\n",
    "MODEL_SAVE_PATH = MODEL_PATH / MODEL_NAME\n",
    "\n",
    "print(f'Saving model to: {MODEL_SAVE_PATH}')\n",
    "torch.save(obj=model_1.state_dict(), f=MODEL_SAVE_PATH)"
   ]
  },
  {
   "cell_type": "markdown",
   "id": "9a9c4a14",
   "metadata": {},
   "source": [
    "### Loading Model"
   ]
  },
  {
   "cell_type": "code",
   "execution_count": 1052,
   "id": "425ee4af",
   "metadata": {},
   "outputs": [
    {
     "data": {
      "text/plain": [
       "LinearRegressionModelV2(\n",
       "  (linear_layer): Linear(in_features=1, out_features=1, bias=True)\n",
       ")"
      ]
     },
     "execution_count": 1052,
     "metadata": {},
     "output_type": "execute_result"
    }
   ],
   "source": [
    "loaded_model_1 = LinearRegressionModelV2()\n",
    "\n",
    "loaded_model_1.load_state_dict(torch.load(MODEL_SAVE_PATH))\n",
    "\n",
    "loaded_model_1.to(device)"
   ]
  },
  {
   "cell_type": "code",
   "execution_count": 1053,
   "id": "2ef9a09e",
   "metadata": {},
   "outputs": [
    {
     "data": {
      "text/plain": [
       "OrderedDict([('linear_layer.weight', tensor([[0.6968]], device='cuda:0')),\n",
       "             ('linear_layer.bias', tensor([0.3025], device='cuda:0'))])"
      ]
     },
     "execution_count": 1053,
     "metadata": {},
     "output_type": "execute_result"
    }
   ],
   "source": [
    "loaded_model_1.state_dict()"
   ]
  },
  {
   "cell_type": "markdown",
   "id": "8e97e719",
   "metadata": {},
   "source": [
    "### Verifying"
   ]
  },
  {
   "cell_type": "code",
   "execution_count": 1055,
   "id": "bf95ce86",
   "metadata": {},
   "outputs": [
    {
     "data": {
      "text/plain": [
       "tensor([[True],\n",
       "        [True],\n",
       "        [True],\n",
       "        [True],\n",
       "        [True],\n",
       "        [True],\n",
       "        [True],\n",
       "        [True],\n",
       "        [True],\n",
       "        [True]], device='cuda:0')"
      ]
     },
     "execution_count": 1055,
     "metadata": {},
     "output_type": "execute_result"
    }
   ],
   "source": [
    "loaded_model_1.eval()\n",
    "\n",
    "with torch.inference_mode():\n",
    "    loaded_model_1_preds = loaded_model_1(X_test)\n",
    "\n",
    "test_pred == loaded_model_1_preds\n"
   ]
  }
 ],
 "metadata": {
  "kernelspec": {
   "display_name": "base",
   "language": "python",
   "name": "python3"
  },
  "language_info": {
   "codemirror_mode": {
    "name": "ipython",
    "version": 3
   },
   "file_extension": ".py",
   "mimetype": "text/x-python",
   "name": "python",
   "nbconvert_exporter": "python",
   "pygments_lexer": "ipython3",
   "version": "3.12.4"
  }
 },
 "nbformat": 4,
 "nbformat_minor": 5
}
