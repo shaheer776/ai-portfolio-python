{
 "cells": [
  {
   "cell_type": "markdown",
   "id": "06759be5",
   "metadata": {},
   "source": [
    "# 🔁 Control Flow in Python\n",
    "This notebook covers:\n",
    "- Conditional statements: `if`, `elif`, `else`\n",
    "- Loops: `for`, `while`\n",
    "- Loop control statements: `break`, `continue`, `pass`\n",
    "- Nested conditionals and loops\n",
    "- Best practices\n",
    "\n",
    "🔗 [Official Python Control Flow Docs](https://docs.python.org/3/tutorial/controlflow.html)"
   ]
  },
  {
   "cell_type": "markdown",
   "id": "1a689e2f",
   "metadata": {},
   "source": [
    "## 📌 Conditional Statements\n",
    "Conditional statements allow us to execute different blocks of code based on conditions.\n",
    "Syntax:\n",
    "```python\n",
    "if condition:\n",
    "    # block\n",
    "elif another_condition:\n",
    "    # block\n",
    "else:\n",
    "    # block\n",
    "```"
   ]
  },
  {
   "cell_type": "code",
   "execution_count": 1,
   "id": "869b1715",
   "metadata": {},
   "outputs": [
    {
     "name": "stdout",
     "output_type": "stream",
     "text": [
      "Positive\n"
     ]
    }
   ],
   "source": [
    "x = 10\n",
    "if x > 0:\n",
    "    print(\"Positive\")\n",
    "elif x == 0:\n",
    "    print(\"Zero\")\n",
    "else:\n",
    "    print(\"Negative\")"
   ]
  },
  {
   "cell_type": "markdown",
   "id": "2fd1676b",
   "metadata": {},
   "source": [
    "## 🔁 `for` Loop\n",
    "`for` loops are used to iterate over sequences (lists, strings, etc.)."
   ]
  },
  {
   "cell_type": "code",
   "execution_count": 2,
   "id": "b3d5d092",
   "metadata": {},
   "outputs": [
    {
     "name": "stdout",
     "output_type": "stream",
     "text": [
      "apple\n",
      "banana\n",
      "cherry\n"
     ]
    }
   ],
   "source": [
    "fruits = ['apple', 'banana', 'cherry']\n",
    "for fruit in fruits:\n",
    "    print(fruit)"
   ]
  },
  {
   "cell_type": "markdown",
   "id": "ba986e2b",
   "metadata": {},
   "source": [
    "You can use `range()` to generate sequences of numbers:\n"
   ]
  },
  {
   "cell_type": "code",
   "execution_count": 5,
   "id": "a2e35fb6",
   "metadata": {},
   "outputs": [
    {
     "name": "stdout",
     "output_type": "stream",
     "text": [
      "5\n",
      "10\n",
      "15\n",
      "20\n"
     ]
    }
   ],
   "source": [
    "for i in range(5,25,5):\n",
    "    print(i)  # prints 0 to 4"
   ]
  },
  {
   "cell_type": "markdown",
   "id": "3e463b65",
   "metadata": {},
   "source": [
    "### 📌 Looping with `enumerate()` and `zip()`"
   ]
  },
  {
   "cell_type": "code",
   "execution_count": null,
   "id": "57ed2789",
   "metadata": {},
   "outputs": [
    {
     "name": "stdout",
     "output_type": "stream",
     "text": [
      "0 apple\n",
      "1 banana\n",
      "2 cherry\n",
      "apple is red\n",
      "banana is yellow\n",
      "cherry is purple\n"
     ]
    }
   ],
   "source": [
    "for index, fruit in enumerate(fruits):\n",
    "    print(index, fruit)\n",
    "\n",
    "colors = ['red', 'yellow', 'purple']\n",
    "for fruit, color in zip(fruits, colors):\n",
    "    print(f\"{fruit} is {color}\")"
   ]
  },
  {
   "cell_type": "markdown",
   "id": "fccd9149",
   "metadata": {},
   "source": [
    "## 🔄 `while` Loop\n",
    "Used when the number of iterations is not known in advance."
   ]
  },
  {
   "cell_type": "code",
   "execution_count": 7,
   "id": "450b30b5",
   "metadata": {},
   "outputs": [
    {
     "name": "stdout",
     "output_type": "stream",
     "text": [
      "0\n",
      "1\n",
      "2\n",
      "3\n",
      "4\n"
     ]
    }
   ],
   "source": [
    "count = 0\n",
    "while count < 5:\n",
    "    print(count)\n",
    "    count += 1"
   ]
  },
  {
   "cell_type": "markdown",
   "id": "825d53e3",
   "metadata": {},
   "source": [
    "### ⚠️ Infinite Loop Example (be cautious!)\n",
    "```python\n",
    "while True:\n",
    "    pass  # runs forever\n",
    "```"
   ]
  },
  {
   "cell_type": "markdown",
   "id": "48fa97d7",
   "metadata": {},
   "source": [
    "## ⛔ Loop Control Statements\n",
    "- `break`: exits the loop early\n",
    "- `continue`: skips to the next iteration\n",
    "- `pass`: placeholder that does nothing"
   ]
  },
  {
   "cell_type": "code",
   "execution_count": 8,
   "id": "b0819e65",
   "metadata": {},
   "outputs": [
    {
     "name": "stdout",
     "output_type": "stream",
     "text": [
      "0\n",
      "1\n",
      "2\n",
      "4\n",
      "5\n",
      "6\n"
     ]
    }
   ],
   "source": [
    "for i in range(10):\n",
    "    if i == 3:\n",
    "        continue  # skip 3\n",
    "    if i == 7:\n",
    "        break  # stop at 7\n",
    "    print(i)"
   ]
  },
  {
   "cell_type": "markdown",
   "id": "5556a9da",
   "metadata": {},
   "source": [
    "## 🔁 Nested Conditionals and Loops"
   ]
  },
  {
   "cell_type": "code",
   "execution_count": 9,
   "id": "54c9dcec",
   "metadata": {},
   "outputs": [
    {
     "name": "stdout",
     "output_type": "stream",
     "text": [
      "i=1, j=1\n",
      "i=1, j=2\n",
      "i=1, j=3\n",
      "i=2, j=1\n",
      "i=2, j=2\n",
      "i=2, j=3\n",
      "i=3, j=1\n",
      "i=3, j=2\n",
      "i=3, j=3\n"
     ]
    }
   ],
   "source": [
    "for i in range(1, 4):\n",
    "    for j in range(1, 4):\n",
    "        print(f\"i={i}, j={j}\")"
   ]
  },
  {
   "cell_type": "markdown",
   "id": "8f3da354",
   "metadata": {},
   "source": [
    "## ✅ Best Practices\n",
    "- Keep conditions simple and readable.\n",
    "- Avoid deep nesting. Use functions to structure logic.\n",
    "- Prefer `for` over `while` when iterating over known sequences.\n",
    "- Use `break` and `continue` wisely.\n",
    "- Use `enumerate()` and `zip()` for cleaner loops."
   ]
  },
  {
   "cell_type": "markdown",
   "id": "6b01d73a",
   "metadata": {},
   "source": [
    "## 📝 Summary\n",
    "- Python supports both conditional and looping constructs.\n",
    "- Control flow helps manage how code executes under different circumstances.\n",
    "- Mastering control flow is essential for writing logical programs."
   ]
  },
  {
   "cell_type": "markdown",
   "id": "6742f1a5",
   "metadata": {},
   "source": [
    "> 📌 [Official Python Docs on Control Flow](https://docs.python.org/3/tutorial/controlflow.html)"
   ]
  }
 ],
 "metadata": {
  "kernelspec": {
   "display_name": "base",
   "language": "python",
   "name": "python3"
  },
  "language_info": {
   "codemirror_mode": {
    "name": "ipython",
    "version": 3
   },
   "file_extension": ".py",
   "mimetype": "text/x-python",
   "name": "python",
   "nbconvert_exporter": "python",
   "pygments_lexer": "ipython3",
   "version": "3.12.4"
  }
 },
 "nbformat": 4,
 "nbformat_minor": 5
}
