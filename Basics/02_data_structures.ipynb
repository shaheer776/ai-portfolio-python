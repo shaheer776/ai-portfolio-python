{
 "cells": [
  {
   "cell_type": "markdown",
   "id": "e1769373",
   "metadata": {},
   "source": [
    "# 📘 Data Structures: Lists, Tuples, Sets, and Dictionaries\n",
    "This notebook covers:\n",
    "- Lists and their methods\n",
    "- Tuples and immutability\n",
    "- Sets and uniqueness\n",
    "- Dictionaries and key-value pairs\n",
    "- Comparison between data structures\n",
    "- Best practices\n",
    "\n",
    "🔗 [Official Python Docs](https://docs.python.org/3/tutorial/datastructures.html)\n"
   ]
  },
  {
   "cell_type": "markdown",
   "id": "38db4b68",
   "metadata": {},
   "source": [
    "## 🧺 Lists\n",
    "Lists are ordered, mutable collections of items. Defined using square brackets `[]`.\n",
    "\n",
    "**Examples:**"
   ]
  },
  {
   "cell_type": "code",
   "execution_count": 6,
   "id": "8b44ac80",
   "metadata": {},
   "outputs": [
    {
     "name": "stdout",
     "output_type": "stream",
     "text": [
      "['apple', 'banana', 'cherry']\n"
     ]
    }
   ],
   "source": [
    "fruits = ['apple', 'banana', 'cherry']\n",
    "print(fruits)"
   ]
  },
  {
   "cell_type": "markdown",
   "id": "38a99045",
   "metadata": {},
   "source": [
    "### 🔧 Common List Methods and Operations:\n",
    "- append(): Adds a single element to the end of the list.\n",
    "- extend(): Adds all elements from an iterable (like another list) to the end of the list.\n",
    "- insert(): Inserts an element at a specified index in the list.\n",
    "- remove(): Removes the first occurrence of a specified value from the list.\n",
    "- pop(): Removes and returns the element at a specified index (or the last element if no index is given).  \n",
    "- clear(): Removes all elements from the list.\n",
    "- index(): Returns the index of the first occurrence of a specified value in the list.\n",
    "- count(): Returns the number of occurrences of a specified value in the list.\n",
    "- sort(): Sorts the list in place, in ascending order by default.  \n",
    "- reverse(): Reverses the order of the elements in the list in place.\n",
    "- copy(): Returns a shallow copy of the list.\n"
   ]
  },
  {
   "cell_type": "code",
   "execution_count": null,
   "id": "1c26267a",
   "metadata": {},
   "outputs": [
    {
     "name": "stdout",
     "output_type": "stream",
     "text": [
      "['apple', 'kiwi', 'banana', 'cherry', 'orange']\n",
      "['apple', 'kiwi', 'cherry', 'orange']\n",
      "orange\n",
      "['apple', 'kiwi', 'cherry']\n",
      "0\n",
      "1\n",
      "['apple', 'cherry', 'kiwi']\n",
      "['kiwi', 'cherry', 'apple']\n"
     ]
    }
   ],
   "source": [
    "fruits.append('orange')\n",
    "fruits.insert(1, 'kiwi')\n",
    "print(fruits)\n",
    "\n",
    "fruits.remove('banana')\n",
    "print(fruits)\n",
    "\n",
    "print(fruits.pop())\n",
    "print(fruits)\n",
    "\n",
    "print(fruits.index('apple'))\n",
    "print(fruits.count('apple'))\n",
    "\n",
    "fruits.sort()\n",
    "print(fruits)\n",
    "\n",
    "fruits.reverse()\n",
    "print(fruits)"
   ]
  },
  {
   "cell_type": "markdown",
   "id": "4e4daf77",
   "metadata": {},
   "source": [
    "## 📦 Tuples\n",
    "Tuples are ordered, immutable collections. Defined using parentheses `()`.\n",
    "\n",
    "**Examples:**"
   ]
  },
  {
   "cell_type": "code",
   "execution_count": 8,
   "id": "bde9b5f4",
   "metadata": {},
   "outputs": [
    {
     "name": "stdout",
     "output_type": "stream",
     "text": [
      "(1920, 1080)\n",
      "<class 'tuple'>\n"
     ]
    }
   ],
   "source": [
    "dimensions = (1920, 1080)\n",
    "print(dimensions)\n",
    "print(type(dimensions))"
   ]
  },
  {
   "cell_type": "markdown",
   "id": "8e7903b0",
   "metadata": {},
   "source": [
    "### 🔍 Why Tuples?\n",
    "- They are faster than lists.\n",
    "- Useful when data shouldn't change.\n",
    "\n",
    "**Accessing Elements:**"
   ]
  },
  {
   "cell_type": "code",
   "execution_count": 9,
   "id": "a23699ad",
   "metadata": {},
   "outputs": [
    {
     "name": "stdout",
     "output_type": "stream",
     "text": [
      "1920\n",
      "2\n"
     ]
    }
   ],
   "source": [
    "print(dimensions[0])\n",
    "print(len(dimensions))"
   ]
  },
  {
   "cell_type": "markdown",
   "id": "827712b3",
   "metadata": {},
   "source": [
    "## 🔥 Sets\n",
    "Sets are unordered, mutable collections of **unique** elements. Defined using curly braces `{}`.\n",
    "\n",
    "**Examples:**"
   ]
  },
  {
   "cell_type": "code",
   "execution_count": 10,
   "id": "5538106f",
   "metadata": {},
   "outputs": [
    {
     "name": "stdout",
     "output_type": "stream",
     "text": [
      "{'red', 'blue', 'green'}\n"
     ]
    }
   ],
   "source": [
    "colors = {'red', 'green', 'blue', 'red'}\n",
    "print(colors)  # no duplicates"
   ]
  },
  {
   "cell_type": "markdown",
   "id": "7f35831f",
   "metadata": {},
   "source": [
    "### 🔧 Set Methods:\n",
    "- add(): Adds an element to the set.\n",
    "- remove(): Removes a specified element from the set, raising an error if the element is not found.\n",
    "- discard(): Removes a specified element from the set if it's present, without raising an error if it's not.\n",
    "- union(): Returns a new set containing all unique elements from the original set and other sets.\n",
    "- intersection(): Returns a new set containing only the elements common to the original set and other sets.\n",
    "- difference(): Returns a new set containing elements that are in the original set but not in other sets.\n",
    "- symmetric_difference(): Returns a new set containing elements that are in either the original set or other sets, but not in both.\n",
    "- issubset(): Returns True if all elements of the set are present in another set (checks if it's a subset).\n",
    "- issuperset(): Returns True if the set contains all elements of another set (checks if it's a superset).\n"
   ]
  },
  {
   "cell_type": "code",
   "execution_count": 11,
   "id": "c25485b6",
   "metadata": {},
   "outputs": [
    {
     "name": "stdout",
     "output_type": "stream",
     "text": [
      "{'yellow', 'red', 'blue'}\n",
      "{'yellow', 'blue', 'red'}\n",
      "{'red', 'blue'}\n",
      "{'yellow'}\n"
     ]
    }
   ],
   "source": [
    "colors.add('yellow')\n",
    "colors.discard('green')\n",
    "print(colors)\n",
    "\n",
    "primary = {'red', 'blue'}\n",
    "print(colors.union(primary))\n",
    "print(colors.intersection(primary))\n",
    "print(colors.difference(primary))"
   ]
  },
  {
   "cell_type": "markdown",
   "id": "fbff9bb7",
   "metadata": {},
   "source": [
    "## 🧭 Dictionaries\n",
    "Dictionaries store data as key-value pairs. Defined using curly braces `{key: value}`.\n",
    "\n",
    "**Examples:**"
   ]
  },
  {
   "cell_type": "code",
   "execution_count": 13,
   "id": "60098c5d",
   "metadata": {},
   "outputs": [
    {
     "name": "stdout",
     "output_type": "stream",
     "text": [
      "{'name': 'Alice', 'age': 25, 'city': 'New York'}\n"
     ]
    }
   ],
   "source": [
    "person = {\n",
    "    'name': 'Alice',\n",
    "    'age': 25,\n",
    "    'city': 'New York'\n",
    "}\n",
    "print(person)"
   ]
  },
  {
   "cell_type": "markdown",
   "id": "ebf2cc88",
   "metadata": {},
   "source": [
    "### 🔧 Dictionary Methods:\n",
    "- get():        Returns the value for a specified key, or a default value if the key is not found.\n",
    "- keys():       Returns a view object that displays a list of all the keys in the dictionary.\n",
    "- values():     Returns a view object that displays a list of all the values in the dictionary.\n",
    "- items():      Returns a view object that displays a list of key-value tuples in the dictionary.  \n",
    "- update():     Updates the dictionary with the key-value pairs from another dictionary or iterable.\n",
    "- pop():        Removes and returns the value associated with a specified key, raising an error if the key is not found.  \n",
    "- popitem():    Removes and returns an arbitrary key-value pair from the dictionary (LIFO order in versions before 3.7).\n",
    "- clear():      Removes all items from the dictionary.\n"
   ]
  },
  {
   "cell_type": "code",
   "execution_count": 14,
   "id": "5b91f745",
   "metadata": {},
   "outputs": [
    {
     "name": "stdout",
     "output_type": "stream",
     "text": [
      "Alice\n",
      "25\n",
      "dict_keys(['name', 'age', 'city'])\n",
      "dict_values(['Alice', 25, 'New York'])\n",
      "dict_items([('name', 'Alice'), ('age', 25), ('city', 'New York')])\n",
      "{'name': 'Alice', 'age': 26, 'city': 'New York'}\n",
      "{'name': 'Alice', 'age': 26}\n"
     ]
    }
   ],
   "source": [
    "print(person['name'])\n",
    "print(person.get('age'))\n",
    "\n",
    "print(person.keys())\n",
    "print(person.values())\n",
    "print(person.items())\n",
    "\n",
    "person.update({'age': 26})\n",
    "print(person)\n",
    "\n",
    "person.pop('city')\n",
    "print(person)"
   ]
  },
  {
   "cell_type": "markdown",
   "id": "8929e008",
   "metadata": {},
   "source": [
    "## 📊 Comparison Table\n",
    "| Type       | Ordered | Mutable | Allows Duplicates | Syntax     |\n",
    "|------------|---------|---------|-------------------|------------|\n",
    "| List       | ✅       | ✅       | ✅                 | `[]`       |\n",
    "| Tuple      | ✅       | ❌       | ✅                 | `()`       |\n",
    "| Set        | ❌       | ✅       | ❌                 | `{}`       |\n",
    "| Dictionary | ✅       | ✅       | 🔑 unique keys     | `{key:val}`|\n"
   ]
  },
  {
   "cell_type": "markdown",
   "id": "1afe6fbb",
   "metadata": {},
   "source": [
    "## ✅ Best Practices\n",
    "- Use **lists** when order and mutability matter.\n",
    "- Use **tuples** for fixed data.\n",
    "- Use **sets** to eliminate duplicates.\n",
    "- Use **dictionaries** for structured data (like JSON).\n",
    "- Choose the right data structure for the task."
   ]
  },
  {
   "cell_type": "markdown",
   "id": "36bb14c0",
   "metadata": {},
   "source": [
    "## 📝 Summary\n",
    "- Python provides several built-in data structures: lists, tuples, sets, and dictionaries\n",
    "- Each has unique features suited for different tasks\n",
    "- Know their methods and performance characteristics to use them efficiently"
   ]
  },
  {
   "cell_type": "markdown",
   "id": "2f970a87",
   "metadata": {},
   "source": [
    "> 📌 [Official Data Structures Documentation](https://docs.python.org/3/tutorial/datastructures.html)"
   ]
  }
 ],
 "metadata": {
  "kernelspec": {
   "display_name": "Python 3",
   "language": "python",
   "name": "python3"
  },
  "language_info": {
   "codemirror_mode": {
    "name": "ipython",
    "version": 3
   },
   "file_extension": ".py",
   "mimetype": "text/x-python",
   "name": "python",
   "nbconvert_exporter": "python",
   "pygments_lexer": "ipython3",
   "version": "3.12.4"
  }
 },
 "nbformat": 4,
 "nbformat_minor": 5
}
