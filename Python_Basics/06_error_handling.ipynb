{
 "cells": [
  {
   "cell_type": "markdown",
   "id": "dc4b5507",
   "metadata": {},
   "source": [
    "# 🛠️ 06 - Error Handling in Python\n",
    "Python provides a powerful mechanism to handle errors and exceptions in a clean and readable way. Proper error handling is crucial for building robust and user-friendly applications.\n",
    "## 📚 Contents\n",
    "1. What are Errors and Exceptions?\n",
    "2. Syntax Errors vs Exceptions\n",
    "3. The try-except Block\n",
    "4. else and finally Clauses\n",
    "5. Common Built-in Exceptions\n",
    "6. Raising Exceptions\n",
    "7. Custom Exceptions\n",
    "8. Summary\n",
    "📎 [Official Docs](https://docs.python.org/3/tutorial/errors.html)"
   ]
  },
  {
   "cell_type": "markdown",
   "id": "c1481a67",
   "metadata": {},
   "source": [
    "## 1. What are Errors and Exceptions?\n",
    "- **Errors**: Problems in a program that cause it to stop running.\n",
    "- **Exceptions**: Errors detected during execution.\n",
    "- Python uses exceptions to handle errors gracefully.\n",
    "\n",
    "🔹 **try**\n",
    "\n",
    "The try block lets you test a block of code for errors. You place any code that might cause an exception inside a try block.\n",
    "\n",
    "-   If no error occurs, Python skips the except block.\n",
    "-   If an error does occur, Python jumps immediately to the except block.\n",
    "\n",
    "🔹 **except**\n",
    "\n",
    "The except block allows you to define a response to an exception. You can catch specific exceptions by naming them, or catch any exception using a generic Exception.\n",
    "\n",
    "- Catching specific exceptions is better for clarity and debugging.\n",
    "- You can chain multiple except blocks to handle different exceptions separately.\n",
    "\n",
    "🔹 **else**\n",
    "\n",
    "- The else clause runs only if the try block does not raise an exception. It’s useful for separating the code that runs when everything goes well.\n",
    "\n",
    "🔹 **finally**\n",
    "\n",
    "- The finally block always runs, no matter what. It's useful for cleanup code like closing files, releasing resources, or showing final messages.\n",
    "\n",
    "🔹 **raise**\n",
    "\n",
    "- You can use raise to manually trigger an exception if a certain condition is met. It’s commonly used in custom validation.\n",
    "\n",
    "## Common Built-in Exceptions\n",
    "\n",
    "| Exception\t  | Description |\n",
    "| --- | --- | \n",
    "| ValueError | Raised when a function receives the wrong value|\n",
    "| TypeError | Operation or function applied to wrong type|\n",
    "| ZeroDivisionError | Division or modulo by zero|\n",
    "| FileNotFoundError | File or directory is not found|\n",
    "| IndexError | Index is out of range in a list or sequence|\n",
    "| KeyError | Specified key not found in a dictionary|\n",
    "| AttributeError | Invalid attribute reference|\n",
    "| ImportError | Module or object cannot be imported|\n",
    "\n"
   ]
  },
  {
   "cell_type": "markdown",
   "id": "e1a48d7d",
   "metadata": {},
   "source": [
    "## 2. Syntax Errors vs Exceptions"
   ]
  },
  {
   "cell_type": "code",
   "execution_count": 1,
   "id": "d81f8d17",
   "metadata": {},
   "outputs": [
    {
     "name": "stdout",
     "output_type": "stream",
     "text": [
      "Caught an exception: division by zero\n"
     ]
    }
   ],
   "source": [
    "# Syntax Error (Uncomment to test)\n",
    "# print('Hello'\n",
    "\n",
    "# Exception Example\n",
    "x = 10\n",
    "y = 0\n",
    "try:\n",
    "    result = x / y\n",
    "except ZeroDivisionError as e:\n",
    "    print(f\"Caught an exception: {e}\")"
   ]
  },
  {
   "cell_type": "markdown",
   "id": "bd87c5d0",
   "metadata": {},
   "source": [
    "## 3. The try-except Block\n",
    "Use it to catch and handle exceptions."
   ]
  },
  {
   "cell_type": "code",
   "execution_count": 4,
   "id": "7417efe3",
   "metadata": {},
   "outputs": [
    {
     "name": "stdout",
     "output_type": "stream",
     "text": [
      "Please enter a valid number!\n"
     ]
    }
   ],
   "source": [
    "try:\n",
    "    num = int(input(\"Enter a number: \"))\n",
    "    print(10 / num)\n",
    "except ValueError:\n",
    "    print(\"Please enter a valid number!\")\n",
    "except ZeroDivisionError:\n",
    "    print(\"Cannot divide by zero!\")"
   ]
  },
  {
   "cell_type": "markdown",
   "id": "cee1365d",
   "metadata": {},
   "source": [
    "## 4. else and finally Clauses\n",
    "- `else` runs if no exception occurs.\n",
    "- `finally` always runs, useful for cleanup."
   ]
  },
  {
   "cell_type": "code",
   "execution_count": 7,
   "id": "389ba6e9",
   "metadata": {},
   "outputs": [
    {
     "name": "stdout",
     "output_type": "stream",
     "text": [
      "Invalid input\n",
      "Execution complete\n"
     ]
    }
   ],
   "source": [
    "try:\n",
    "    num = int(input(\"Enter number: \"))\n",
    "except ValueError:\n",
    "    print(\"Invalid input\")\n",
    "else:\n",
    "    print(f\"You entered: {num}\")\n",
    "finally:\n",
    "    print(\"Execution complete\")"
   ]
  },
  {
   "cell_type": "markdown",
   "id": "e4ad0cc5",
   "metadata": {},
   "source": [
    "## 5. Common Built-in Exceptions\n",
    "- `ValueError`\n",
    "- `ZeroDivisionError`\n",
    "- `TypeError`\n",
    "- `FileNotFoundError`\n",
    "- `IndexError`, `KeyError`, etc."
   ]
  },
  {
   "cell_type": "code",
   "execution_count": 8,
   "id": "5893ecfc",
   "metadata": {},
   "outputs": [
    {
     "name": "stdout",
     "output_type": "stream",
     "text": [
      "Caught: list index out of range\n"
     ]
    }
   ],
   "source": [
    "my_list = [1, 2, 3]\n",
    "try:\n",
    "    print(my_list[5])\n",
    "except IndexError as e:\n",
    "    print(f\"Caught: {e}\")"
   ]
  },
  {
   "cell_type": "markdown",
   "id": "f7c750b4",
   "metadata": {},
   "source": [
    "## 6. Raising Exceptions\n",
    "Use `raise` to throw an exception manually."
   ]
  },
  {
   "cell_type": "code",
   "execution_count": 17,
   "id": "2aea924c",
   "metadata": {},
   "outputs": [
    {
     "name": "stdout",
     "output_type": "stream",
     "text": [
      "Age cannot be negative\n"
     ]
    }
   ],
   "source": [
    "def set_age(age):\n",
    "    if age < 0:\n",
    "        raise ValueError(\"Age cannot be negative\")\n",
    "    return age\n",
    "\n",
    "try:\n",
    "    set_age(-1)\n",
    "except ValueError as e:\n",
    "    print(e)\n",
    "else:\n",
    "    print(\"Age set!\")"
   ]
  },
  {
   "cell_type": "markdown",
   "id": "2e0cfc05",
   "metadata": {},
   "source": [
    "## 7. Custom Exceptions\n",
    "You can define your own exception types using classes."
   ]
  },
  {
   "cell_type": "code",
   "execution_count": 13,
   "id": "5377cea5",
   "metadata": {},
   "outputs": [
    {
     "name": "stdout",
     "output_type": "stream",
     "text": [
      "Caught: Something went wrong!\n"
     ]
    }
   ],
   "source": [
    "class CustomError(Exception):\n",
    "    pass\n",
    "\n",
    "try:\n",
    "    raise CustomError(\"Something went wrong!\")\n",
    "except CustomError as e:\n",
    "    print(f\"Caught: {e}\")"
   ]
  },
  {
   "cell_type": "markdown",
   "id": "9efe6b0c",
   "metadata": {},
   "source": [
    "## ✅ Summary\n",
    "- Use try-except to catch exceptions\n",
    "- Handle specific exceptions for clarity\n",
    "- Use `else` for success logic, `finally` for cleanup\n",
    "- Use `raise` to manually trigger exceptions\n",
    "- Create custom exception classes for clarity\n",
    "\n",
    "📎 [Official Docs](https://docs.python.org/3/tutorial/errors.html)"
   ]
  }
 ],
 "metadata": {
  "kernelspec": {
   "display_name": "base",
   "language": "python",
   "name": "python3"
  },
  "language_info": {
   "codemirror_mode": {
    "name": "ipython",
    "version": 3
   },
   "file_extension": ".py",
   "mimetype": "text/x-python",
   "name": "python",
   "nbconvert_exporter": "python",
   "pygments_lexer": "ipython3",
   "version": "3.12.4"
  }
 },
 "nbformat": 4,
 "nbformat_minor": 5
}
