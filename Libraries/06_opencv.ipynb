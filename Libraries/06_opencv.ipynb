{
 "cells": [
  {
   "cell_type": "markdown",
   "id": "4a4dd7e1",
   "metadata": {},
   "source": [
    "# 📸 OpenCV in Python – Complete Guide\n",
    "\n",
    "This notebook provides a comprehensive overview of OpenCV's functionality in Python. You'll learn the most important functions for image and video processing, along with detailed theory, examples, and usage.\n",
    "\n",
    "---\n",
    "\n",
    "## 🔗 Official Documentation\n",
    "- [OpenCV-Python Tutorials](https://docs.opencv.org/4.x/d6/d00/tutorial_py_root.html)\n",
    "- [OpenCV-Python API Reference](https://docs.opencv.org/4.x/da/d54/group__imgproc__transform.html)\n",
    "\n",
    "---\n",
    "\n",
    "## 📋 Table of Contents\n",
    "\n",
    "1. Introduction to OpenCV  \n",
    "2. Reading and Writing Images  \n",
    "3. Image Display and Properties  \n",
    "4. Color Space Conversion  \n",
    "5. Image Resizing, Cropping, and Rotation  \n",
    "6. Drawing Functions  \n",
    "7. Image Thresholding  \n",
    "8. Blurring and Smoothing  \n",
    "9. Edge Detection  \n",
    "10. Morphological Operations  \n",
    "11. Contours and Shape Detection  \n",
    "12. Working with Videos  \n",
    "13. Face and Object Detection (Basic)  \n",
    "14. Summary\n"
   ]
  },
  {
   "cell_type": "markdown",
   "id": "5810d6f8",
   "metadata": {},
   "source": [
    "\n",
    "## 1. 🤖 Introduction to OpenCV\n",
    "\n",
    "OpenCV (Open Source Computer Vision Library) is an open-source computer vision and machine learning software library. It provides over 2500 optimized algorithms for:\n",
    "\n",
    "- Image processing\n",
    "- Video capture and analysis\n",
    "- Machine learning\n",
    "- Object detection\n",
    "\n",
    "Install OpenCV:\n",
    "```bash\n",
    "pip install opencv-python\n",
    "pip install opencv-python-headless  # for headless environments\n",
    "```"
   ]
  },
  {
   "cell_type": "markdown",
   "id": "00a17bb4",
   "metadata": {},
   "source": [
    "\n",
    "## 2. 📂 Reading and Writing Images\n",
    "\n",
    "Use `cv2.imread()` and `cv2.imwrite()` to read and save images.\n",
    "\n",
    "```python\n",
    "import cv2\n",
    "\n",
    "img = cv2.imread('image.jpg')  # Read image\n",
    "cv2.imwrite('new_image.jpg', img)  # Save image\n",
    "```"
   ]
  },
  {
   "cell_type": "markdown",
   "id": "4b82735f",
   "metadata": {},
   "source": [
    "\n",
    "## 3. 🖼️ Image Display and Properties\n",
    "\n",
    "Use `cv2.imshow()`, `cv2.waitKey()`, and `cv2.destroyAllWindows()`.\n",
    "\n",
    "```python\n",
    "cv2.imshow('Image', img)\n",
    "cv2.waitKey(0)\n",
    "cv2.destroyAllWindows()\n",
    "\n",
    "# Image properties\n",
    "print(img.shape)  # (height, width, channels)\n",
    "print(img.size)   # Total number of pixels\n",
    "print(img.dtype)  # Data type\n",
    "```"
   ]
  },
  {
   "cell_type": "markdown",
   "id": "4b45b2b6",
   "metadata": {},
   "source": [
    "\n",
    "## 4. 🎨 Color Space Conversion\n",
    "\n",
    "Convert between BGR, RGB, GRAY, HSV, etc.\n",
    "\n",
    "```python\n",
    "gray = cv2.cvtColor(img, cv2.COLOR_BGR2GRAY)\n",
    "hsv = cv2.cvtColor(img, cv2.COLOR_BGR2HSV)\n",
    "```"
   ]
  },
  {
   "cell_type": "markdown",
   "id": "94ab7195",
   "metadata": {},
   "source": [
    "\n",
    "## 5. 🔄 Resizing, Cropping, and Rotating\n",
    "\n",
    "```python\n",
    "resized = cv2.resize(img, (100, 100))\n",
    "cropped = img[50:200, 50:200]\n",
    "\n",
    "(h, w) = img.shape[:2]\n",
    "center = (w // 2, h // 2)\n",
    "M = cv2.getRotationMatrix2D(center, 45, 1.0)\n",
    "rotated = cv2.warpAffine(img, M, (w, h))\n",
    "```"
   ]
  },
  {
   "cell_type": "markdown",
   "id": "838e5fa9",
   "metadata": {},
   "source": [
    "\n",
    "## 6. ✏️ Drawing Functions\n",
    "\n",
    "```python\n",
    "cv2.line(img, (0, 0), (100, 100), (255, 0, 0), 2)\n",
    "cv2.rectangle(img, (50, 50), (150, 150), (0, 255, 0), 3)\n",
    "cv2.circle(img, (100, 100), 40, (0, 0, 255), -1)\n",
    "cv2.putText(img, 'OpenCV', (10, 500), cv2.FONT_HERSHEY_SIMPLEX, 4, (255, 255, 255), 2)\n",
    "```"
   ]
  },
  {
   "cell_type": "markdown",
   "id": "3a67535c",
   "metadata": {},
   "source": [
    "\n",
    "## 7. 🔲 Thresholding\n",
    "\n",
    "```python\n",
    "ret, threshed = cv2.threshold(gray, 127, 255, cv2.THRESH_BINARY)\n",
    "```"
   ]
  },
  {
   "cell_type": "markdown",
   "id": "2e38bb93",
   "metadata": {},
   "source": [
    "\n",
    "## 8. 🌫️ Blurring and Smoothing\n",
    "\n",
    "```python\n",
    "blur = cv2.GaussianBlur(img, (5, 5), 0)\n",
    "median = cv2.medianBlur(img, 5)\n",
    "```"
   ]
  },
  {
   "cell_type": "markdown",
   "id": "de7fdb3c",
   "metadata": {},
   "source": [
    "\n",
    "## 9. ✂️ Edge Detection\n",
    "\n",
    "```python\n",
    "edges = cv2.Canny(img, 100, 200)\n",
    "```"
   ]
  },
  {
   "cell_type": "markdown",
   "id": "5f312a5f",
   "metadata": {},
   "source": [
    "\n",
    "## 10. 🔧 Morphological Operations\n",
    "\n",
    "```python\n",
    "kernel = cv2.getStructuringElement(cv2.MORPH_RECT, (5, 5))\n",
    "dilate = cv2.dilate(threshed, kernel, iterations=1)\n",
    "erode = cv2.erode(threshed, kernel, iterations=1)\n",
    "```"
   ]
  },
  {
   "cell_type": "markdown",
   "id": "698478f3",
   "metadata": {},
   "source": [
    "\n",
    "## 11. 🔍 Contours and Shape Detection\n",
    "\n",
    "```python\n",
    "contours, _ = cv2.findContours(threshed, cv2.RETR_TREE, cv2.CHAIN_APPROX_SIMPLE)\n",
    "cv2.drawContours(img, contours, -1, (0, 255, 0), 3)\n",
    "```"
   ]
  },
  {
   "cell_type": "markdown",
   "id": "54278d38",
   "metadata": {},
   "source": [
    "\n",
    "## 12. 🎥 Working with Videos\n",
    "\n",
    "```python\n",
    "cap = cv2.VideoCapture('video.mp4')\n",
    "\n",
    "while cap.isOpened():\n",
    "    ret, frame = cap.read()\n",
    "    if not ret:\n",
    "        break\n",
    "    cv2.imshow('Frame', frame)\n",
    "    if cv2.waitKey(1) & 0xFF == 27:  # ESC to exit\n",
    "        break\n",
    "\n",
    "cap.release()\n",
    "cv2.destroyAllWindows()\n",
    "```"
   ]
  },
  {
   "cell_type": "markdown",
   "id": "1ed23248",
   "metadata": {},
   "source": [
    "\n",
    "## 13. 🧠 Face Detection (Basic Example)\n",
    "\n",
    "```python\n",
    "face_cascade = cv2.CascadeClassifier(cv2.data.haarcascades + 'haarcascade_frontalface_default.xml')\n",
    "gray = cv2.cvtColor(img, cv2.COLOR_BGR2GRAY)\n",
    "faces = face_cascade.detectMultiScale(gray, 1.1, 4)\n",
    "\n",
    "for (x, y, w, h) in faces:\n",
    "    cv2.rectangle(img, (x, y), (x+w, y+h), (255, 0, 0), 2)\n",
    "```"
   ]
  },
  {
   "cell_type": "markdown",
   "id": "6e0dfc78",
   "metadata": {},
   "source": [
    "\n",
    "## ✅ Summary\n",
    "\n",
    "OpenCV is a powerful tool for:\n",
    "\n",
    "- Reading, processing, and saving images and videos\n",
    "- Performing operations like filtering, edge detection, thresholding\n",
    "- Drawing shapes, transforming images, and basic object detection\n",
    "\n",
    "You’ve now seen how to use key functions and methods in OpenCV with practical examples.\n",
    "\n",
    "Explore further:\n",
    "- [All OpenCV Modules](https://docs.opencv.org/4.x/)\n"
   ]
  }
 ],
 "metadata": {},
 "nbformat": 4,
 "nbformat_minor": 5
}
