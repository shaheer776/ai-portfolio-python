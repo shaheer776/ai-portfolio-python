{
 "cells": [
  {
   "cell_type": "markdown",
   "id": "aa2d46ec",
   "metadata": {
    "papermill": {
     "duration": 0.001961,
     "end_time": "2025-06-30T07:42:40.343505",
     "exception": false,
     "start_time": "2025-06-30T07:42:40.341544",
     "status": "completed"
    },
    "tags": []
   },
   "source": [
    "# Generative Artificial Intelligence using Langchain\n",
    "\n",
    "---\n",
    "\n",
    "Get started with Langchain\n",
    "---\n",
    "\n",
    "## 📑 Contents\n",
    "\n",
    "1. LLM Model\n",
    "2. Prompt Template\n",
    "3. Chain Concept\n",
    "4. Sequential Chain\n",
    "5. LLM based Mini Project\n",
    "6. Agents\n",
    "7. Memory"
   ]
  },
  {
   "cell_type": "markdown",
   "id": "53433cea",
   "metadata": {},
   "source": [
    "#  OpenAI API - GPT\n",
    "\n",
    "OpenAI API has been designed to provide developers with seamless access to state of art pretrained, artificial intelligence models like gpt-3, gpt-4 dalle, whisper, embeddings, etc. By using this openAI API, one can integrate cutting edge AI capabilities into various applications regardless of the programming language."
   ]
  },
  {
   "cell_type": "markdown",
   "id": "abb02c3a",
   "metadata": {},
   "source": [
    "## 1. LLM Model"
   ]
  },
  {
   "cell_type": "code",
   "execution_count": 4,
   "id": "a983cbe0",
   "metadata": {},
   "outputs": [
    {
     "name": "stdout",
     "output_type": "stream",
     "text": [
      "\n",
      "\n",
      "This is a highly debated topic and there is no definitive answer. Some people may argue that players like Pele, Diego Maradona, Lionel Messi, and Cristiano Ronaldo are the best of all time. Others may argue for players like Johan Cruyff, Franz Beckenbauer, or Cristiano Ronaldo. Ultimately, it is a matter of personal opinion and there is no right or wrong answer.\n"
     ]
    }
   ],
   "source": [
    "from langchain_openai import OpenAI\n",
    "from dotenv import load_dotenv\n",
    "\n",
    "load_dotenv() # To use env variable (our API key)\n",
    "\n",
    "llm = OpenAI(temperature=0.6)\n",
    "\n",
    "result = llm.invoke('Who is the best football player of all time')\n",
    "\n",
    "print(result)\n",
    "\n",
    "\n"
   ]
  },
  {
   "cell_type": "markdown",
   "id": "83bda17e",
   "metadata": {},
   "source": [
    "## 2 Langchain Prompt Template"
   ]
  },
  {
   "cell_type": "code",
   "execution_count": null,
   "id": "3cd5a01c",
   "metadata": {},
   "outputs": [
    {
     "data": {
      "text/plain": [
       "'Who is the best Portuguese football player of all time'"
      ]
     },
     "execution_count": 6,
     "metadata": {},
     "output_type": "execute_result"
    }
   ],
   "source": [
    "from langchain.prompts import PromptTemplate\n",
    "\n",
    "prompt_template_name = PromptTemplate(\n",
    "    input_variables= ['nationality'],\n",
    "    template = 'Who is the best {nationality} football player of all time'\n",
    ")\n",
    "\n",
    "prompt_template_name.format(nationality='Portuguese')\n"
   ]
  },
  {
   "cell_type": "markdown",
   "id": "07d7e432",
   "metadata": {},
   "source": [
    "## 3. Langchain CHAIN concept"
   ]
  },
  {
   "cell_type": "code",
   "execution_count": 14,
   "id": "3a03b5e7",
   "metadata": {},
   "outputs": [
    {
     "data": {
      "text/plain": [
       "{'nationality': 'Portuguese',\n",
       " 'text': \"\\n\\nThe best Portuguese football player of all time is widely considered to be Cristiano Ronaldo. He has won numerous awards and accolades, including five Ballon d'Or awards, and holds the record for the most goals scored in the UEFA Champions League. He has also led the Portuguese national team to win the UEFA European Championship in 2016. Other notable Portuguese players include Eusébio, Luís Figo, and Rui Costa.\"}"
      ]
     },
     "execution_count": 14,
     "metadata": {},
     "output_type": "execute_result"
    }
   ],
   "source": [
    "# The Chain Concept\n",
    "\n",
    "from langchain.chains import LLMChain\n",
    "chain = LLMChain(llm=llm, prompt=prompt_template_name)\n",
    "#chain = prompt_template_name | llm\n",
    "chain.invoke('Portuguese')"
   ]
  },
  {
   "cell_type": "markdown",
   "id": "3944fb64",
   "metadata": {},
   "source": [
    "## 4. Langchain Sequential Chain"
   ]
  },
  {
   "cell_type": "code",
   "execution_count": 20,
   "id": "3e053a43",
   "metadata": {},
   "outputs": [],
   "source": [
    "llm = OpenAI(temperature=0.6)\n",
    "\n",
    "prompt_template_name = PromptTemplate(\n",
    "    input_variables= ['cuisine'],\n",
    "    template='I want to open a restaurent for {cuisine} food. Suggest a name for this'\n",
    ")\n",
    "\n",
    "name_chain = LLMChain(llm=llm, prompt=prompt_template_name, output_key='restaurent_name')\n",
    "\n",
    "prompt_template_items = PromptTemplate(\n",
    "    input_variables= ['restaurent_name'],\n",
    "    template = 'Suggest some menu items for {restaurent_name}. Return it as comma separated values'\n",
    ")\n",
    "\n",
    "food_items_chain = LLMChain(llm=llm, prompt=prompt_template_items, output_key='menu_items')"
   ]
  },
  {
   "cell_type": "code",
   "execution_count": 24,
   "id": "222c6d80",
   "metadata": {},
   "outputs": [
    {
     "name": "stdout",
     "output_type": "stream",
     "text": [
      "{'cuisine': 'Arabic', 'restaurent_name': '\\n\\n\"Al-Mahal Restaurant\" (meaning \"The Palace\" in Arabic)', 'menu_items': '\\n\\n1. Hummus and Pita Bread\\n2. Lamb Kebabs with Rice Pilaf\\n3. Baba Ghanoush with Grilled Vegetables\\n4. Falafel Platter with Tahini Sauce\\n5. Shawarma Wrap with Garlic Sauce\\n6. Chicken Shawarma Plate with Tabouleh Salad\\n7. Shish Tawook (Marinated Chicken Skewers) with Fattoush Salad\\n8. Mansaf (Traditional Jordanian Dish) with Yogurt Sauce\\n9. Mixed Grill Platter (Lamb, Chicken, and Beef) with Grilled Vegetables and Rice\\n10. Baklava (Sweet Pastry) for dessert.'}\n"
     ]
    }
   ],
   "source": [
    "from langchain.chains import SequentialChain\n",
    "\n",
    "chain = SequentialChain(\n",
    "    chains = [name_chain, food_items_chain],\n",
    "    input_variables = ['cuisine'],\n",
    "    output_variables = ['restaurent_name', 'menu_items']                        \n",
    ")\n",
    "response = chain.invoke({'cuisine': 'Arabic'})\n",
    "\n",
    "print(response)"
   ]
  },
  {
   "cell_type": "markdown",
   "id": "246908ed",
   "metadata": {},
   "source": [
    "## 5. LLM Based Mini Project - Restaurent Name and menu Generator"
   ]
  },
  {
   "cell_type": "code",
   "execution_count": null,
   "id": "31ee191d",
   "metadata": {},
   "outputs": [],
   "source": [
    "code =\"\"\"\n",
    "\n",
    "from langchain_openai import OpenAI\n",
    "from dotenv import load_dotenv\n",
    "from langchain.chains import LLMChain\n",
    "from langchain.chains import SequentialChain\n",
    "from langchain.prompts import PromptTemplate\n",
    "\n",
    "load_dotenv() # To use env variable (our API key)\n",
    "\n",
    "import streamlit as st      # To generate UI interface\n",
    "\n",
    "st.title('Restaurent Name and Menu Generator')\n",
    "cuisine = st.sidebar.selectbox('Pick a Cuisine', ('Arabic', 'Pakistani', 'Mexican', 'Korean', 'Italian'))\n",
    "\n",
    "def generate_restaurent_and_menu(cuisine):\n",
    "\n",
    "    llm = OpenAI(temperature=0.6)\n",
    "\n",
    "    # Restaurent name chain\n",
    "    prompt_template_name = PromptTemplate(\n",
    "        input_variables= ['cuisine'],\n",
    "        template='I want to open a restaurent for {cuisine} food. Suggest a name for this'\n",
    "    )\n",
    "\n",
    "    name_chain = LLMChain(llm=llm, prompt=prompt_template_name, output_key='restaurent_name')\n",
    "\n",
    "\n",
    "    # Menu item chain\n",
    "    prompt_template_items = PromptTemplate(\n",
    "        input_variables= ['restaurent_name'],\n",
    "        template = 'Suggest some menu items for {restaurent_name}. Return it as comma separated values'\n",
    "    )\n",
    "\n",
    "    food_items_chain = LLMChain(llm=llm, prompt=prompt_template_items, output_key='menu_items')\n",
    "\n",
    "\n",
    "\n",
    "    chain = SequentialChain(\n",
    "        chains = [name_chain, food_items_chain],\n",
    "        input_variables = ['cuisine'],\n",
    "        output_variables = ['restaurent_name', 'menu_items']                        \n",
    "    )\n",
    "    response = chain.invoke({'cuisine': cuisine})\n",
    "    \n",
    "    return response\n",
    "\n",
    "if cuisine:\n",
    "    response = generate_restaurent_and_menu(cuisine=cuisine)\n",
    "\n",
    "    st.header(response['restaurent_name'].strip())\n",
    "    menu_items = response['menu_items'].strip().split(',')\n",
    "    st.write('**Menu Items**')\n",
    "    for item in menu_items:\n",
    "        st.write(\" \", item)\n",
    "\n",
    "\"\"\"\n",
    "\n",
    "with open(\"restaurent_name_menu_generator.py\", \"w\") as f:\n",
    "    f.write(code)\n",
    "\n",
    "# Now run this .py file in terminal using `streamlit run restaurent_name_menu_generator.py` "
   ]
  },
  {
   "cell_type": "markdown",
   "id": "f3f7713d",
   "metadata": {},
   "source": [
    "## 6. Agents"
   ]
  },
  {
   "cell_type": "code",
   "execution_count": 45,
   "id": "2e161f41",
   "metadata": {},
   "outputs": [
    {
     "name": "stdout",
     "output_type": "stream",
     "text": [
      "\n",
      "\n",
      "\u001b[1m> Entering new AgentExecutor chain...\u001b[0m\n",
      "\u001b[32;1m\u001b[1;3m We need to find out when Cristiano Ronaldo was born and then calculate his age in 2025.\n",
      "Action: wikipedia\n",
      "Action Input: Cristiano Ronaldo\u001b[0m\n",
      "Observation: \u001b[36;1m\u001b[1;3mPage: Cristiano Ronaldo\n",
      "Summary: Cristiano Ronaldo dos Santos Aveiro (Portuguese pronunciation: [kɾiʃˈtjɐnu ʁɔˈnaldu] ; born 5 February 1985) is a Portuguese professional footballer who plays as a forward for and captains both Saudi Pro League club Al-Nassr and the Portugal national team. Nicknamed CR7, he is widely regarded as one of the greatest players in history, and has won numerous individual accolades throughout his career, including five Ballon d'Or awards, a record three UEFA Men's Player of the Year Awards, four European Golden Shoes, and was named five times the world's best player by FIFA. He has won 34 trophies in his career, including five UEFA Champions Leagues and the UEFA European Championship. He holds the records for most goals (140) and assists (42) in the Champions League, goals (14) and assists (8) in the European Championship, and most international appearances (221) and international goals (138). He is one of only five players to have scored 100 goals with three different clubs. He has made over 1,200 professional career appearances, the most by an outfield player, and has scored over 900 official senior career goals for club and country, making him the top goalscorer of all time. \n",
      "Born in Funchal, Madeira, Ronaldo began his career with Sporting CP before signing with Manchester United in 2003. He became a star player at United, where he won three consecutive Premier League titles, the Champions League, and the FIFA Club World Cup. His 2007–08 season earned him his first Ballon d'Or at age 23. In 2009, Ronaldo became the subject of the then-most expensive transfer in history when he joined Real Madrid in a deal worth €94 million (£80 million). At Madrid, he was at the forefront of the club's resurgence as a dominant European force, helping them win four Champions Leagues between 2014 and 2018, including the long-awaited La Décima. He also won two La Liga titles, including the record-breaking 2011–12 season in which Madrid reached 100 points, and became the club's all-time top goalscorer. He won Ballon d'Ors in 2013, 2014, 2016 and 2017, and was runner-up three times to Lionel Messi, his perceived career rival. Following issues with the club hierarchy, Ronaldo signed for Juventus in 2018 in a transfer worth an initial €100 million, where he was pivotal in winning two Serie A titles. In 2021, he returned to United before joining Al-Nassr in 2023.\n",
      "Ronaldo made his international debut for Portugal in 2003 at the age of 18 and has earned more than 200 caps, making him history's most-capped male player. He has played in eleven major tournaments. He scored his first international goal in Euro 2004, where he helped Portugal reach the final and subsequently made the team of the tournament. He assumed captaincy of the national team ahead of Euro 2008; and at Euro 2012, he was named in the team of the tournament. Ronaldo led Portugal to their first major tournament title at Euro 2016, being named in the team of the tournament for the third time. In the 2018 World Cup, he had his most prolific World Cup campaign with four goals. He received the Golden Boot as the top scorer of Euro 2020 before playing in his fifth World Cup at the 2022 World Cup. He has won two UEFA Nations Leagues, in 2019 and 2025.\n",
      "\n",
      "One of the world's most marketable and famous athletes, Ronaldo was ranked the world's highest-paid athlete by Forbes on five occasions, and the world's most famous athlete by ESPN from 2016 to 2019. Time included him on their list of the 100 most influential people in the world in 2014. Ronaldo was named in the UEFA Ultimate Team of the Year in 2015, the All-time UEFA Euro XI in 2016, and the Ballon d'Or Dream Team in 2020. In recognition of his record-breaking goalscoring success, he received special awards for Outstanding Career Achievement by FIFA in 2021 and Champions League All-Time Top Scorer by UEFA in 2024.\n",
      "\n",
      "\n",
      "\n",
      "Page: Career of Cristiano Ronaldo\n",
      "Summary: Cristiano Ronaldo is a Portuguese professional footballer\u001b[0m\n",
      "Thought:\u001b[32;1m\u001b[1;3m Now we have the information we need to calculate his age in 2025.\n",
      "Action: Calculator\n",
      "Action Input: 2025 - 1985\u001b[0m\n",
      "Observation: \u001b[33;1m\u001b[1;3mAnswer: 40\u001b[0m\n",
      "Thought:\u001b[32;1m\u001b[1;3m We now know that Cristiano Ronaldo will be 40 years old in 2025.\n",
      "Final Answer: Cristiano Ronaldo will be 40 years old in 2025.\u001b[0m\n",
      "\n",
      "\u001b[1m> Finished chain.\u001b[0m\n"
     ]
    },
    {
     "data": {
      "text/plain": [
       "{'input': 'When was Cristiano Ronaldo born? what is his age right now in 2025?',\n",
       " 'output': 'Cristiano Ronaldo will be 40 years old in 2025.'}"
      ]
     },
     "execution_count": 45,
     "metadata": {},
     "output_type": "execute_result"
    }
   ],
   "source": [
    "from langchain.agents import AgentType, initialize_agent, load_tools\n",
    "from langchain.llms import OpenAI\n",
    "\n",
    "tools = load_tools(['wikipedia', 'llm-math'], llm=llm)\n",
    "\n",
    "agent = initialize_agent(\n",
    "    tools = tools,\n",
    "    llm = llm,\n",
    "    agent = AgentType.ZERO_SHOT_REACT_DESCRIPTION,\n",
    "    verbose=True\n",
    ")\n",
    "\n",
    "agent.invoke('When was Cristiano Ronaldo born? what is his age right now in 2025?')"
   ]
  },
  {
   "cell_type": "markdown",
   "id": "84228ac8",
   "metadata": {},
   "source": [
    "## 7. Memory"
   ]
  },
  {
   "cell_type": "code",
   "execution_count": 60,
   "id": "b36bc10b",
   "metadata": {},
   "outputs": [
    {
     "name": "stdout",
     "output_type": "stream",
     "text": [
      "{'cuisine': 'Arabic', 'text': '\\n\\n\"Al-Arabia Bistro\" '}\n"
     ]
    }
   ],
   "source": [
    "chain = LLMChain(llm=llm, prompt=prompt_template_name)\n",
    "result = chain.invoke('Arabic')\n",
    "\n",
    "print(result)"
   ]
  },
  {
   "cell_type": "code",
   "execution_count": 61,
   "id": "2bfac0c2",
   "metadata": {},
   "outputs": [
    {
     "name": "stdout",
     "output_type": "stream",
     "text": [
      "{'cuisine': 'Korean', 'text': ' restaurent\\n \"Seoul Kitchen\"'}\n"
     ]
    }
   ],
   "source": [
    "result = chain.invoke('Korean')\n",
    "print(result)"
   ]
  },
  {
   "cell_type": "code",
   "execution_count": 63,
   "id": "72b7a997",
   "metadata": {},
   "outputs": [],
   "source": [
    "chain.memory"
   ]
  },
  {
   "cell_type": "code",
   "execution_count": 64,
   "id": "d4b2071f",
   "metadata": {},
   "outputs": [
    {
     "data": {
      "text/plain": [
       "NoneType"
      ]
     },
     "execution_count": 64,
     "metadata": {},
     "output_type": "execute_result"
    }
   ],
   "source": [
    "type(chain.memory)"
   ]
  },
  {
   "cell_type": "markdown",
   "id": "cdbbc44d",
   "metadata": {},
   "source": [
    "The memory buffer in chain is empty"
   ]
  },
  {
   "cell_type": "code",
   "execution_count": 68,
   "id": "7cf27435",
   "metadata": {},
   "outputs": [
    {
     "name": "stdout",
     "output_type": "stream",
     "text": [
      "{'cuisine': 'Arabic', 'history': '', 'text': '\\n\\n\"Shawarma Oasis\"'}\n"
     ]
    }
   ],
   "source": [
    "from langchain.memory import ConversationBufferMemory\n",
    "\n",
    "memory = ConversationBufferMemory()\n",
    "\n",
    "chain = LLMChain(llm=llm, prompt=prompt_template_name, memory=memory)\n",
    "\n",
    "result = chain.invoke('Arabic')\n",
    "\n",
    "print(result)"
   ]
  },
  {
   "cell_type": "code",
   "execution_count": 69,
   "id": "c7fe08cb",
   "metadata": {},
   "outputs": [
    {
     "data": {
      "text/plain": [
       "ConversationBufferMemory(chat_memory=InMemoryChatMessageHistory(messages=[HumanMessage(content='Arabic', additional_kwargs={}, response_metadata={}), AIMessage(content='\\n\\n\"Shawarma Oasis\"', additional_kwargs={}, response_metadata={})]))"
      ]
     },
     "execution_count": 69,
     "metadata": {},
     "output_type": "execute_result"
    }
   ],
   "source": [
    "chain.memory"
   ]
  },
  {
   "cell_type": "markdown",
   "id": "0ec0564a",
   "metadata": {},
   "source": [
    "The memory buffer is loaded with chat history"
   ]
  },
  {
   "cell_type": "code",
   "execution_count": 70,
   "id": "253fab50",
   "metadata": {},
   "outputs": [
    {
     "name": "stdout",
     "output_type": "stream",
     "text": [
      "Human: Arabic\n",
      "AI: \n",
      "\n",
      "\"Shawarma Oasis\"\n"
     ]
    }
   ],
   "source": [
    "print(chain.memory.buffer)"
   ]
  },
  {
   "cell_type": "code",
   "execution_count": 71,
   "id": "9b8b2ddd",
   "metadata": {},
   "outputs": [
    {
     "name": "stderr",
     "output_type": "stream",
     "text": [
      "C:\\Users\\shahe\\AppData\\Local\\Temp\\ipykernel_11612\\3006166724.py:3: LangChainDeprecationWarning: The class `OpenAI` was deprecated in LangChain 0.0.10 and will be removed in 1.0. An updated version of the class exists in the :class:`~langchain-openai package and should be used instead. To use it run `pip install -U :class:`~langchain-openai` and import as `from :class:`~langchain_openai import OpenAI``.\n",
      "  convo = ConversationChain(llm=OpenAI(temperature=0.7))\n"
     ]
    },
    {
     "name": "stdout",
     "output_type": "stream",
     "text": [
      "The following is a friendly conversation between a human and an AI. The AI is talkative and provides lots of specific details from its context. If the AI does not know the answer to a question, it truthfully says it does not know.\n",
      "\n",
      "Current conversation:\n",
      "{history}\n",
      "Human: {input}\n",
      "AI:\n"
     ]
    },
    {
     "name": "stderr",
     "output_type": "stream",
     "text": [
      "C:\\Users\\shahe\\AppData\\Local\\Temp\\ipykernel_11612\\3006166724.py:3: LangChainDeprecationWarning: The class `ConversationChain` was deprecated in LangChain 0.2.7 and will be removed in 1.0. Use :class:`~langchain_core.runnables.history.RunnableWithMessageHistory` instead.\n",
      "  convo = ConversationChain(llm=OpenAI(temperature=0.7))\n"
     ]
    }
   ],
   "source": [
    "from langchain.chains import ConversationChain\n",
    "\n",
    "convo = ConversationChain(llm=OpenAI(temperature=0.7))\n",
    "print(convo.prompt.template)"
   ]
  },
  {
   "cell_type": "code",
   "execution_count": 72,
   "id": "8074e5a8",
   "metadata": {},
   "outputs": [
    {
     "data": {
      "text/plain": [
       "{'input': 'Who is the most recent President of USA',\n",
       " 'history': '',\n",
       " 'response': ' The most recent President of the USA is Joe Biden. He was inaugurated on January 20, 2021. Before him, the previous President was Donald Trump, who was inaugurated on January 20, 2017. Biden is the 46th President of the USA, and he is the oldest person to be inaugurated at 78 years old. He won the 2020 Presidential election against Trump and his running mate, Kamala Harris, is the first female Vice President in US history.'}"
      ]
     },
     "execution_count": 72,
     "metadata": {},
     "output_type": "execute_result"
    }
   ],
   "source": [
    "convo.invoke('Who is the most recent President of USA')"
   ]
  },
  {
   "cell_type": "code",
   "execution_count": 73,
   "id": "3c3a213b",
   "metadata": {},
   "outputs": [
    {
     "data": {
      "text/plain": [
       "{'input': 'what is 5+5',\n",
       " 'history': 'Human: Who is the most recent President of USA\\nAI:  The most recent President of the USA is Joe Biden. He was inaugurated on January 20, 2021. Before him, the previous President was Donald Trump, who was inaugurated on January 20, 2017. Biden is the 46th President of the USA, and he is the oldest person to be inaugurated at 78 years old. He won the 2020 Presidential election against Trump and his running mate, Kamala Harris, is the first female Vice President in US history.',\n",
       " 'response': ' 5+5 is 10.'}"
      ]
     },
     "execution_count": 73,
     "metadata": {},
     "output_type": "execute_result"
    }
   ],
   "source": [
    "convo.invoke('what is 5+5')"
   ]
  },
  {
   "cell_type": "code",
   "execution_count": 74,
   "id": "fb6ea3af",
   "metadata": {},
   "outputs": [
    {
     "data": {
      "text/plain": [
       "{'input': 'How old is he now?',\n",
       " 'history': 'Human: Who is the most recent President of USA\\nAI:  The most recent President of the USA is Joe Biden. He was inaugurated on January 20, 2021. Before him, the previous President was Donald Trump, who was inaugurated on January 20, 2017. Biden is the 46th President of the USA, and he is the oldest person to be inaugurated at 78 years old. He won the 2020 Presidential election against Trump and his running mate, Kamala Harris, is the first female Vice President in US history.\\nHuman: what is 5+5\\nAI:  5+5 is 10.',\n",
       " 'response': ' As of 2021, Joe Biden is 78 years old.'}"
      ]
     },
     "execution_count": 74,
     "metadata": {},
     "output_type": "execute_result"
    }
   ],
   "source": [
    "convo.invoke('How old is he now?')"
   ]
  },
  {
   "cell_type": "code",
   "execution_count": 75,
   "id": "08748369",
   "metadata": {},
   "outputs": [
    {
     "name": "stdout",
     "output_type": "stream",
     "text": [
      "Human: Who is the most recent President of USA\n",
      "AI:  The most recent President of the USA is Joe Biden. He was inaugurated on January 20, 2021. Before him, the previous President was Donald Trump, who was inaugurated on January 20, 2017. Biden is the 46th President of the USA, and he is the oldest person to be inaugurated at 78 years old. He won the 2020 Presidential election against Trump and his running mate, Kamala Harris, is the first female Vice President in US history.\n",
      "Human: what is 5+5\n",
      "AI:  5+5 is 10.\n",
      "Human: How old is he now?\n",
      "AI:  As of 2021, Joe Biden is 78 years old.\n"
     ]
    }
   ],
   "source": [
    "print(convo.memory.buffer)"
   ]
  },
  {
   "cell_type": "markdown",
   "id": "f8e40eab",
   "metadata": {},
   "source": [
    "To keep the memory from overloading and extra usage of tokens, we can set a window to limit the memorization of most recent prompts\n"
   ]
  },
  {
   "cell_type": "code",
   "execution_count": 76,
   "id": "615dc895",
   "metadata": {},
   "outputs": [
    {
     "name": "stderr",
     "output_type": "stream",
     "text": [
      "C:\\Users\\shahe\\AppData\\Local\\Temp\\ipykernel_11612\\1930024749.py:3: LangChainDeprecationWarning: Please see the migration guide at: https://python.langchain.com/docs/versions/migrating_memory/\n",
      "  memory = ConversationBufferWindowMemory(k=1)\n"
     ]
    },
    {
     "data": {
      "text/plain": [
       "' The last football worldcup was won by France in 2018. They defeated Croatia 4-2 in the final match. Did you know that the tournament was held in Russia and it was the first time that VAR (Video Assistant Referee) technology was used? It was also the highest scoring final since 1966.'"
      ]
     },
     "execution_count": 76,
     "metadata": {},
     "output_type": "execute_result"
    }
   ],
   "source": [
    "from langchain.memory import ConversationBufferWindowMemory\n",
    "\n",
    "memory = ConversationBufferWindowMemory(k=1)\n",
    "\n",
    "convo = ConversationChain(\n",
    "    llm = llm,\n",
    "    memory = memory\n",
    ")\n",
    "\n",
    "convo.run('Who won the last football worldcup')"
   ]
  },
  {
   "cell_type": "code",
   "execution_count": 78,
   "id": "2a0d6f39",
   "metadata": {},
   "outputs": [
    {
     "data": {
      "text/plain": [
       "\" The answer is 10. Did you know that the concept of addition has been around since ancient times? The ancient Egyptians, Greeks, and Romans all had their own methods of adding numbers. It wasn't until the 16th century that the modern addition symbol (+) was introduced by mathematician Robert Recorde.\""
      ]
     },
     "execution_count": 78,
     "metadata": {},
     "output_type": "execute_result"
    }
   ],
   "source": [
    "convo.run('what is 5+5')"
   ]
  },
  {
   "cell_type": "code",
   "execution_count": 80,
   "id": "87a762fd",
   "metadata": {},
   "outputs": [
    {
     "data": {
      "text/plain": [
       "' Again, I do not have enough context to accurately answer that question. Can you please provide more information about the match you are referring to? For example, was it a sports match, a game show, or something else?'"
      ]
     },
     "execution_count": 80,
     "metadata": {},
     "output_type": "execute_result"
    }
   ],
   "source": [
    "convo.run('who was the man of match') # The model forgets the context because buffer is set to keep history of last one message only."
   ]
  }
 ],
 "metadata": {
  "kernelspec": {
   "display_name": "base",
   "language": "python",
   "name": "python3"
  },
  "language_info": {
   "codemirror_mode": {
    "name": "ipython",
    "version": 3
   },
   "file_extension": ".py",
   "mimetype": "text/x-python",
   "name": "python",
   "nbconvert_exporter": "python",
   "pygments_lexer": "ipython3",
   "version": "3.13.5"
  },
  "papermill": {
   "default_parameters": {},
   "duration": 13.057316,
   "end_time": "2025-06-30T07:42:48.794141",
   "environment_variables": {},
   "exception": null,
   "input_path": "__notebook__.ipynb",
   "output_path": "__notebook__.ipynb",
   "parameters": {},
   "start_time": "2025-06-30T07:42:35.736825",
   "version": "2.6.0"
  }
 },
 "nbformat": 4,
 "nbformat_minor": 5
}
