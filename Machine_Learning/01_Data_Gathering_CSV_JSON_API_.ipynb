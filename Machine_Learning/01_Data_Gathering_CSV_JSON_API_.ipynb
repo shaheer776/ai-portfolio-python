{
 "cells": [
  {
   "cell_type": "markdown",
   "id": "aa2d46ec",
   "metadata": {
    "papermill": {
     "duration": 0.001961,
     "end_time": "2025-06-30T07:42:40.343505",
     "exception": false,
     "start_time": "2025-06-30T07:42:40.341544",
     "status": "completed"
    },
    "tags": []
   },
   "source": [
    "#  Dataset gathering from different sources (CSV, JSON, API)\n",
    "---\n",
    "\n",
    "Based on a data of students' IQ and cgpa, predict whether they will get a placement or not. Use logistic regression.\n",
    "\n",
    "\n",
    "---\n",
    "\n",
    "## 📑 Contents\n",
    "\n",
    "1. CSV Format\n",
    "2. Preprocess + EDA + Feature Selection\n",
    "3. Extract input and output cols\n",
    "4. Train Test split\n",
    "5. Scale the values\n",
    "6. Train the model\n",
    "7. Evaluate the model\n",
    "8. Save the model"
   ]
  },
  {
   "cell_type": "markdown",
   "id": "72ff480d",
   "metadata": {},
   "source": [
    "# 1. CSV Format"
   ]
  },
  {
   "cell_type": "code",
   "execution_count": null,
   "id": "f51db097",
   "metadata": {},
   "outputs": [],
   "source": [
    "import pandas as pd\n",
    "\n",
    "pd.read_csv() # To read any CSV file\n"
   ]
  },
  {
   "cell_type": "markdown",
   "id": "89f94926",
   "metadata": {},
   "source": [
    "| **Parameter**                                                                                     | **Description**                                                                             | **Example**                                                          |\n",
    "| ------------------------------------------------------------------------------------------------- | ------------------------------------------------------------------------------------------- | -------------------------------------------------------------------- |\n",
    "| `filepath_or_buffer`                                                                              | File path, URL or file-like object                                                          | `pd.read_csv('data.csv')`                                            |\n",
    "| `sep`, `delimiter`                                                                                | Field separator (delimiter). If `None`, auto-detection using Python engine. Regex allowed.  | `pd.read_csv(..., sep=';')`                                          |\n",
    "| `header`                                                                                          | Row(s) to use as column names. `'infer'`, int, list of ints, or `None`                      | `pd.read_csv(..., header=1)`                                         |\n",
    "| `names`                                                                                           | List of column names to use                                                                 | `pd.read_csv(..., names=['A','B','C'], header=None)`                 |\n",
    "| `index_col`                                                                                       | Column(s) to set as index. Can be labels, ints, or `False`.                                 | `pd.read_csv(..., index_col='date')`                                 |\n",
    "| `usecols`                                                                                         | Return subset of columns (by list of labels or indices)                                     | `pd.read_csv(..., usecols=['A','B'])`                                |\n",
    "| `dtype`                                                                                           | Data type(s) for columns — single type or dict                                              | `pd.read_csv(..., dtype={'A': float, 'B': int})`                     |\n",
    "| `converters`                                                                                      | Dict of custom functions to convert column values                                           | `pd.read_csv(..., converters={'A': lambda x: x.strip()})`            |\n",
    "| `true_values`, `false_values`                                                                     | Strings to recognize as Boolean `True` or `False`                                           | `pd.read_csv(..., true_values=['Yes'], false_values=['No'])`         |\n",
    "| `skipinitialspace`                                                                                | Skip spaces after delimiter                                                                 | `pd.read_csv(..., skipinitialspace=True)`                            |\n",
    "| `skiprows`, `skipfooter`                                                                          | Skip specified rows from start or end (footer not supported with C engine)                  | `pd.read_csv(..., skiprows=2, skipfooter=1)`                         |\n",
    "| `nrows`                                                                                           | Read only specified number of rows                                                          | `pd.read_csv(..., nrows=100)`                                        |\n",
    "| `na_values`, `keep_default_na`, `na_filter`                                                       | Additional strings to recognize as NaN, whether to keep defaults, and whether to detect NAs | `pd.read_csv(..., na_values=['N/A'], keep_default_na=False)`         |\n",
    "| `verbose`                                                                                         | Print verbose output of NA columns                                                          | `pd.read_csv(..., verbose=True)`                                     |\n",
    "| `skip_blank_lines`                                                                                | Skip blank lines rather than reading as NaN lines                                           | `pd.read_csv(..., skip_blank_lines=False)`                           |\n",
    "| `parse_dates`, `infer_datetime_format`, `dayfirst`, `keep_date_col`, `date_parser`, `cache_dates` | Date parsing options                                                                        | `pd.read_csv(..., parse_dates=['date'], infer_datetime_format=True)` |\n",
    "| `iterator`, `chunksize`                                                                           | Return TextFileReader for iteration or chunked read                                         | `reader = pd.read_csv(..., chunksize=1000); chunk = next(reader)`    |\n",
    "| `compression`                                                                                     | Compression type: `'infer'`, `'gzip'`, `'bz2'`, `'zip'`, `'xz'`, or custom                  | `pd.read_csv(..., compression='zip')`                                |\n",
    "| `thousands`, `decimal`                                                                            | Characters recognized as thousands separators or decimal points                             | `pd.read_csv(..., thousands=',', decimal='.')`                       |\n",
    "| `lineterminator`                                                                                  | Character to break lines                                                                    | `pd.read_csv(..., lineterminator='\\n')`                              |\n",
    "| `quotechar`, `quoting`, `doublequote`, `escapechar`, `comment`                                    | Control quoting behavior and comment char                                                   | `pd.read_csv(..., quotechar='\"', quoting=1, comment='#')`            |\n",
    "| `encoding`, `encoding_errors`                                                                     | File encoding and error handling mode                                                       | `pd.read_csv(..., encoding='utf-8', encoding_errors='ignore')`       |\n",
    "| `dialect`                                                                                         | Parser dialect                                                                              | `pd.read_csv(..., dialect='excel')`                                  |\n",
    "| `on_bad_lines`                                                                                    | How to handle malformed lines: `'error'`, `'warn'`, or `'skip'`                             | `pd.read_csv(..., on_bad_lines='skip')`                              |\n",
    "| `low_memory`, `memory_map`, `float_precision`                                                     | Control memory use, mapping, and float reading precision                                    | `pd.read_csv(..., low_memory=False)`                                 |\n",
    "| `storage_options`                                                                                 | Extra options for remote storage                                                            | `pd.read_csv(..., storage_options={'anon': True})`                   |\n",
    "| `dtype_backend`                                                                                   | Backend for DataFrame dtypes: `'numpy_nullable'` or `'pyarrow'`                             | `pd.read_csv(..., dtype_backend='pyarrow')`                          |\n"
   ]
  },
  {
   "cell_type": "markdown",
   "id": "9135ca0f",
   "metadata": {},
   "source": [
    "# 2. JSON Format"
   ]
  },
  {
   "cell_type": "markdown",
   "id": "fbd97a1f",
   "metadata": {},
   "source": [
    "| **Parameter**        | **Description**                                                                                                                                                                                             | **Example**                                              |\n",
    "| -------------------- | ----------------------------------------------------------------------------------------------------------------------------------------------------------------------------------------------------------- | -------------------------------------------------------- |\n",
    "| `path_or_buf`        | File path, URL (http, ftp, s3, file), string, file-like, or buffer. Deprecated: direct JSON literal strings. ([Spark By {Examples}][1], [Pandas][2])                                                        | `pd.read_json('data.json')`                              |\n",
    "| `orient`             | Specifies JSON layout. Options depend on `typ`:<br>– **frame** (default): `split`, `records`, `index`, `columns`, `values`, `table`<br>– **series**: `split`, `records`, `index` ([Pandas][2], [Pandas][3]) | `pd.read_json(..., orient='records')`                    |\n",
    "| `typ`                | Output type: `'frame'` (DataFrame) or `'series'` ([Pandas][2], [Pandas][3])                                                                                                                                 | `pd.read_json(..., typ='series')`                        |\n",
    "| `dtype`              | `True` to infer types (default for non-table), `False` to skip inference, or a dict mapping columns to types ([Pandas][2], [Pandas][3])                                                                     | `pd.read_json(..., dtype={'col1': float})`               |\n",
    "| `convert_axes`       | Whether to convert index/column types (default True for non-table) ([Pandas][2], [Pandas][3])                                                                                                               | `pd.read_json(..., convert_axes=False)`                  |\n",
    "| `convert_dates`      | Dates conversion: `True`, `False`, or list of column names. Default True. ([Pandas][2], [Pandas][3])                                                                                                        | `pd.read_json(..., convert_dates=['date_col'])`          |\n",
    "| `keep_default_dates` | If True, parse default date-like columns ending with `_at`, `_time`, starting with \"timestamp\", or equal `\"date\"`/`\"modified\"`, when `convert_dates=True`. ([Pandas][2], [Pandas][3])                       | `pd.read_json(..., keep_default_dates=False)`            |\n",
    "| `precise_float`      | Use high-precision float parsing (strtod) over default fast parsing. ([Pandas][2], [Pandas][3])                                                                                                             | `pd.read_json(..., precise_float=True)`                  |\n",
    "| `date_unit`          | Unit for converting epoch timestamps: `'s'`, `'ms'`, `'us'`, or `'ns'` ([Pandas][3])                                                                                                                        | `pd.read_json(..., date_unit='ms')`                      |\n",
    "| `encoding`           | File encoding (default `'utf-8'`) ([Pandas][3])                                                                                                                                                             | `pd.read_json(..., encoding='utf-8')`                    |\n",
    "| `encoding_errors`    | How to handle encoding errors, e.g., `'strict'`, `'ignore'`. Default `'strict'`. ([Pandas][2], [Pandas][3])                                                                                                 | `pd.read_json(..., encoding_errors='ignore')`            |\n",
    "| `lines`              | If `True`, expects line-delimited JSON. Default `False`. ([Pandas][2], [Pandas][3])                                                                                                                         | `pd.read_json(..., lines=True)`                          |\n",
    "| `chunksize`          | Rows per chunk. Returns a reader if `lines=True`. ([Pandas][2], [Pandas][3])                                                                                                                                | `reader = pd.read_json(..., lines=True, chunksize=1000)` |\n",
    "| `compression`        | Compression: `'infer'`, `'gzip'`, `'bz2'`, `'zip'`, `'xz'`, dict. ([Pandas][2], [Pandas][3])                                                                                                                | `pd.read_json(..., compression='zip')`                   |\n",
    "| `nrows`              | Read only first N rows (must be used with `lines=True`). ([Pandas][2], [Pandas][3])                                                                                                                         | `pd.read_json(..., lines=True, nrows=10)`                |\n",
    "| `storage_options`    | Parameters for remote storage (S3, GCS, etc.) ([Pandas][2], [Pandas][3])                                                                                                                                    | `pd.read_json(..., storage_options={'anon':True})`       |\n",
    "| `dtype_backend`      | Backend for dtypes: `'numpy_nullable'` or `'pyarrow'`. Default from Pandas 2.0+. ([Pandas][2])                                                                                                              |                                                          |\n",
    "| `engine`             | Parser engine: `'ujson'` (default) or `'pyarrow'` (Pandas ≥2.0) ([Pandas][2])                                                                                                                               |                                                          |\n",
    "\n",
    "[1]: https://sparkbyexamples.com/pandas/pandas-read-json-with-examples/?utm_source=chatgpt.com \"Pandas Read JSON File with Examples\"\n",
    "[2]: https://pandas.pydata.org/docs/reference/api/pandas.read_json.html?utm_source=chatgpt.com \"pandas.read_json — pandas 2.3.1 documentation\"\n",
    "[3]: https://pandas.pydata.org/pandas-docs/version/1.5/reference/api/pandas.read_json.html?utm_source=chatgpt.com \"pandas.read_json — pandas 1.5.2 documentation\"\n"
   ]
  },
  {
   "cell_type": "code",
   "execution_count": null,
   "id": "05d23cbd",
   "metadata": {},
   "outputs": [],
   "source": [
    "import pandas as pd\n",
    "import requests\n",
    "\n",
    "request = requests.get()"
   ]
  }
 ],
 "metadata": {
  "kernelspec": {
   "display_name": "base",
   "language": "python",
   "name": "python3"
  },
  "language_info": {
   "codemirror_mode": {
    "name": "ipython",
    "version": 3
   },
   "file_extension": ".py",
   "mimetype": "text/x-python",
   "name": "python",
   "nbconvert_exporter": "python",
   "pygments_lexer": "ipython3",
   "version": "3.13.5"
  },
  "papermill": {
   "default_parameters": {},
   "duration": 13.057316,
   "end_time": "2025-06-30T07:42:48.794141",
   "environment_variables": {},
   "exception": null,
   "input_path": "__notebook__.ipynb",
   "output_path": "__notebook__.ipynb",
   "parameters": {},
   "start_time": "2025-06-30T07:42:35.736825",
   "version": "2.6.0"
  }
 },
 "nbformat": 4,
 "nbformat_minor": 5
}
