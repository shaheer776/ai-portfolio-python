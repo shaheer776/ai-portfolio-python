{
 "cells": [
  {
   "cell_type": "markdown",
   "id": "39f868e3",
   "metadata": {},
   "source": [
    "# 📁 05 - File Handling in Python\n",
    "This notebook covers reading from and writing to files in Python. It includes theory, syntax, and examples of handling text, CSV files and JSON files.\n",
    "\n",
    "## 📚 Contents\n",
    "- Opening Files with `open()`\n",
    "- Reading from Files\n",
    "- Writing to Files\n",
    "- Modes (`'r'`, `'w'`, `'a'`, `'x'`, `'b'`, `'t'`)\n",
    "- Using `with` statement (context manager)\n",
    "- Working with CSV files\n",
    "- Error Handling in File Operations\n",
    "- Working with JSON files\n",
    "- Conversion from Python to JSON and vice versa\n",
    "- Summary\n",
    "\n",
    "📎 [Official Documentation](https://docs.python.org/3/tutorial/inputoutput.html#reading-and-writing-files)"
   ]
  },
  {
   "cell_type": "markdown",
   "id": "f9e64835",
   "metadata": {},
   "source": [
    "## 📂 Opening Files\n",
    "The built-in `open()` function is used to open a file in Python.\n",
    "\n",
    "### Syntax:\n",
    "```python\n",
    "file = open('filename', 'mode')\n",
    "```\n",
    "- `'r'`: Read (default)\n",
    "- `'w'`: Write (overwrite if exists)\n",
    "- `'a'`: Append\n",
    "- `'x'`: Exclusive creation (fails if exists)\n",
    "- `'b'`: Binary mode\n",
    "- `'t'`: Text mode (default)"
   ]
  },
  {
   "cell_type": "code",
   "execution_count": 5,
   "id": "daca697f",
   "metadata": {},
   "outputs": [],
   "source": [
    "# Open a file for writing (creates if not exists)\n",
    "f = open('sample.txt', 'w')\n",
    "f.write('Hello, world!\\nThis is second line')\n",
    "f.close()"
   ]
  },
  {
   "cell_type": "markdown",
   "id": "1ae462f7",
   "metadata": {},
   "source": [
    "## 📖 Reading from Files\n",
    "You can read from files using `read()`, `readline()`, or `readlines()`."
   ]
  },
  {
   "cell_type": "code",
   "execution_count": 6,
   "id": "4228ed00",
   "metadata": {},
   "outputs": [
    {
     "name": "stdout",
     "output_type": "stream",
     "text": [
      "Hello, world!\n",
      "This is second line\n"
     ]
    }
   ],
   "source": [
    "# Read entire content\n",
    "f = open('sample.txt', 'r')\n",
    "content = f.read()\n",
    "print(content)\n",
    "f.close()"
   ]
  },
  {
   "cell_type": "code",
   "execution_count": 7,
   "id": "673071ec",
   "metadata": {},
   "outputs": [
    {
     "name": "stdout",
     "output_type": "stream",
     "text": [
      "Hello, world!\n",
      "\n"
     ]
    }
   ],
   "source": [
    "# Read line by line\n",
    "f = open('sample.txt', 'r')\n",
    "line1 = f.readline()\n",
    "print(line1)\n",
    "f.close()"
   ]
  },
  {
   "cell_type": "code",
   "execution_count": 8,
   "id": "1bc08377",
   "metadata": {},
   "outputs": [
    {
     "name": "stdout",
     "output_type": "stream",
     "text": [
      "['Hello, world!\\n', 'This is second line']\n"
     ]
    }
   ],
   "source": [
    "# Read all lines into a list\n",
    "f = open('sample.txt', 'r')\n",
    "lines = f.readlines()\n",
    "print(lines)\n",
    "f.close()"
   ]
  },
  {
   "cell_type": "markdown",
   "id": "2d97a4b2",
   "metadata": {},
   "source": [
    "## 📝 Writing and Appending to Files"
   ]
  },
  {
   "cell_type": "code",
   "execution_count": 9,
   "id": "65de3da0",
   "metadata": {},
   "outputs": [],
   "source": [
    "# Overwrite content\n",
    "f = open('sample.txt', 'w')\n",
    "f.write('Overwritten content')\n",
    "f.close()"
   ]
  },
  {
   "cell_type": "code",
   "execution_count": 10,
   "id": "58156c4d",
   "metadata": {},
   "outputs": [],
   "source": [
    "# Append content\n",
    "f = open('sample.txt', 'a')\n",
    "f.write('\\nNew line added')\n",
    "f.close()"
   ]
  },
  {
   "cell_type": "markdown",
   "id": "d7a859c1",
   "metadata": {},
   "source": [
    "## ✅ Using `with` Statement (Best Practice)\n",
    "Automatically handles file closing, even in case of exceptions."
   ]
  },
  {
   "cell_type": "code",
   "execution_count": 11,
   "id": "9bf173f4",
   "metadata": {},
   "outputs": [
    {
     "name": "stdout",
     "output_type": "stream",
     "text": [
      "Overwritten content\n",
      "New line added\n"
     ]
    }
   ],
   "source": [
    "with open('sample.txt', 'r') as file:\n",
    "    content = file.read()\n",
    "    print(content)"
   ]
  },
  {
   "cell_type": "markdown",
   "id": "a8a96f0c",
   "metadata": {},
   "source": [
    "## 📊 Working with CSV Files\n",
    "You can use the `csv` module to read and write CSV files."
   ]
  },
  {
   "cell_type": "code",
   "execution_count": 12,
   "id": "b4256c37",
   "metadata": {},
   "outputs": [],
   "source": [
    "import csv\n",
    "\n",
    "# Writing to a CSV file\n",
    "with open('data.csv', 'w', newline='') as file:\n",
    "    writer = csv.writer(file)\n",
    "    writer.writerow(['Name', 'Age'])\n",
    "    writer.writerow(['Alice', 25])\n",
    "    writer.writerow(['Bob', 30])"
   ]
  },
  {
   "cell_type": "code",
   "execution_count": 13,
   "id": "e962843f",
   "metadata": {},
   "outputs": [
    {
     "name": "stdout",
     "output_type": "stream",
     "text": [
      "['Name', 'Age']\n",
      "['Alice', '25']\n",
      "['Bob', '30']\n"
     ]
    }
   ],
   "source": [
    "import csv\n",
    "\n",
    "# Reading from a CSV file\n",
    "with open('data.csv', 'r') as file:\n",
    "    reader = csv.reader(file)\n",
    "    for row in reader:\n",
    "        print(row)"
   ]
  },
  {
   "cell_type": "markdown",
   "id": "38243d5e",
   "metadata": {},
   "source": [
    "## ⚠️ Error Handling in File Operations"
   ]
  },
  {
   "cell_type": "code",
   "execution_count": 14,
   "id": "7dd9b9d6",
   "metadata": {},
   "outputs": [
    {
     "name": "stdout",
     "output_type": "stream",
     "text": [
      "File does not exist!\n"
     ]
    }
   ],
   "source": [
    "try:\n",
    "    with open('missing.txt', 'r') as file:\n",
    "        data = file.read()\n",
    "except FileNotFoundError:\n",
    "    print(\"File does not exist!\")"
   ]
  },
  {
   "cell_type": "markdown",
   "id": "b0beca92",
   "metadata": {},
   "source": [
    "## ✅ Summary\n",
    "- Use `open()` or `with open()` to manage files.\n",
    "- Always close the file or use `with`.\n",
    "- Modes: `'r'`, `'w'`, `'a'`, `'x'`, `'b'`, `'t'`\n",
    "- Use `csv` module for structured data like tables.\n",
    "- Handle errors gracefully with `try-except`."
   ]
  },
  {
   "cell_type": "markdown",
   "id": "003b2025",
   "metadata": {},
   "source": [
    "📎 [Official Docs - Reading and Writing Files](https://docs.python.org/3/tutorial/inputoutput.html#reading-and-writing-files)"
   ]
  },
  {
   "cell_type": "markdown",
   "id": "861a9fc6",
   "metadata": {},
   "source": [
    "## 📦 Working with JSON Files in Python\n",
    "JSON (JavaScript Object Notation) is a lightweight format used for data interchange. In Python, it maps directly to dictionaries and lists.\n",
    "\n",
    "**Common uses:** APIs, config files, and saving structured data.\n",
    "\n",
    "📎 [Official JSON Docs](https://docs.python.org/3/library/json.html)"
   ]
  },
  {
   "cell_type": "markdown",
   "id": "0bab017c",
   "metadata": {},
   "source": [
    "### 🔁 JSON and Python Type Conversion\n",
    "| JSON       | Python        |\n",
    "|------------|----------------|\n",
    "| Object     | `dict`         |\n",
    "| Array      | `list`         |\n",
    "| String     | `str`          |\n",
    "| Number     | `int`, `float` |\n",
    "| Boolean    | `bool`         |\n",
    "| null       | `None`         |"
   ]
  },
  {
   "cell_type": "markdown",
   "id": "d11d60cc",
   "metadata": {},
   "source": [
    "### 📥 Convert JSON string to Python (`json.loads()`)\n"
   ]
  },
  {
   "cell_type": "code",
   "execution_count": 15,
   "id": "fc010bef",
   "metadata": {},
   "outputs": [
    {
     "name": "stdout",
     "output_type": "stream",
     "text": [
      "{'name': 'Alice', 'age': 25, 'is_student': False}\n",
      "Alice\n"
     ]
    }
   ],
   "source": [
    "import json\n",
    "\n",
    "json_str = '{\"name\": \"Alice\", \"age\": 25, \"is_student\": false}'\n",
    "data = json.loads(json_str)\n",
    "\n",
    "print(data)\n",
    "print(data['name'])"
   ]
  },
  {
   "cell_type": "markdown",
   "id": "c7fcfa82",
   "metadata": {},
   "source": [
    "### 📤 Convert Python object to JSON string (`json.dumps()`)\n"
   ]
  },
  {
   "cell_type": "code",
   "execution_count": 16,
   "id": "3d63c988",
   "metadata": {},
   "outputs": [
    {
     "name": "stdout",
     "output_type": "stream",
     "text": [
      "{\"name\": \"Bob\", \"age\": 30, \"is_student\": true, \"courses\": [\"Math\", \"Science\"]}\n"
     ]
    }
   ],
   "source": [
    "person = {\n",
    "    \"name\": \"Bob\",\n",
    "    \"age\": 30,\n",
    "    \"is_student\": True,\n",
    "    \"courses\": [\"Math\", \"Science\"]\n",
    "}\n",
    "\n",
    "json_data = json.dumps(person)\n",
    "print(json_data)"
   ]
  },
  {
   "cell_type": "markdown",
   "id": "fcb14fa6",
   "metadata": {},
   "source": [
    "### 🎨 Pretty Print JSON"
   ]
  },
  {
   "cell_type": "code",
   "execution_count": 17,
   "id": "5be71db8",
   "metadata": {},
   "outputs": [
    {
     "name": "stdout",
     "output_type": "stream",
     "text": [
      "{\n",
      "    \"name\": \"Bob\",\n",
      "    \"age\": 30,\n",
      "    \"is_student\": true,\n",
      "    \"courses\": [\n",
      "        \"Math\",\n",
      "        \"Science\"\n",
      "    ]\n",
      "}\n"
     ]
    }
   ],
   "source": [
    "print(json.dumps(person, indent=4))"
   ]
  },
  {
   "cell_type": "markdown",
   "id": "f029e5ab",
   "metadata": {},
   "source": [
    "### 💾 Write JSON to File (`json.dump()`)\n"
   ]
  },
  {
   "cell_type": "code",
   "execution_count": 18,
   "id": "2430fd98",
   "metadata": {},
   "outputs": [],
   "source": [
    "with open(\"person.json\", \"w\") as file:\n",
    "    json.dump(person, file, indent=4)"
   ]
  },
  {
   "cell_type": "markdown",
   "id": "965acbfc",
   "metadata": {},
   "source": [
    "### 📖 Read JSON from File (`json.load()`)\n"
   ]
  },
  {
   "cell_type": "code",
   "execution_count": 19,
   "id": "e9d22876",
   "metadata": {},
   "outputs": [
    {
     "name": "stdout",
     "output_type": "stream",
     "text": [
      "['Math', 'Science']\n"
     ]
    }
   ],
   "source": [
    "with open(\"person.json\", \"r\") as file:\n",
    "    person_data = json.load(file)\n",
    "\n",
    "print(person_data['courses'])"
   ]
  },
  {
   "cell_type": "markdown",
   "id": "c8fec836",
   "metadata": {},
   "source": [
    "### ✅ Summary\n",
    "- Use `json.loads()`/`json.dumps()` for strings\n",
    "- Use `json.load()`/`json.dump()` for file operations\n",
    "- JSON is a standard for sharing structured data across systems\n",
    "- Python dicts and JSON objects map naturally\n",
    "\n",
    "✅ Great for saving config data, sending structured data over network, etc.\n",
    "\n",
    "📎 [Official JSON Docs](https://docs.python.org/3/library/json.html)"
   ]
  }
 ],
 "metadata": {
  "kernelspec": {
   "display_name": "base",
   "language": "python",
   "name": "python3"
  },
  "language_info": {
   "codemirror_mode": {
    "name": "ipython",
    "version": 3
   },
   "file_extension": ".py",
   "mimetype": "text/x-python",
   "name": "python",
   "nbconvert_exporter": "python",
   "pygments_lexer": "ipython3",
   "version": "3.12.4"
  }
 },
 "nbformat": 4,
 "nbformat_minor": 5
}
