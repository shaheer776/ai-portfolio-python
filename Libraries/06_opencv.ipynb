{
 "cells": [
  {
   "cell_type": "markdown",
   "id": "4a4dd7e1",
   "metadata": {},
   "source": [
    "# 📸 OpenCV in Python – Complete Guide\n",
    "\n",
    "This notebook provides a comprehensive overview of OpenCV's functionality in Python. You'll learn the most important functions for image and video processing, along with detailed theory, examples, and usage.\n",
    "\n",
    "---\n",
    "\n",
    "## 🔗 Official Documentation\n",
    "- [OpenCV-Python Documentation01](https://www.geeksforgeeks.org/opencv-python-tutorial/)\n",
    "- [OpenCV-Python Documentation02](https://opencv-python.readthedocs.io/en/latest/)\n",
    "\n",
    "---\n",
    "\n",
    "## 📋 Table of Contents\n",
    "\n",
    "1. Introduction to OpenCV  \n",
    "2. Reading and Writing Images  \n",
    "3. Image Display and Properties  \n",
    "4. Color Space Conversion  \n",
    "5. Image Resizing, Cropping, and Rotation  \n",
    "6. Drawing Functions  \n",
    "7. Events  \n",
    "8. Cropping Tool Example  \n",
    "9. Working with Video\n",
    "10. Saving Video file  \n",
    "14. Summary\n"
   ]
  },
  {
   "cell_type": "markdown",
   "id": "5810d6f8",
   "metadata": {},
   "source": [
    "\n",
    "## 1. 🤖 Introduction to OpenCV\n",
    "\n",
    "OpenCV (Open Source Computer Vision Library) is an open-source computer vision and machine learning software library. It provides over 2500 optimized algorithms for:\n",
    "\n",
    "- Image processing\n",
    "- Video capture and analysis\n",
    "- Machine learning\n",
    "- Object detection\n",
    "\n",
    "Install OpenCV:"
   ]
  },
  {
   "cell_type": "code",
   "execution_count": null,
   "id": "da7101c2",
   "metadata": {},
   "outputs": [
    {
     "name": "stdout",
     "output_type": "stream",
     "text": [
      "Collecting opencv-python\n",
      "  Using cached opencv_python-4.11.0.86-cp37-abi3-win_amd64.whl.metadata (20 kB)\n",
      "Requirement already satisfied: numpy>=1.21.2 in c:\\users\\viplab\\anaconda3\\lib\\site-packages (from opencv-python) (1.26.4)\n",
      "Using cached opencv_python-4.11.0.86-cp37-abi3-win_amd64.whl (39.5 MB)\n",
      "Installing collected packages: opencv-python\n",
      "Successfully installed opencv-python-4.11.0.86\n"
     ]
    }
   ],
   "source": [
    "pip install opencv-python\n",
    "pip install opencv-python-headless  # for headless environments"
   ]
  },
  {
   "cell_type": "markdown",
   "id": "00a17bb4",
   "metadata": {},
   "source": [
    "\n",
    "## 2. 📂 Reading and Writing Images\n",
    "\n",
    "Use `cv2.imread()` and `cv2.imwrite()` to read and save images.\n",
    "\n",
    "```python\n",
    "\n",
    "```"
   ]
  },
  {
   "cell_type": "code",
   "execution_count": 27,
   "id": "b3c76605",
   "metadata": {},
   "outputs": [
    {
     "data": {
      "text/plain": [
       "True"
      ]
     },
     "execution_count": 27,
     "metadata": {},
     "output_type": "execute_result"
    }
   ],
   "source": [
    "import cv2\n",
    "\n",
    "img = cv2.imread('fruits.jpg')  # Read image\n",
    "cv2.imwrite('fruits.jpg', img)  # Save image"
   ]
  },
  {
   "cell_type": "markdown",
   "id": "4b82735f",
   "metadata": {},
   "source": [
    "\n",
    "## 3. 🖼️ Image Display and Properties\n",
    "\n",
    "Use `cv2.imshow()`, `cv2.waitKey()`, and `cv2.destroyAllWindows()`.\n",
    "\n",
    "```python\n",
    "\n",
    "```"
   ]
  },
  {
   "cell_type": "code",
   "execution_count": 28,
   "id": "b38da245",
   "metadata": {},
   "outputs": [
    {
     "name": "stdout",
     "output_type": "stream",
     "text": [
      "<class 'numpy.ndarray'>\n",
      "(512, 512, 3)\n",
      "786432\n",
      "uint8\n"
     ]
    }
   ],
   "source": [
    "cv2.imshow('Image', img)\n",
    "cv2.waitKey(0)\n",
    "cv2.destroyAllWindows()\n",
    "\n",
    "# Image properties\n",
    "print(type(img))  # Type of image\n",
    "print(img.shape)  # (height, width, channels)\n",
    "print(img.size)   # Total number of pixels\n",
    "print(img.dtype)  # Data type"
   ]
  },
  {
   "cell_type": "markdown",
   "id": "4b45b2b6",
   "metadata": {},
   "source": [
    "\n",
    "## 4. 🎨 Color Space Conversion\n",
    "\n",
    "Convert between BGR, RGB, GRAY, HSV, etc.\n",
    "\n"
   ]
  },
  {
   "cell_type": "code",
   "execution_count": null,
   "id": "a3b1d9a7",
   "metadata": {},
   "outputs": [
    {
     "data": {
      "text/plain": [
       "-1"
      ]
     },
     "execution_count": 12,
     "metadata": {},
     "output_type": "execute_result"
    }
   ],
   "source": [
    "gray = cv2.cvtColor(img, cv2.COLOR_BGR2GRAY)\n",
    "hsv = cv2.cvtColor(img, cv2.COLOR_BGR2HSV)\n",
    "\n",
    "cv2.imshow('window',gray)\n",
    "cv2.waitKey(0)"
   ]
  },
  {
   "cell_type": "markdown",
   "id": "94ab7195",
   "metadata": {},
   "source": [
    "\n",
    "## 5. 🔄 Resizing, Cropping, Flipping, and Rotating\n",
    "\n"
   ]
  },
  {
   "cell_type": "code",
   "execution_count": 24,
   "id": "1459116d",
   "metadata": {},
   "outputs": [
    {
     "name": "stdout",
     "output_type": "stream",
     "text": [
      "(h,w,c) : 512,512,3\n",
      "center :  (256, 256)\n"
     ]
    },
    {
     "data": {
      "text/plain": [
       "-1"
      ]
     },
     "execution_count": 24,
     "metadata": {},
     "output_type": "execute_result"
    }
   ],
   "source": [
    "\n",
    "img_resized = cv2.resize(img, (256, 256))\n",
    "img_cropped = img[50:200, 50:200]   # ( Height, Width )\n",
    "img_flipped = cv2.flip(img,0)\n",
    "\n",
    "(h, w, c) = img.shape[:]\n",
    "center = (w // 2, h // 2)\n",
    "M = cv2.getRotationMatrix2D(center, 45, 1.0)\n",
    "rotated = cv2.warpAffine(img, M, (w, h))\n",
    "\n",
    "print(f\"(h,w,c) : {h},{w},{c}\")\n",
    "print(\"center : \",center)\n",
    "\n",
    "cv2.imshow('window',img_flipped)\n",
    "cv2.waitKey(0)"
   ]
  },
  {
   "cell_type": "markdown",
   "id": "838e5fa9",
   "metadata": {},
   "source": [
    "\n",
    "## 6. ✏️ Drawing Functions\n",
    "\n",
    "Drawing Line, Rectangle, Circle and writing text. "
   ]
  },
  {
   "cell_type": "code",
   "execution_count": 40,
   "id": "da11cc7a",
   "metadata": {},
   "outputs": [
    {
     "data": {
      "text/plain": [
       "-1"
      ]
     },
     "execution_count": 40,
     "metadata": {},
     "output_type": "execute_result"
    }
   ],
   "source": [
    "import numpy as np\n",
    "\n",
    "\n",
    "img = np.zeros((512,512,3))\n",
    "\n",
    "cv2.line(img, pt1=(0, 0), pt2=(256, 256), color=(255, 0, 0), thickness=2)\n",
    "cv2.rectangle(img, pt1=(50, 50), pt2=(350, 350), color=(0, 255, 0), thickness=3)\n",
    "cv2.circle(img, center=(100, 100), radius=40, color=(0, 0, 255), thickness=-1)     # thickness = -1, to fill the shape\n",
    "cv2.putText(img, 'OpenCV', org=(10, 256), fontFace=cv2.FONT_HERSHEY_SIMPLEX, fontScale=2, lineType=cv2.LINE_AA, color=(255, 255, 255), thickness=5)\n",
    "\n",
    "cv2.imshow('window',img)\n",
    "cv2.waitKey(0)"
   ]
  },
  {
   "cell_type": "markdown",
   "id": "3a67535c",
   "metadata": {},
   "source": [
    "\n",
    "## 7. 🔲 Events\n",
    "\n",
    "Making a circle and rectangle using mouse events"
   ]
  },
  {
   "cell_type": "code",
   "execution_count": 51,
   "id": "355d0333",
   "metadata": {},
   "outputs": [],
   "source": [
    "import cv2\n",
    "import numpy as np\n",
    "\n",
    "def draw(event,x,y,flags,params):\n",
    "    if event == 1:\n",
    "\n",
    "        cv2.circle(img=img, center=(x,y), radius=20, color=(0,255,0), thickness=-1)\n",
    "\n",
    "cv2.namedWindow(winname='window')\n",
    "cv2.setMouseCallback('window',draw)\n",
    "\n",
    "\n",
    "img = np.zeros((512,512,3))\n",
    "\n",
    "while True:\n",
    "\n",
    "    cv2.imshow(\"window\", img)\n",
    "\n",
    "    if cv2.waitKey(1) & 0xFFF == ord('x'):\n",
    "        break\n",
    "     \n",
    "cv2.destroyAllWindows()"
   ]
  },
  {
   "cell_type": "code",
   "execution_count": 60,
   "id": "d48c80d5",
   "metadata": {},
   "outputs": [],
   "source": [
    "import cv2\n",
    "import numpy as np\n",
    "\n",
    "flag = False\n",
    "ix = -1\n",
    "iy = -1\n",
    "\n",
    "def draw(event,x,y,flags,params):\n",
    "\n",
    "    global ix, iy, flag\n",
    "\n",
    "    if event == 1:\n",
    "\n",
    "        flag = True\n",
    "        ix = x\n",
    "        iy = y\n",
    "\n",
    "    elif event == 0:\n",
    "\n",
    "        if flag == True:\n",
    "\n",
    "            cv2.rectangle(img=img, pt1=(ix,iy), pt2=(x,y), color=(0,255,0), thickness=-1)\n",
    "\n",
    "    elif event == 4:\n",
    "\n",
    "        flag = False\n",
    "        cv2.rectangle(img=img, pt1=(ix,iy), pt2=(x,y), color=(0,255,0), thickness=-1)\n",
    "\n",
    "cv2.namedWindow(winname='window')\n",
    "cv2.setMouseCallback('window',draw)\n",
    "\n",
    "\n",
    "img = np.zeros((512,512,3))\n",
    "\n",
    "while True:\n",
    "\n",
    "    cv2.imshow(\"window\", img)\n",
    "\n",
    "    if cv2.waitKey(1) & 0xFFF == ord('x'):\n",
    "        break\n",
    "     \n",
    "cv2.destroyAllWindows()"
   ]
  },
  {
   "cell_type": "markdown",
   "id": "2e38bb93",
   "metadata": {},
   "source": [
    "\n",
    "## 8. ✂️ Cropping Tool Example\n",
    "\n"
   ]
  },
  {
   "cell_type": "code",
   "execution_count": 67,
   "id": "397fd944",
   "metadata": {},
   "outputs": [],
   "source": [
    "import cv2\n",
    "import numpy as np\n",
    "\n",
    "img = cv2.imread(\"fruits.jpg\")\n",
    "\n",
    "flag = False\n",
    "ix = -1\n",
    "iy = -1\n",
    "\n",
    "def crop(event,x,y,flags,params):\n",
    "\n",
    "    global flag, ix, iy\n",
    "\n",
    "    if event == 1:\n",
    "\n",
    "        flag = True\n",
    "        ix = x\n",
    "        iy = y\n",
    "\n",
    "    elif event == 4:\n",
    "\n",
    "        fx = x\n",
    "        fy = y\n",
    "        flag = False\n",
    "        cv2.rectangle(img, pt1=(ix,iy), pt2=(x,y), thickness=1, color=(0,0,0))\n",
    "\n",
    "        # CROP PART\n",
    "        cropped = img[iy:fy,ix:fx]\n",
    "        cv2.imshow(\"cropped\",cropped)\n",
    "        cv2.waitKey(0)\n",
    "\n",
    "\n",
    "\n",
    "cv2.namedWindow(winname=\"window\")\n",
    "cv2.setMouseCallback('window',crop)\n",
    "\n",
    "while True:\n",
    "\n",
    "    cv2.imshow('window',img)\n",
    "\n",
    "    if cv2.waitKey(1) & 0xFF == ord('x'):\n",
    "        break\n",
    "cv2.destroyAllWindows()\n",
    "\n",
    "\n"
   ]
  },
  {
   "cell_type": "markdown",
   "id": "de7fdb3c",
   "metadata": {},
   "source": [
    "\n",
    "## 9. 🎥 Working with Video\n",
    "\n"
   ]
  },
  {
   "cell_type": "code",
   "execution_count": null,
   "id": "5bd58717",
   "metadata": {},
   "outputs": [],
   "source": [
    "import cv2\n",
    "\n",
    "cap = cv2.VideoCapture(0)\n",
    "\n",
    "while True:\n",
    "\n",
    "    ret, frame = cap.read()\n",
    "    cv2.imshow('webcam',frame)\n",
    "\n",
    "    if cv2.waitKey(1) & 0xFF == ord('x'):\n",
    "        break\n",
    "\n",
    "cv2.destroyAllWindows()"
   ]
  },
  {
   "cell_type": "markdown",
   "id": "698478f3",
   "metadata": {},
   "source": [
    "\n",
    "## 10. 🔍 Saving Video file\n",
    "\n"
   ]
  },
  {
   "cell_type": "code",
   "execution_count": null,
   "id": "e37640a1",
   "metadata": {},
   "outputs": [],
   "source": [
    "import cv2\n",
    "\n",
    "cap = cv2.VideoCapture(0)       # Give path to play stored video file\n",
    "fourcc = cv2.VideoWriter_fourcc(*'mp4v')\n",
    "out = cv2.VideoWriter('output.mp4', fourcc, 20.0, (640, 480))\n",
    "\n",
    "while True:\n",
    "\n",
    "    ret, frame = cap.read()\n",
    "    out.imwrite(frame)          # To save video\n",
    "    cv2.imshow('webcam',frame)\n",
    "\n",
    "    if cv2.waitKey(1) & 0xFF == ord('x'):\n",
    "        break\n",
    "\n",
    "cap.release()\n",
    "cv2.destroyAllWindows()"
   ]
  },
  {
   "cell_type": "markdown",
   "id": "6e0dfc78",
   "metadata": {},
   "source": [
    "\n",
    "## 10. ✅ Summary\n",
    "\n",
    "OpenCV is a powerful tool for:\n",
    "\n",
    "- Reading, processing, and saving images and videos\n",
    "- Performing operations with events\n",
    "- Drawing shapes and transforming images\n",
    "\n",
    "\n",
    "Explore further:\n",
    "- [All OpenCV Modules](https://docs.opencv.org/4.x/)\n"
   ]
  }
 ],
 "metadata": {
  "kernelspec": {
   "display_name": "base",
   "language": "python",
   "name": "python3"
  },
  "language_info": {
   "codemirror_mode": {
    "name": "ipython",
    "version": 3
   },
   "file_extension": ".py",
   "mimetype": "text/x-python",
   "name": "python",
   "nbconvert_exporter": "python",
   "pygments_lexer": "ipython3",
   "version": "3.12.4"
  }
 },
 "nbformat": 4,
 "nbformat_minor": 5
}
