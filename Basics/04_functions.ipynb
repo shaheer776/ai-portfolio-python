{
 "cells": [
  {
   "cell_type": "markdown",
   "id": "f4fb487f",
   "metadata": {},
   "source": [
    "# 🧠 Functions in Python\n",
    "This notebook covers:\n",
    "- Defining and calling functions\n",
    "- Parameters and arguments (`*args`, `**kwargs`)\n",
    "- Return values\n",
    "- Default parameter values\n",
    "- Scope and `global`\n",
    "- Lambda functions\n",
    "- Docstrings and best practices\n",
    "\n",
    "🔗 [Official Python Functions Documentation](https://docs.python.org/3/tutorial/controlflow.html#defining-functions)"
   ]
  },
  {
   "cell_type": "markdown",
   "id": "caf5d6d3",
   "metadata": {},
   "source": [
    "## ✅ Defining a Function\n",
    "Use the `def` keyword followed by the function name and parameters:\n",
    "```python\n",
    "def function_name(parameters):\n",
    "    # block of code\n",
    "    return value\n",
    "```"
   ]
  },
  {
   "cell_type": "code",
   "execution_count": 1,
   "id": "df140833",
   "metadata": {},
   "outputs": [
    {
     "name": "stdout",
     "output_type": "stream",
     "text": [
      "Hello, Alice!\n"
     ]
    }
   ],
   "source": [
    "def greet(name):\n",
    "    return f\"Hello, {name}!\"\n",
    "\n",
    "print(greet(\"Alice\"))"
   ]
  },
  {
   "cell_type": "markdown",
   "id": "fc70ee1d",
   "metadata": {},
   "source": [
    "## 🔢 Parameters and Arguments\n",
    "- **Positional arguments**: assigned based on order\n",
    "- **Keyword arguments**: assigned by name\n",
    "- **Default values**: fallback if not passed"
   ]
  },
  {
   "cell_type": "code",
   "execution_count": 2,
   "id": "138de2b0",
   "metadata": {},
   "outputs": [
    {
     "name": "stdout",
     "output_type": "stream",
     "text": [
      "I have a dog named Buddy.\n",
      "I have a cat named Unknown.\n"
     ]
    }
   ],
   "source": [
    "def describe_pet(animal, name=\"Unknown\"):\n",
    "    print(f\"I have a {animal} named {name}.\")\n",
    "\n",
    "describe_pet(\"dog\", \"Buddy\")\n",
    "describe_pet(\"cat\")"
   ]
  },
  {
   "cell_type": "markdown",
   "id": "276ebe32",
   "metadata": {},
   "source": [
    "## 🌟 Variable-Length Arguments\n",
    "- `*args`: arbitrary number of positional arguments (tuple)\n",
    "- `**kwargs`: arbitrary number of keyword arguments (dict)"
   ]
  },
  {
   "cell_type": "code",
   "execution_count": 3,
   "id": "f27a094a",
   "metadata": {},
   "outputs": [
    {
     "name": "stdout",
     "output_type": "stream",
     "text": [
      "1\n",
      "2\n",
      "3\n",
      "a = 1\n",
      "b = 2\n"
     ]
    }
   ],
   "source": [
    "def print_args(*args):\n",
    "    for arg in args:\n",
    "        print(arg)\n",
    "\n",
    "print_args(1, 2, 3)\n",
    "\n",
    "def print_kwargs(**kwargs):\n",
    "    for key, value in kwargs.items():\n",
    "        print(f\"{key} = {value}\")\n",
    "\n",
    "print_kwargs(a=1, b=2)"
   ]
  },
  {
   "cell_type": "markdown",
   "id": "bee363fc",
   "metadata": {},
   "source": [
    "## 🔁 Returning Values\n",
    "Use `return` to send back results from a function."
   ]
  },
  {
   "cell_type": "code",
   "execution_count": 4,
   "id": "5cde15f1",
   "metadata": {},
   "outputs": [
    {
     "name": "stdout",
     "output_type": "stream",
     "text": [
      "8\n"
     ]
    }
   ],
   "source": [
    "def add(a, b):\n",
    "    return a + b\n",
    "\n",
    "result = add(5, 3)\n",
    "print(result)"
   ]
  },
  {
   "cell_type": "markdown",
   "id": "a4475b27",
   "metadata": {},
   "source": [
    "## 🧭 Scope and the `global` Keyword\n",
    "- Variables inside functions are local by default.\n",
    "- Use `global` to modify a variable outside the function."
   ]
  },
  {
   "cell_type": "code",
   "execution_count": 5,
   "id": "c53edb90",
   "metadata": {},
   "outputs": [
    {
     "name": "stdout",
     "output_type": "stream",
     "text": [
      "10\n"
     ]
    }
   ],
   "source": [
    "x = 5\n",
    "\n",
    "def modify():\n",
    "    global x\n",
    "    x = 10\n",
    "\n",
    "modify()\n",
    "print(x)"
   ]
  },
  {
   "cell_type": "markdown",
   "id": "090d9264",
   "metadata": {},
   "source": [
    "## ⚡ Lambda Functions\n",
    "Anonymous one-liner functions for simple expressions:\n",
    "`lambda arguments: expression`"
   ]
  },
  {
   "cell_type": "code",
   "execution_count": 7,
   "id": "1eb641d6",
   "metadata": {},
   "outputs": [
    {
     "name": "stdout",
     "output_type": "stream",
     "text": [
      "25\n"
     ]
    }
   ],
   "source": [
    "square = lambda x: x ** 2\n",
    "print(square(5))"
   ]
  },
  {
   "cell_type": "markdown",
   "id": "8c3cb966",
   "metadata": {},
   "source": [
    "##  🧰 Using map(), filter(), and sorted() with Functions"
   ]
  },
  {
   "cell_type": "markdown",
   "id": "10f100ee",
   "metadata": {},
   "source": [
    "🔹 map(function, iterable)\n",
    "\n",
    "- map() applies a function to every item in an iterable (like a list) and returns a map object, which can be converted to a list or iterated through."
   ]
  },
  {
   "cell_type": "code",
   "execution_count": 10,
   "id": "d7f42a05",
   "metadata": {},
   "outputs": [
    {
     "name": "stdout",
     "output_type": "stream",
     "text": [
      "[1, 4, 9, 16]\n",
      "[1, 4, 9, 16]\n"
     ]
    }
   ],
   "source": [
    "# Example using a regular function\n",
    "def square(x):\n",
    "    return x ** 2\n",
    "\n",
    "numbers = [1, 2, 3, 4]\n",
    "result = map(square, numbers)\n",
    "print(list(result))  # [1, 4, 9, 16]\n",
    "\n",
    "#  with a lambda function:\n",
    "\n",
    "numbers = [1, 2, 3, 4]\n",
    "squares = list(map(lambda x: x**2, numbers))\n",
    "print(squares)  # [1, 4, 9, 16]\n"
   ]
  },
  {
   "cell_type": "markdown",
   "id": "a7576e4c",
   "metadata": {},
   "source": [
    "🔹 filter(function, iterable)\n",
    "\n",
    "- filter() filters the iterable by applying the function and returns only those elements for which the function returns True."
   ]
  },
  {
   "cell_type": "code",
   "execution_count": 11,
   "id": "85349cff",
   "metadata": {},
   "outputs": [
    {
     "name": "stdout",
     "output_type": "stream",
     "text": [
      "[2, 4, 6]\n",
      "[2, 4, 6]\n"
     ]
    }
   ],
   "source": [
    "# Using a regular function\n",
    "def is_even(x):\n",
    "    return x % 2 == 0\n",
    "\n",
    "nums = [1, 2, 3, 4, 5, 6]\n",
    "even_nums = filter(is_even, nums)\n",
    "print(list(even_nums))  # [2, 4, 6]\n",
    "\n",
    "# Using a lambda function:\n",
    "\n",
    "nums = [1, 2, 3, 4, 5, 6]\n",
    "evens = list(filter(lambda x: x % 2 == 0, nums))\n",
    "print(evens)  # [2, 4, 6]\n"
   ]
  },
  {
   "cell_type": "markdown",
   "id": "76014a23",
   "metadata": {},
   "source": [
    "🔹 sorted(iterable, key=function)\n",
    "\n",
    "- sorted() returns a new sorted list from the items in an iterable. You can customize the sorting order using the key parameter."
   ]
  },
  {
   "cell_type": "code",
   "execution_count": 12,
   "id": "ce48e258",
   "metadata": {},
   "outputs": [
    {
     "name": "stdout",
     "output_type": "stream",
     "text": [
      "['Alice', 'Bob', 'John']\n",
      "['Bob', 'John', 'Alice']\n"
     ]
    }
   ],
   "source": [
    "# Default sorting\n",
    "names = [\"John\", \"Alice\", \"Bob\"]\n",
    "sorted_names = sorted(names)\n",
    "print(sorted_names)  # ['Alice', 'Bob', 'John']\n",
    "\n",
    "\n",
    "# You can sort by a custom rule, such as the length of each name:\n",
    "\n",
    "# Sort by length of names\n",
    "sorted_by_length = sorted(names, key=lambda x: len(x))\n",
    "print(sorted_by_length)  # ['Bob', 'John', 'Alice']\n"
   ]
  },
  {
   "cell_type": "markdown",
   "id": "240ba592",
   "metadata": {},
   "source": [
    "## 📝 Docstrings\n",
    "Use triple quotes `\"\"\"` inside a function to describe what it does."
   ]
  },
  {
   "cell_type": "code",
   "execution_count": 13,
   "id": "6eb147fd",
   "metadata": {},
   "outputs": [
    {
     "name": "stdout",
     "output_type": "stream",
     "text": [
      "Returns a greeting message.\n"
     ]
    }
   ],
   "source": [
    "def greet(name):\n",
    "    \"\"\"Returns a greeting message.\"\"\"\n",
    "    return f\"Hello, {name}\"\n",
    "\n",
    "print(greet.__doc__)"
   ]
  },
  {
   "cell_type": "markdown",
   "id": "4c3082ff",
   "metadata": {},
   "source": [
    "## ✅ Best Practices\n",
    "- Use clear and descriptive function names.\n",
    "- Keep functions focused (do one thing).\n",
    "- Document with docstrings.\n",
    "- Avoid side effects unless necessary.\n",
    "- Use `*args`/`**kwargs` for flexibility, but not excessively."
   ]
  },
  {
   "cell_type": "markdown",
   "id": "46ec951d",
   "metadata": {},
   "source": [
    "## 📌 Summary\n",
    "- Functions help you reuse and organize code.\n",
    "- Support for optional and variable arguments.\n",
    "- map() : Transforms each item using a function\n",
    "- filter() : Selects items for which the function returns True\n",
    "- sorted() : Sorts items, optionally using a key function\n",
    "- Clear structure and documentation improve readability."
   ]
  },
  {
   "cell_type": "markdown",
   "id": "123067fa",
   "metadata": {},
   "source": [
    "> 📖 [Read More on Functions](https://docs.python.org/3/tutorial/controlflow.html#defining-functions)"
   ]
  }
 ],
 "metadata": {
  "kernelspec": {
   "display_name": "base",
   "language": "python",
   "name": "python3"
  },
  "language_info": {
   "codemirror_mode": {
    "name": "ipython",
    "version": 3
   },
   "file_extension": ".py",
   "mimetype": "text/x-python",
   "name": "python",
   "nbconvert_exporter": "python",
   "pygments_lexer": "ipython3",
   "version": "3.12.4"
  }
 },
 "nbformat": 4,
 "nbformat_minor": 5
}
