{
 "cells": [
  {
   "cell_type": "markdown",
   "id": "2b2489dc",
   "metadata": {},
   "source": [
    "# 🧱 07 - Object-Oriented Programming in Python"
   ]
  },
  {
   "cell_type": "markdown",
   "id": "d8c79884",
   "metadata": {},
   "source": [
    "## 📚 Contents\n",
    "1. What is OOP?\n",
    "2. Class and Object\n",
    "3. The `__init__` Method (Constructor)\n",
    "4. Instance Variables and Methods\n",
    "5. Class Variables and Methods\n",
    "6. Inheritance\n",
    "7. Method Overriding\n",
    "8. Encapsulation\n",
    "9. Polymorphism\n",
    "10. Special (Magic/Dunder) Methods\n",
    "11. `isinstance()` and `issubclass()`\n",
    "12. Composition vs Inheritance\n",
    "13. Summary\n",
    "14. References\n",
    "\n",
    "\n",
    "### 📘 References\n",
    "\n",
    "🔗 [Python Classes - Official Docs](https://docs.python.org/3/tutorial/classes.html)\n",
    "\n",
    "🔗 [Real Python - OOP](https://realpython.com/python3-object-oriented-programming/)\n",
    "    "
   ]
  },
  {
   "cell_type": "markdown",
   "id": "d121c478",
   "metadata": {},
   "source": [
    "### 1. What is Object-Oriented Programming (OOP)?\n",
    "\n",
    "Object-Oriented Programming (OOP) is a programming paradigm based on the concept of objects. These objects can contain data, in the form of fields (attributes), and code, in the form of procedures (methods). OOP helps in building programs that are more modular, reusable, and easier to understand.\n",
    "Python supports OOP and allows you to create and work with objects using classes. It helps in modeling real-world entities, making your code more organized and maintainable. Object-Oriented Programming is a programming paradigm that organizes code into **objects**, which are instances of **classes**. It provides a clear structure for the code and promotes **reusability**, **modularity**, and **abstraction**.\n",
    "\n",
    "The four key principles of OOP:\n",
    "- **Encapsulation**: Hiding internal state and requiring all interaction to be performed through an object’s methods.\n",
    "- **Abstraction**: Hiding complex implementation details and showing only the essential features.\n",
    "- **Inheritance**: Ability of a class to inherit properties and methods from another class.\n",
    "- **Polymorphism**: The ability to use a shared interface for multiple forms (methods with the same name behaving differently based on the object).\n"
   ]
  },
  {
   "cell_type": "markdown",
   "id": "fd3b4b76",
   "metadata": {},
   "source": [
    "### 2. Class and Object\n",
    "\n",
    "- A class is like a blueprint or template for creating objects. It defines the attributes and behaviors that the objects created from it will have.\n",
    "\n",
    "- An object is a specific instance of a class. Each object can hold different values for its attributes.\n",
    "\n",
    "Think of a class as a mold, and an object as a product made from that mold.\n",
    "\n",
    "A **class** is a blueprint for creating objects. An **object** is an instance of a class.\n",
    "\n",
    "\n"
   ]
  },
  {
   "cell_type": "code",
   "execution_count": 2,
   "id": "811905dd",
   "metadata": {},
   "outputs": [
    {
     "name": "stdout",
     "output_type": "stream",
     "text": [
      "Woof!\n"
     ]
    }
   ],
   "source": [
    "\n",
    "class Dog:\n",
    "    def bark(self):\n",
    "        print(\"Woof!\")\n",
    "\n",
    "my_dog = Dog()\n",
    "my_dog.bark()  # Output: Woof!"
   ]
  },
  {
   "cell_type": "markdown",
   "id": "ab17c89e",
   "metadata": {},
   "source": [
    "### 3. The __init__ Method (Constructor)\n",
    "\n",
    "The __init__ method in Python is the constructor of the class. It is automatically called when a new object is created. Its primary purpose is to initialize the instance variables of the object.\n",
    "The first parameter of __init__ is always self, which refers to the instance being created. You can pass additional parameters to customize the object's initialization.\n",
    "\n",
    "The __init__ method is automatically called when a new object is created.\n",
    "\n"
   ]
  },
  {
   "cell_type": "code",
   "execution_count": 4,
   "id": "abefd939",
   "metadata": {},
   "outputs": [
    {
     "name": "stdout",
     "output_type": "stream",
     "text": [
      "My name is Buddy, and I am a Golden Retriever.\n"
     ]
    }
   ],
   "source": [
    "class Dog:\n",
    "    def __init__(self, name, breed):\n",
    "        self.name = name\n",
    "        self.breed = breed\n",
    "\n",
    "    def info(self):\n",
    "        print(f\"My name is {self.name}, and I am a {self.breed}.\")\n",
    "\n",
    "dog1 = Dog(\"Buddy\", \"Golden Retriever\")\n",
    "dog1.info()"
   ]
  },
  {
   "cell_type": "markdown",
   "id": "8e317c3d",
   "metadata": {},
   "source": [
    "### 4. Instance Variables and Methods\n",
    "\n",
    "- Instance variables are attributes that are unique to each object. They are typically defined in the __init__ method using self.variable_name.\n",
    "\n",
    "- Instance methods are functions defined within a class that operate on an instance of that class. They use self to access and modify the object’s attributes.\n",
    "\n",
    "Each object can have different values for the same instance variables, depending on how it was initialized.\n",
    "\n",
    "\n",
    "\n",
    "\n",
    "\n"
   ]
  },
  {
   "cell_type": "code",
   "execution_count": 5,
   "id": "8e6648c5",
   "metadata": {},
   "outputs": [
    {
     "name": "stdout",
     "output_type": "stream",
     "text": [
      "Toyota (2020)\n",
      "Honda (2022)\n"
     ]
    }
   ],
   "source": [
    "class Car:\n",
    "    def __init__(self, brand, year):\n",
    "        self.brand = brand\n",
    "        self.year = year\n",
    "\n",
    "    def display(self):\n",
    "        print(f\"{self.brand} ({self.year})\")\n",
    "\n",
    "car1 = Car(\"Toyota\", 2020)\n",
    "car2 = Car(\"Honda\", 2022)\n",
    "\n",
    "car1.display()\n",
    "car2.display()"
   ]
  },
  {
   "cell_type": "markdown",
   "id": "32ebcb30",
   "metadata": {},
   "source": [
    "### 5. Class Variables and Methods\n",
    "\n",
    "- Class variables are shared by all instances of a class. They are defined outside the __init__ method, directly in the class body.\n",
    "\n",
    "- Class methods are methods bound to the class and not the instance. They use @classmethod as a decorator and take cls (class itself) as their first argument.\n",
    "\n",
    "Class methods are useful when you want to perform operations that relate to the class as a whole, not individual objects."
   ]
  },
  {
   "cell_type": "code",
   "execution_count": 6,
   "id": "b2954956",
   "metadata": {},
   "outputs": [
    {
     "name": "stdout",
     "output_type": "stream",
     "text": [
      "Company: TechCorp\n"
     ]
    }
   ],
   "source": [
    "class Employee:\n",
    "    company = \"TechCorp\"  # Class variable\n",
    "\n",
    "    def __init__(self, name):\n",
    "        self.name = name\n",
    "\n",
    "    @classmethod\n",
    "    def show_company(cls):\n",
    "        print(f\"Company: {cls.company}\")\n",
    "\n",
    "e1 = Employee(\"Alice\")\n",
    "e2 = Employee(\"Bob\")\n",
    "\n",
    "Employee.show_company()"
   ]
  },
  {
   "cell_type": "markdown",
   "id": "de7aa0d9",
   "metadata": {},
   "source": [
    "### 6. Inheritance\n",
    "\n",
    "Inheritance allows a class (child/derived) to inherit attributes and methods from another class (parent/base). It supports code reuse, and allows the child class to override or extend the parent’s functionality.\n",
    "\n",
    "This makes your code DRY (Don't Repeat Yourself) and modular. The child class can have its own additional properties and methods."
   ]
  },
  {
   "cell_type": "code",
   "execution_count": 11,
   "id": "2a9c4432",
   "metadata": {},
   "outputs": [
    {
     "name": "stdout",
     "output_type": "stream",
     "text": [
      "Some sound\n",
      "Meow!\n"
     ]
    }
   ],
   "source": [
    "class Animal:\n",
    "    def sound(self):\n",
    "        print(\"Some sound\")\n",
    "\n",
    "class Cat(Animal):\n",
    "    def meow(self):\n",
    "        print(\"Meow!\")\n",
    "\n",
    "c = Cat()\n",
    "c.sound()\n",
    "c.meow()"
   ]
  },
  {
   "cell_type": "markdown",
   "id": "d57fdf89",
   "metadata": {},
   "source": [
    "### 7. Method Overriding\n",
    "\n",
    "Method overriding occurs when a child class provides its own implementation of a method that is already defined in its parent class. It allows customization of inherited behavior without changing the parent class.\n",
    "This is a key aspect of polymorphism in OOP."
   ]
  },
  {
   "cell_type": "code",
   "execution_count": 9,
   "id": "19ded019",
   "metadata": {},
   "outputs": [
    {
     "name": "stdout",
     "output_type": "stream",
     "text": [
      "Bark!\n"
     ]
    }
   ],
   "source": [
    "class Animal:\n",
    "    def sound(self):\n",
    "        print(\"Animal sound\")\n",
    "\n",
    "class Dog(Animal):\n",
    "    def sound(self):\n",
    "        print(\"Bark!\")\n",
    "\n",
    "d = Dog()\n",
    "d.sound()  # Output: Bark!\n"
   ]
  },
  {
   "cell_type": "markdown",
   "id": "e54046e1",
   "metadata": {},
   "source": [
    "### 8. Encapsulation\n",
    "\n",
    "Encapsulation refers to the bundling of data (attributes) and methods that operate on the data into a single unit or class, and restricting access to some of the object’s components.\n",
    "\n",
    "- It helps in hiding the internal state of the object from the outside world.\n",
    "\n",
    "- This is done using private variables (by prefixing variable names with _ or __).\n",
    "\n",
    "Encapsulation ensures that internal object details remain hidden, and changes to those details don’t affect other parts of the code."
   ]
  },
  {
   "cell_type": "code",
   "execution_count": 10,
   "id": "8a75f853",
   "metadata": {},
   "outputs": [
    {
     "name": "stdout",
     "output_type": "stream",
     "text": [
      "John\n"
     ]
    }
   ],
   "source": [
    "class Person:\n",
    "    def __init__(self, name):\n",
    "        self.__name = name  # private variable\n",
    "\n",
    "    def get_name(self):\n",
    "        return self.__name\n",
    "\n",
    "p = Person(\"John\")\n",
    "print(p.get_name())  # Access through getter"
   ]
  },
  {
   "cell_type": "markdown",
   "id": "8c203a34",
   "metadata": {},
   "source": [
    "### 9. Polymorphism\n",
    "\n",
    "Polymorphism means \"many forms\". In OOP, it refers to the ability of different classes to respond to the same method call in different ways.\n",
    "\n",
    "It allows objects of different classes to be treated as objects of a common super class. The most common use of polymorphism is when different classes implement the same method but with different behaviors.\n",
    "\n",
    "\n"
   ]
  },
  {
   "cell_type": "code",
   "execution_count": 12,
   "id": "9675612c",
   "metadata": {},
   "outputs": [
    {
     "name": "stdout",
     "output_type": "stream",
     "text": [
      "Tweet\n",
      "Moo\n"
     ]
    }
   ],
   "source": [
    "\n",
    "class Bird:\n",
    "    def sound(self):\n",
    "        print(\"Tweet\")\n",
    "\n",
    "class Cow:\n",
    "    def sound(self):\n",
    "        print(\"Moo\")\n",
    "\n",
    "for animal in (Bird(), Cow()):\n",
    "    animal.sound()\n"
   ]
  },
  {
   "cell_type": "markdown",
   "id": "e242cbdf",
   "metadata": {},
   "source": [
    "### 10. Special (Magic/Dunder) Methods\n",
    "\n",
    "These are special methods that have double underscores at the beginning and end (also called dunder methods). They allow classes to define custom behavior for Python operators and built-in functions.\n",
    "\n",
    "Examples:\n",
    "\n",
    "- __init__() – Constructor\n",
    "\n",
    "- __str__() – String representation\n",
    "\n",
    "- __len__(), __getitem__(), __add__() – Operator/function overloading\n",
    "\n",
    "They make your classes more Pythonic and integrate seamlessly with Python’s syntax and built-ins.\n",
    "\n"
   ]
  },
  {
   "cell_type": "code",
   "execution_count": 13,
   "id": "546a8747",
   "metadata": {},
   "outputs": [
    {
     "name": "stdout",
     "output_type": "stream",
     "text": [
      "Book: 1984\n"
     ]
    }
   ],
   "source": [
    "\n",
    "class Book:\n",
    "    def __init__(self, title):\n",
    "        self.title = title\n",
    "\n",
    "    def __str__(self):\n",
    "        return f\"Book: {self.title}\"\n",
    "\n",
    "b = Book(\"1984\")\n",
    "print(b)\n"
   ]
  },
  {
   "cell_type": "markdown",
   "id": "b78cf1ed",
   "metadata": {},
   "source": [
    "### 11. isinstance() and issubclass()\n",
    "\n",
    "- isinstance(object, Class) – Checks if the object is an instance of the specified class or its subclass.\n",
    "\n",
    "- issubclass(SubClass, ParentClass) – Checks if a class is a subclass of another class.\n",
    "\n",
    "These functions are useful for type checking and implementing polymorphic behavior safely.\n",
    "\n"
   ]
  },
  {
   "cell_type": "code",
   "execution_count": 14,
   "id": "2f772e6c",
   "metadata": {},
   "outputs": [
    {
     "name": "stdout",
     "output_type": "stream",
     "text": [
      "True\n",
      "True\n"
     ]
    }
   ],
   "source": [
    "\n",
    "print(isinstance(\"hello\", str))      # True\n",
    "print(issubclass(bool, int))         # True\n"
   ]
  },
  {
   "cell_type": "markdown",
   "id": "0eb50f3f",
   "metadata": {},
   "source": [
    "### 12. Composition vs Inheritance\n",
    "\n",
    "- Inheritance expresses an \"is-a\" relationship. It is used when a class shares behavior with a parent class but wants to add/modify features.\n",
    "\n",
    "- Composition expresses a \"has-a\" relationship. One class contains another as part of its attributes.\n",
    "\n",
    "Composition is often preferred over inheritance because it allows for greater flexibility and decoupling.\n"
   ]
  },
  {
   "cell_type": "code",
   "execution_count": 15,
   "id": "5f1f18b1",
   "metadata": {},
   "outputs": [
    {
     "name": "stdout",
     "output_type": "stream",
     "text": [
      "Engine starting...\n",
      "Car is driving\n"
     ]
    }
   ],
   "source": [
    "\n",
    "class Engine:\n",
    "    def start(self):\n",
    "        print(\"Engine starting...\")\n",
    "\n",
    "class Car:\n",
    "    def __init__(self):\n",
    "        self.engine = Engine()\n",
    "\n",
    "    def drive(self):\n",
    "        self.engine.start()\n",
    "        print(\"Car is driving\")\n",
    "\n",
    "c = Car()\n",
    "c.drive()\n"
   ]
  },
  {
   "cell_type": "markdown",
   "id": "0b47d34e",
   "metadata": {},
   "source": [
    "### ✅ Summary\n",
    "\n",
    "- Use classes and objects to structure your code.\n",
    "\n",
    "- Understand key OOP principles: Encapsulation, Inheritance, Polymorphism, Abstraction.\n",
    "\n",
    "- Use special methods to make your objects more Pythonic.\n",
    "\n",
    "- Use composition for flexibility when inheritance doesn’t fit.\n"
   ]
  },
  {
   "cell_type": "markdown",
   "id": "099c177e",
   "metadata": {},
   "source": [
    "### 📘 References\n",
    "\n",
    "🔗 [Python Classes - Official Docs](https://docs.python.org/3/tutorial/classes.html)\n",
    "\n",
    "🔗 [Real Python - OOP](https://realpython.com/python3-object-oriented-programming/)\n",
    "    "
   ]
  }
 ],
 "metadata": {
  "kaggle": {
   "accelerator": "nvidiaTeslaT4",
   "dataSources": [],
   "dockerImageVersionId": 30886,
   "isGpuEnabled": true,
   "isInternetEnabled": true,
   "language": "python",
   "sourceType": "notebook"
  },
  "kernelspec": {
   "display_name": "base",
   "language": "python",
   "name": "python3"
  },
  "language_info": {
   "codemirror_mode": {
    "name": "ipython",
    "version": 3
   },
   "file_extension": ".py",
   "mimetype": "text/x-python",
   "name": "python",
   "nbconvert_exporter": "python",
   "pygments_lexer": "ipython3",
   "version": "3.12.4"
  }
 },
 "nbformat": 4,
 "nbformat_minor": 5
}
