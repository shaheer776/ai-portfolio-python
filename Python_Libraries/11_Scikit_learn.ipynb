{
 "cells": [
  {
   "cell_type": "markdown",
   "id": "f6547d25",
   "metadata": {},
   "source": [
    "\n",
    "# 📘 Scikit-Learn\n",
    "\n",
    "Welcome to the **complete Scikit-learn reference notebook**. This notebook covers:\n",
    "- Links to the official documentation\n",
    "- Detailed theory and use cases\n",
    "- Practical examples for each function\n",
    "\n",
    "> 📚 Official Docs: [https://scikit-learn.org/stable/](https://scikit-learn.org/stable/)\n",
    "\n",
    "> 📚 Unofficial Docs: [hhttps://devdocs.io/scikit_learn/](https://devdocs.io/scikit_learn/)"
   ]
  },
  {
   "cell_type": "markdown",
   "id": "850b92e2",
   "metadata": {},
   "source": []
  }
 ],
 "metadata": {
  "kernelspec": {
   "display_name": "base",
   "language": "python",
   "name": "python3"
  },
  "language_info": {
   "codemirror_mode": {
    "name": "ipython",
    "version": 3
   },
   "file_extension": ".py",
   "mimetype": "text/x-python",
   "name": "python",
   "nbconvert_exporter": "python",
   "pygments_lexer": "ipython3",
   "version": "3.12.4"
  }
 },
 "nbformat": 4,
 "nbformat_minor": 5
}
