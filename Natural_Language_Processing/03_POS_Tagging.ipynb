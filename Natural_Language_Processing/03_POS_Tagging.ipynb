{
 "cells": [
  {
   "cell_type": "markdown",
   "id": "aa2d46ec",
   "metadata": {
    "papermill": {
     "duration": 0.001961,
     "end_time": "2025-06-30T07:42:40.343505",
     "exception": false,
     "start_time": "2025-06-30T07:42:40.341544",
     "status": "completed"
    },
    "tags": []
   },
   "source": [
    "#  Parts of Speech Tagging\n",
    "---\n",
    "\n",
    "Here are a few steps to do a basic preprocessing of a dataset. The example dataset used is the `IMDB Dataset of 50K Movie Reviews dataset`\n",
    "\n",
    "\n",
    "---\n",
    "\n",
    "## 📑 Contents\n",
    "\n",
    "1. Lower Casing\n",
    "2. Remove HTML tags\n",
    "3. Remove URLs\n",
    "4. Remove Punctuation\n",
    "5. Chat word treatment\n",
    "6. Spelling Correction\n",
    "7. Removing Stop words\n",
    "8. Handling Emojis\n",
    "9. Tokenization\n",
    "10. Stemming\n",
    "11. Lemmatization"
   ]
  },
  {
   "cell_type": "markdown",
   "id": "03871541",
   "metadata": {},
   "source": [
    "## Definition:\n",
    "\n",
    "POS (Part-of-Speech) Tagging is the process of assigning a part of speech (noun, verb, adjective, etc.) to each word in a sentence based on its meaning and context.\n",
    "\n",
    "Words can take on different roles in different sentences. POS tagging uses linguistic rules or machine learning models to determine the correct part of speech for each word."
   ]
  },
  {
   "cell_type": "markdown",
   "id": "e7f6821d",
   "metadata": {},
   "source": [
    "| Tag | Meaning   | Example         |\n",
    "| --- | --------- | --------------- |\n",
    "| NN  | Noun      | `dog`, `car`    |\n",
    "| VB  | Verb      | `run`, `eat`    |\n",
    "| JJ  | Adjective | `happy`, `blue` |\n",
    "| RB  | Adverb    | `quickly`       |\n",
    "| PRP | Pronoun   | `he`, `they`    |\n"
   ]
  },
  {
   "cell_type": "markdown",
   "id": "e7b262df",
   "metadata": {},
   "source": [
    "| Pros                                       | Description                                              |\n",
    "| ------------------------------------------ | -------------------------------------------------------- |\n",
    "| ✅ **Helps grammatical analysis**           | Important for parsing, translation, summarization.       |\n",
    "| ✅ **Improves downstream NLP tasks**        | Like named entity recognition, sentiment analysis.       |\n",
    "| ✅ **Provides context-aware understanding** | Especially useful in disambiguating word meanings.       |\n",
    "| ✅ **Widely available tools**               | NLTK, spaCy, Stanford NLP, etc. offer ready POS taggers. |\n"
   ]
  },
  {
   "cell_type": "markdown",
   "id": "f31a0427",
   "metadata": {},
   "source": [
    "| Cons                                  | Description                                                                      |\n",
    "| ------------------------------------- | -------------------------------------------------------------------------------- |\n",
    "| ❌ **Context sensitivity limitations** | Some models can misclassify without enough context.                              |\n",
    "| ❌ **Ambiguity**                       | A word can have multiple tags; hard to resolve perfectly.                        |\n",
    "| ❌ **Language and domain dependency**  | May need retraining on informal or domain-specific text (e.g., tweets, medical). |\n",
    "| ❌ **Errors propagate**                | Mistakes in tagging can affect downstream tasks.                                 |\n"
   ]
  },
  {
   "cell_type": "markdown",
   "id": "8b2c4924",
   "metadata": {},
   "source": [
    "| Application                          | Role of POS Tagging                       |\n",
    "| ------------------------------------ | ----------------------------------------- |\n",
    "|  **Parsing**                        | Helps build syntax trees.                 |\n",
    "|  **Named Entity Recognition (NER)** | Identifies proper nouns.                  |\n",
    "|  **Question answering**             | Understands sentence structure.           |\n",
    "|  **Machine translation**            | Maintains grammatical correctness.        |\n",
    "|  **Speech recognition**             | Improves understanding of sentence roles. |\n"
   ]
  },
  {
   "cell_type": "code",
   "execution_count": 1,
   "id": "811c6d7f",
   "metadata": {},
   "outputs": [
    {
     "name": "stdout",
     "output_type": "stream",
     "text": [
      "[('The', 'DT'), ('quick', 'JJ'), ('brown', 'NN'), ('fox', 'NN'), ('jumps', 'VBZ'), ('over', 'IN'), ('the', 'DT'), ('lazy', 'JJ'), ('dog', 'NN'), ('.', '.')]\n"
     ]
    }
   ],
   "source": [
    "from nltk import word_tokenize, pos_tag\n",
    "\n",
    "text = \"The quick brown fox jumps over the lazy dog.\"\n",
    "tokens = word_tokenize(text)\n",
    "tags = pos_tag(tokens)\n",
    "\n",
    "print(tags)\n"
   ]
  },
  {
   "cell_type": "code",
   "execution_count": 2,
   "id": "ff52c54c",
   "metadata": {},
   "outputs": [],
   "source": [
    "import spacy\n",
    "\n",
    "nlp = spacy.load('en_core_web_sm')"
   ]
  },
  {
   "cell_type": "code",
   "execution_count": 3,
   "id": "1473094c",
   "metadata": {},
   "outputs": [
    {
     "data": {
      "text/plain": [
       "'I will google about facebook'"
      ]
     },
     "execution_count": 3,
     "metadata": {},
     "output_type": "execute_result"
    }
   ],
   "source": [
    "doc = nlp('I will google about facebook')\n",
    "\n",
    "doc.text"
   ]
  },
  {
   "cell_type": "code",
   "execution_count": 6,
   "id": "c02637f8",
   "metadata": {},
   "outputs": [
    {
     "data": {
      "text/plain": [
       "google"
      ]
     },
     "execution_count": 6,
     "metadata": {},
     "output_type": "execute_result"
    }
   ],
   "source": [
    "doc[2]"
   ]
  },
  {
   "cell_type": "code",
   "execution_count": 9,
   "id": "10345d52",
   "metadata": {},
   "outputs": [
    {
     "data": {
      "text/plain": [
       "'VERB'"
      ]
     },
     "execution_count": 9,
     "metadata": {},
     "output_type": "execute_result"
    }
   ],
   "source": [
    "doc[2].pos_     # Course grained parts of speech"
   ]
  },
  {
   "cell_type": "code",
   "execution_count": 10,
   "id": "194d3015",
   "metadata": {},
   "outputs": [
    {
     "data": {
      "text/plain": [
       "'VB'"
      ]
     },
     "execution_count": 10,
     "metadata": {},
     "output_type": "execute_result"
    }
   ],
   "source": [
    "doc[2].tag_     # Fine grained parts of speech"
   ]
  },
  {
   "cell_type": "code",
   "execution_count": 11,
   "id": "8b7ced3e",
   "metadata": {},
   "outputs": [
    {
     "data": {
      "text/plain": [
       "'verb, base form'"
      ]
     },
     "execution_count": 11,
     "metadata": {},
     "output_type": "execute_result"
    }
   ],
   "source": [
    "spacy.explain('VB')"
   ]
  },
  {
   "cell_type": "code",
   "execution_count": 13,
   "id": "63e6ff71",
   "metadata": {},
   "outputs": [
    {
     "name": "stdout",
     "output_type": "stream",
     "text": [
      "I ---------> PRON PRP pronoun, personal\n",
      "will ---------> AUX MD verb, modal auxiliary\n",
      "google ---------> VERB VB verb, base form\n",
      "about ---------> ADP IN conjunction, subordinating or preposition\n",
      "facebook ---------> PROPN NNP noun, proper singular\n"
     ]
    }
   ],
   "source": [
    "for word in doc:\n",
    "    print(word.text, '--------->', word.pos_, word.tag_, spacy.explain(word.tag_))"
   ]
  },
  {
   "cell_type": "code",
   "execution_count": 16,
   "id": "51eda556",
   "metadata": {},
   "outputs": [
    {
     "name": "stdout",
     "output_type": "stream",
     "text": [
      "I ---------> PRON PRP pronoun, personal\n",
      "left ---------> VERB VBD verb, past tense\n",
      "the ---------> DET DT determiner\n",
      "room ---------> NOUN NN noun, singular or mass\n",
      "\n",
      "\n",
      "to ---------> ADP IN conjunction, subordinating or preposition\n",
      "the ---------> DET DT determiner\n",
      "left ---------> NOUN NN noun, singular or mass\n",
      "of ---------> ADP IN conjunction, subordinating or preposition\n",
      "the ---------> DET DT determiner\n",
      "room ---------> NOUN NN noun, singular or mass\n"
     ]
    }
   ],
   "source": [
    "# Word left used in different sense\n",
    "\n",
    "doc2 = nlp('I left the room')\n",
    "for word in doc2:\n",
    "    print(word.text, '--------->', word.pos_, word.tag_, spacy.explain(word.tag_))\n",
    "\n",
    "print('\\n')\n",
    "\n",
    "doc3 = nlp('to the left of the room')\n",
    "for word in doc3:\n",
    "    print(word.text, '--------->', word.pos_, word.tag_, spacy.explain(word.tag_))"
   ]
  },
  {
   "cell_type": "markdown",
   "id": "62919702",
   "metadata": {},
   "source": [
    "### Hidden Markov Model (HMM)"
   ]
  },
  {
   "cell_type": "markdown",
   "id": "6e05f763",
   "metadata": {},
   "source": [
    "A Hidden Markov Model (HMM) is a statistical model that represents systems with hidden (unobserved) states. In NLP, it’s often used to model sequences of words and their parts of speech (POS)."
   ]
  },
  {
   "cell_type": "markdown",
   "id": "e78ef87b",
   "metadata": {},
   "source": [
    "Words (like “run”, “cat”, “quickly”) are the observable outputs.\n",
    "\n",
    "POS tags (like noun, verb, adverb) are the hidden states we want to infer.\n",
    "\n",
    "HMM assumes:\n",
    "\n",
    "  -  Each word is generated by a POS tag.\n",
    "\n",
    "  -  The current tag depends only on the previous tag (this is the Markov property).\n",
    "\n",
    "    It learns:\n",
    "\n",
    "      -  Transition probabilities: Probability of tagₜ given tagₜ₋₁\n",
    "        👉 P(tagₜ | tagₜ₋₁)\n",
    "\n",
    "      -  Emission probabilities: Probability of wordₜ given tagₜ\n",
    "        👉 P(wordₜ | tagₜ)"
   ]
  },
  {
   "cell_type": "markdown",
   "id": "872b22fc",
   "metadata": {},
   "source": [
    "Sentence: \"Time flies like an arrow\"\n",
    "\n",
    "We want to find the best POS tag sequence:\n",
    "\n",
    "  -  “Time” could be noun or verb\n",
    "\n",
    "  -  “flies” could be noun or verb\n",
    "\n",
    "    etc.\n",
    "\n",
    "So HMM will compute all possible tag sequences and their probabilities and choose the most likely one."
   ]
  },
  {
   "cell_type": "markdown",
   "id": "3d8b7693",
   "metadata": {},
   "source": [
    "### Viterbi Algorithm\n",
    "\n",
    "The Viterbi algorithm is a optimization technique to find the most likely sequence of hidden states (POS tags) in an HMM."
   ]
  },
  {
   "cell_type": "markdown",
   "id": "fc8bbd6a",
   "metadata": {},
   "source": [
    "Input:\n",
    "\n",
    "    A sentence like \"Time flies like an arrow\" (observed words)\n",
    "\n",
    "    HMM parameters (transition and emission probabilities)\n",
    "\n",
    "Output:\n",
    "\n",
    "    The best POS tag sequence, e.g., [NN, VB, IN, DT, NN]"
   ]
  },
  {
   "cell_type": "markdown",
   "id": "2ef352c6",
   "metadata": {},
   "source": [
    "Backtrace:\n",
    "Track the path of max probabilities to get the best tag sequence."
   ]
  },
  {
   "cell_type": "markdown",
   "id": "fe9e82eb",
   "metadata": {},
   "source": [
    "#### Summary\n",
    "| Concept     | Purpose                                         |\n",
    "| ----------- | ----------------------------------------------- |\n",
    "| **HMM**     | Models sequence of hidden POS tags behind words |\n",
    "| **Viterbi** | Efficiently finds the best tag sequence in HMM  |\n"
   ]
  }
 ],
 "metadata": {
  "kernelspec": {
   "display_name": "base",
   "language": "python",
   "name": "python3"
  },
  "language_info": {
   "codemirror_mode": {
    "name": "ipython",
    "version": 3
   },
   "file_extension": ".py",
   "mimetype": "text/x-python",
   "name": "python",
   "nbconvert_exporter": "python",
   "pygments_lexer": "ipython3",
   "version": "3.13.5"
  },
  "papermill": {
   "default_parameters": {},
   "duration": 13.057316,
   "end_time": "2025-06-30T07:42:48.794141",
   "environment_variables": {},
   "exception": null,
   "input_path": "__notebook__.ipynb",
   "output_path": "__notebook__.ipynb",
   "parameters": {},
   "start_time": "2025-06-30T07:42:35.736825",
   "version": "2.6.0"
  }
 },
 "nbformat": 4,
 "nbformat_minor": 5
}
