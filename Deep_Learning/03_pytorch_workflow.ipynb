{
 "cells": [
  {
   "cell_type": "markdown",
   "id": "aa2d46ec",
   "metadata": {},
   "source": [
    "# 🧠 PyTorch Fundamentals\n",
    "---\n",
    "This notebook provides a comprehensive introduction to **PyTorch**, covering essential topics, theory, functions, and practical examples. \n",
    "\n",
    "📘 **Official Documentation**: [https://pytorch.org/docs/stable/index.html](https://pytorch.org/docs/stable/index.html)\n",
    "\n",
    "📘 **Official Pytorch Cheatsheet**: [https://docs.pytorch.org/tutorials/beginner/ptcheat.html](https://docs.pytorch.org/tutorials/beginner/ptcheat.html)\n",
    "\n",
    "📘 **Notebook Resource**: [https://www.learnpytorch.io/00_pytorch_fundamentals/](https://www.learnpytorch.io/00_pytorch_fundamentals/)\n",
    "\n",
    "---\n",
    "\n",
    "## 📑 Contents\n",
    "1. What is PyTorch?\n",
    "2. Tensors in PyTorch\n",
    "3. Tensor Operations\n",
    "4. Indexing and Slicing\n",
    "4. Autograd / Gradients\n",
    "5. Loss Functions\n",
    "6. Optimization\n",
    "7. Neural Network Modules\n",
    "8. GPU Acceleration with CUDA\n",
    "9. Saving and Loading Models\n",
    "10. Summary\n"
   ]
  },
  {
   "cell_type": "code",
   "execution_count": null,
   "id": "6d01f9c5",
   "metadata": {},
   "outputs": [],
   "source": [
    "!nvidia-smi"
   ]
  },
  {
   "cell_type": "code",
   "execution_count": 2,
   "id": "95131f90",
   "metadata": {},
   "outputs": [
    {
     "name": "stdout",
     "output_type": "stream",
     "text": [
      "2.6.0+cu118\n",
      "True\n"
     ]
    }
   ],
   "source": [
    "import torch\n",
    "print(torch.__version__)\n",
    "print(torch.cuda.is_available())"
   ]
  },
  {
   "cell_type": "markdown",
   "id": "01699603",
   "metadata": {},
   "source": [
    "## Introduction to Tensors"
   ]
  },
  {
   "cell_type": "markdown",
   "id": "661e1897",
   "metadata": {},
   "source": [
    "### Creating Tensor"
   ]
  },
  {
   "cell_type": "code",
   "execution_count": 9,
   "id": "30843edc",
   "metadata": {},
   "outputs": [
    {
     "data": {
      "text/plain": [
       "tensor(7)"
      ]
     },
     "execution_count": 9,
     "metadata": {},
     "output_type": "execute_result"
    }
   ],
   "source": [
    "# scalar\n",
    "\n",
    "scalar = torch.tensor(7)\n",
    "scalar"
   ]
  },
  {
   "cell_type": "code",
   "execution_count": 11,
   "id": "262e1761",
   "metadata": {},
   "outputs": [
    {
     "data": {
      "text/plain": [
       "0"
      ]
     },
     "execution_count": 11,
     "metadata": {},
     "output_type": "execute_result"
    }
   ],
   "source": [
    "# dimensions\n",
    "scalar.ndim"
   ]
  },
  {
   "cell_type": "code",
   "execution_count": 15,
   "id": "d08ec863",
   "metadata": {},
   "outputs": [
    {
     "data": {
      "text/plain": [
       "7"
      ]
     },
     "execution_count": 15,
     "metadata": {},
     "output_type": "execute_result"
    }
   ],
   "source": [
    "scalar.item()       #returns a python int"
   ]
  },
  {
   "cell_type": "code",
   "execution_count": 12,
   "id": "9b12f20d",
   "metadata": {},
   "outputs": [
    {
     "data": {
      "text/plain": [
       "tensor([7, 7])"
      ]
     },
     "execution_count": 12,
     "metadata": {},
     "output_type": "execute_result"
    }
   ],
   "source": [
    "# Vector\n",
    "vector = torch.tensor([7,7])\n",
    "vector"
   ]
  },
  {
   "cell_type": "code",
   "execution_count": 16,
   "id": "63b80fff",
   "metadata": {},
   "outputs": [
    {
     "data": {
      "text/plain": [
       "1"
      ]
     },
     "execution_count": 16,
     "metadata": {},
     "output_type": "execute_result"
    }
   ],
   "source": [
    "vector.ndim"
   ]
  },
  {
   "cell_type": "code",
   "execution_count": 17,
   "id": "caa8bdac",
   "metadata": {},
   "outputs": [
    {
     "data": {
      "text/plain": [
       "torch.Size([2])"
      ]
     },
     "execution_count": 17,
     "metadata": {},
     "output_type": "execute_result"
    }
   ],
   "source": [
    "vector.shape"
   ]
  },
  {
   "cell_type": "code",
   "execution_count": 20,
   "id": "7d096e86",
   "metadata": {},
   "outputs": [
    {
     "data": {
      "text/plain": [
       "tensor([[ 7,  8],\n",
       "        [ 9, 10]])"
      ]
     },
     "execution_count": 20,
     "metadata": {},
     "output_type": "execute_result"
    }
   ],
   "source": [
    "# Matrix\n",
    "MATRIX = torch.tensor([[7,8],[9,10]])\n",
    "MATRIX"
   ]
  },
  {
   "cell_type": "code",
   "execution_count": 21,
   "id": "8a11f113",
   "metadata": {},
   "outputs": [
    {
     "data": {
      "text/plain": [
       "2"
      ]
     },
     "execution_count": 21,
     "metadata": {},
     "output_type": "execute_result"
    }
   ],
   "source": [
    "MATRIX.ndim"
   ]
  },
  {
   "cell_type": "code",
   "execution_count": 23,
   "id": "2793e717",
   "metadata": {},
   "outputs": [
    {
     "data": {
      "text/plain": [
       "torch.Size([2, 2])"
      ]
     },
     "execution_count": 23,
     "metadata": {},
     "output_type": "execute_result"
    }
   ],
   "source": [
    "MATRIX.shape"
   ]
  },
  {
   "cell_type": "code",
   "execution_count": 25,
   "id": "8164fdb9",
   "metadata": {},
   "outputs": [
    {
     "data": {
      "text/plain": [
       "tensor([[[1, 2, 3],\n",
       "         [4, 5, 6],\n",
       "         [7, 8, 9]]])"
      ]
     },
     "execution_count": 25,
     "metadata": {},
     "output_type": "execute_result"
    }
   ],
   "source": [
    "# Tensor\n",
    "TENSOR = torch.tensor([[[1,2,3],[4,5,6],[7,8,9]]])\n",
    "TENSOR"
   ]
  },
  {
   "cell_type": "code",
   "execution_count": 26,
   "id": "ea710803",
   "metadata": {},
   "outputs": [
    {
     "data": {
      "text/plain": [
       "3"
      ]
     },
     "execution_count": 26,
     "metadata": {},
     "output_type": "execute_result"
    }
   ],
   "source": [
    "TENSOR.ndim"
   ]
  },
  {
   "cell_type": "code",
   "execution_count": 27,
   "id": "499d737b",
   "metadata": {},
   "outputs": [
    {
     "data": {
      "text/plain": [
       "torch.Size([1, 3, 3])"
      ]
     },
     "execution_count": 27,
     "metadata": {},
     "output_type": "execute_result"
    }
   ],
   "source": [
    "TENSOR.shape"
   ]
  },
  {
   "cell_type": "markdown",
   "id": "71ac90ed",
   "metadata": {},
   "source": [
    "## Random Tensors"
   ]
  },
  {
   "cell_type": "code",
   "execution_count": 14,
   "id": "224989c3",
   "metadata": {},
   "outputs": [
    {
     "data": {
      "text/plain": [
       "tensor([[0.6109, 0.9391, 0.0976, 0.6724],\n",
       "        [0.4682, 0.1958, 0.3150, 0.9964],\n",
       "        [0.3927, 0.4063, 0.8833, 0.6341]])"
      ]
     },
     "execution_count": 14,
     "metadata": {},
     "output_type": "execute_result"
    }
   ],
   "source": [
    "# 2D\n",
    "random_tensor = torch.rand(3,4)\n",
    "random_tensor"
   ]
  },
  {
   "cell_type": "code",
   "execution_count": 10,
   "id": "1a75fb7e",
   "metadata": {},
   "outputs": [
    {
     "data": {
      "text/plain": [
       "2"
      ]
     },
     "execution_count": 10,
     "metadata": {},
     "output_type": "execute_result"
    }
   ],
   "source": [
    "random_tensor.ndim"
   ]
  },
  {
   "cell_type": "code",
   "execution_count": 16,
   "id": "4159f079",
   "metadata": {},
   "outputs": [
    {
     "data": {
      "text/plain": [
       "tensor([[[0.0046, 0.9711],\n",
       "         [0.5808, 0.7848],\n",
       "         [0.1656, 0.8431]],\n",
       "\n",
       "        [[0.8961, 0.9369],\n",
       "         [0.2559, 0.7328],\n",
       "         [0.8091, 0.4358]],\n",
       "\n",
       "        [[0.5315, 0.0542],\n",
       "         [0.2342, 0.3462],\n",
       "         [0.5998, 0.0997]],\n",
       "\n",
       "        [[0.0203, 0.3451],\n",
       "         [0.6138, 0.3920],\n",
       "         [0.5740, 0.6097]]])"
      ]
     },
     "execution_count": 16,
     "metadata": {},
     "output_type": "execute_result"
    }
   ],
   "source": [
    "# 3D\n",
    "random_tensor = torch.rand(4,3,2)\n",
    "random_tensor"
   ]
  },
  {
   "cell_type": "code",
   "execution_count": 12,
   "id": "1b38e99d",
   "metadata": {},
   "outputs": [
    {
     "data": {
      "text/plain": [
       "3"
      ]
     },
     "execution_count": 12,
     "metadata": {},
     "output_type": "execute_result"
    }
   ],
   "source": [
    "random_tensor.ndim"
   ]
  },
  {
   "cell_type": "code",
   "execution_count": 17,
   "id": "929c0028",
   "metadata": {},
   "outputs": [
    {
     "data": {
      "text/plain": [
       "tensor([[0., 0., 0.],\n",
       "        [0., 0., 0.],\n",
       "        [0., 0., 0.]])"
      ]
     },
     "execution_count": 17,
     "metadata": {},
     "output_type": "execute_result"
    }
   ],
   "source": [
    "# Tensor of zeros\n",
    "\n",
    "zeros = torch.zeros(size=(3,3))\n",
    "zeros"
   ]
  },
  {
   "cell_type": "code",
   "execution_count": 18,
   "id": "1d1fa55a",
   "metadata": {},
   "outputs": [
    {
     "data": {
      "text/plain": [
       "tensor([[1., 1., 1., 1.],\n",
       "        [1., 1., 1., 1.],\n",
       "        [1., 1., 1., 1.]])"
      ]
     },
     "execution_count": 18,
     "metadata": {},
     "output_type": "execute_result"
    }
   ],
   "source": [
    "# Tensor of ones\n",
    "\n",
    "ones = torch.ones(size=(3,4))\n",
    "ones"
   ]
  },
  {
   "cell_type": "code",
   "execution_count": 19,
   "id": "9021e8d3",
   "metadata": {},
   "outputs": [
    {
     "data": {
      "text/plain": [
       "torch.float32"
      ]
     },
     "execution_count": 19,
     "metadata": {},
     "output_type": "execute_result"
    }
   ],
   "source": [
    "ones.dtype"
   ]
  },
  {
   "cell_type": "code",
   "execution_count": 25,
   "id": "70c99a13",
   "metadata": {},
   "outputs": [
    {
     "data": {
      "text/plain": [
       "tensor([0, 2, 4, 6, 8])"
      ]
     },
     "execution_count": 25,
     "metadata": {},
     "output_type": "execute_result"
    }
   ],
   "source": [
    "# Tensor in a range\n",
    "nm = torch.arange(0,10,2)\n",
    "nm"
   ]
  },
  {
   "cell_type": "code",
   "execution_count": 27,
   "id": "0246009f",
   "metadata": {},
   "outputs": [
    {
     "data": {
      "text/plain": [
       "tensor([0, 0, 0, 0, 0])"
      ]
     },
     "execution_count": 27,
     "metadata": {},
     "output_type": "execute_result"
    }
   ],
   "source": [
    "# Tensor like\n",
    "\n",
    "ten_zero = torch.zeros_like(nm)\n",
    "ten_zero"
   ]
  },
  {
   "cell_type": "markdown",
   "id": "7f675f37",
   "metadata": {},
   "source": [
    "## Tensor Datatypes"
   ]
  },
  {
   "cell_type": "code",
   "execution_count": 35,
   "id": "b845f26c",
   "metadata": {},
   "outputs": [
    {
     "data": {
      "text/plain": [
       "torch.float32"
      ]
     },
     "execution_count": 35,
     "metadata": {},
     "output_type": "execute_result"
    }
   ],
   "source": [
    "# Float 32 tensor\n",
    "\n",
    "f32 = torch.tensor([3.0,6.0,9.0],dtype=None)\n",
    "f32.dtype"
   ]
  },
  {
   "cell_type": "code",
   "execution_count": 31,
   "id": "0309b458",
   "metadata": {},
   "outputs": [
    {
     "data": {
      "text/plain": [
       "torch.float16"
      ]
     },
     "execution_count": 31,
     "metadata": {},
     "output_type": "execute_result"
    }
   ],
   "source": [
    "# Float 16 tensor\n",
    "\n",
    "f16 = torch.tensor([3.0,6.0,9.0],dtype=torch.float16)\n",
    "f16.dtype"
   ]
  },
  {
   "cell_type": "markdown",
   "id": "aa9300d5",
   "metadata": {},
   "source": [
    "### Type conversion"
   ]
  },
  {
   "cell_type": "code",
   "execution_count": 33,
   "id": "369f9702",
   "metadata": {},
   "outputs": [
    {
     "data": {
      "text/plain": [
       "tensor([3., 6., 9.], dtype=torch.float16)"
      ]
     },
     "execution_count": 33,
     "metadata": {},
     "output_type": "execute_result"
    }
   ],
   "source": [
    "f16_tensor = f32.type(torch.float16)\n",
    "f16_tensor"
   ]
  },
  {
   "cell_type": "markdown",
   "id": "7439bef9",
   "metadata": {},
   "source": [
    "## Getting information from tensors\n",
    "1. Tensor Datatype  - `tensor.dtype`\n",
    "2. Tensor Shape     - `tensor.shape`\n",
    "3. Tensor Device    - `tensor.device`"
   ]
  },
  {
   "cell_type": "code",
   "execution_count": 38,
   "id": "432ae328",
   "metadata": {},
   "outputs": [
    {
     "data": {
      "text/plain": [
       "tensor([[0.0752, 0.8115, 0.8622, 0.3307],\n",
       "        [0.5111, 0.3151, 0.5759, 0.7082],\n",
       "        [0.1241, 0.9233, 0.7214, 0.2037]])"
      ]
     },
     "execution_count": 38,
     "metadata": {},
     "output_type": "execute_result"
    }
   ],
   "source": [
    "anytensor = torch.rand(3,4)\n",
    "anytensor"
   ]
  },
  {
   "cell_type": "code",
   "execution_count": 40,
   "id": "adfdf5d3",
   "metadata": {},
   "outputs": [
    {
     "name": "stdout",
     "output_type": "stream",
     "text": [
      "tensor([[0.0752, 0.8115, 0.8622, 0.3307],\n",
      "        [0.5111, 0.3151, 0.5759, 0.7082],\n",
      "        [0.1241, 0.9233, 0.7214, 0.2037]])\n",
      "Datatype of tensor:  torch.float32\n",
      "Shape of tensor:  torch.Size([3, 4])\n",
      "Device of tensor:  cpu\n"
     ]
    }
   ],
   "source": [
    "# Details\n",
    "print(anytensor)\n",
    "print('Datatype of tensor: ', anytensor.dtype)\n",
    "print('Shape of tensor: ', anytensor.shape)\n",
    "print('Device of tensor: ', anytensor.device)"
   ]
  },
  {
   "cell_type": "markdown",
   "id": "73c83a59",
   "metadata": {},
   "source": [
    "## Manipulating Tensors\n",
    "### Tensor Operations\n",
    "- Addition\n",
    "- Subtraction\n",
    "- Multplication (Element-wise)\n",
    "- Division\n",
    "- Matrix Multiplication "
   ]
  },
  {
   "cell_type": "code",
   "execution_count": 41,
   "id": "801cfcab",
   "metadata": {},
   "outputs": [
    {
     "data": {
      "text/plain": [
       "tensor([11, 12, 13])"
      ]
     },
     "execution_count": 41,
     "metadata": {},
     "output_type": "execute_result"
    }
   ],
   "source": [
    "tensor = torch.tensor([1,2,3])\n",
    "tensor + 10"
   ]
  },
  {
   "cell_type": "code",
   "execution_count": 42,
   "id": "929d0f7c",
   "metadata": {},
   "outputs": [
    {
     "data": {
      "text/plain": [
       "tensor([-4, -3, -2])"
      ]
     },
     "execution_count": 42,
     "metadata": {},
     "output_type": "execute_result"
    }
   ],
   "source": [
    "tensor - 5"
   ]
  },
  {
   "cell_type": "code",
   "execution_count": 43,
   "id": "e5648715",
   "metadata": {},
   "outputs": [
    {
     "data": {
      "text/plain": [
       "tensor([ 80, 160, 240])"
      ]
     },
     "execution_count": 43,
     "metadata": {},
     "output_type": "execute_result"
    }
   ],
   "source": [
    "tensor * 80"
   ]
  },
  {
   "cell_type": "code",
   "execution_count": 44,
   "id": "43d62af0",
   "metadata": {},
   "outputs": [
    {
     "data": {
      "text/plain": [
       "tensor([0.1000, 0.2000, 0.3000])"
      ]
     },
     "execution_count": 44,
     "metadata": {},
     "output_type": "execute_result"
    }
   ],
   "source": [
    "tensor / 10"
   ]
  },
  {
   "cell_type": "code",
   "execution_count": null,
   "id": "df77e180",
   "metadata": {},
   "outputs": [
    {
     "data": {
      "text/plain": [
       "tensor(14)"
      ]
     },
     "execution_count": 46,
     "metadata": {},
     "output_type": "execute_result"
    }
   ],
   "source": [
    "# Matric Multiplication / Dot Product (@)\n",
    "torch.matmul(tensor,tensor) \n",
    "torch.dot(tensor,tensor)"
   ]
  },
  {
   "cell_type": "code",
   "execution_count": 49,
   "id": "ab985487",
   "metadata": {},
   "outputs": [
    {
     "data": {
      "text/plain": [
       "tensor([1, 2, 3])"
      ]
     },
     "execution_count": 49,
     "metadata": {},
     "output_type": "execute_result"
    }
   ],
   "source": [
    "# Transpose\n",
    "tensor.T"
   ]
  },
  {
   "cell_type": "markdown",
   "id": "c5b40cc1",
   "metadata": {},
   "source": [
    "## Tensor Aggregation (Min, Max, Mean, Sum)"
   ]
  },
  {
   "cell_type": "code",
   "execution_count": 50,
   "id": "0f90ee31",
   "metadata": {},
   "outputs": [
    {
     "data": {
      "text/plain": [
       "tensor([ 0, 10, 20, 30, 40, 50, 60, 70, 80, 90])"
      ]
     },
     "execution_count": 50,
     "metadata": {},
     "output_type": "execute_result"
    }
   ],
   "source": [
    "tensor = torch.arange(0,100,10)\n",
    "tensor"
   ]
  },
  {
   "cell_type": "code",
   "execution_count": 60,
   "id": "64497e8f",
   "metadata": {},
   "outputs": [
    {
     "data": {
      "text/plain": [
       "(tensor(0), tensor(0))"
      ]
     },
     "execution_count": 60,
     "metadata": {},
     "output_type": "execute_result"
    }
   ],
   "source": [
    "tensor.min(), torch.min(tensor)"
   ]
  },
  {
   "cell_type": "code",
   "execution_count": 52,
   "id": "6fbb1107",
   "metadata": {},
   "outputs": [
    {
     "data": {
      "text/plain": [
       "tensor(90)"
      ]
     },
     "execution_count": 52,
     "metadata": {},
     "output_type": "execute_result"
    }
   ],
   "source": [
    "tensor.max()"
   ]
  },
  {
   "cell_type": "code",
   "execution_count": 58,
   "id": "6ba0516f",
   "metadata": {},
   "outputs": [
    {
     "data": {
      "text/plain": [
       "tensor(45.)"
      ]
     },
     "execution_count": 58,
     "metadata": {},
     "output_type": "execute_result"
    }
   ],
   "source": [
    "tensor.mean(dtype=torch.float32)"
   ]
  },
  {
   "cell_type": "code",
   "execution_count": 59,
   "id": "d178f19f",
   "metadata": {},
   "outputs": [
    {
     "data": {
      "text/plain": [
       "tensor(450)"
      ]
     },
     "execution_count": 59,
     "metadata": {},
     "output_type": "execute_result"
    }
   ],
   "source": [
    "tensor.sum()"
   ]
  },
  {
   "cell_type": "markdown",
   "id": "3b7389cb",
   "metadata": {},
   "source": [
    "### Finding the positional index"
   ]
  },
  {
   "cell_type": "code",
   "execution_count": 61,
   "id": "f741c782",
   "metadata": {},
   "outputs": [
    {
     "data": {
      "text/plain": [
       "tensor(0)"
      ]
     },
     "execution_count": 61,
     "metadata": {},
     "output_type": "execute_result"
    }
   ],
   "source": [
    "tensor.argmin()"
   ]
  },
  {
   "cell_type": "code",
   "execution_count": 62,
   "id": "cc2b92fa",
   "metadata": {},
   "outputs": [
    {
     "data": {
      "text/plain": [
       "tensor(9)"
      ]
     },
     "execution_count": 62,
     "metadata": {},
     "output_type": "execute_result"
    }
   ],
   "source": [
    "tensor.argmax()"
   ]
  },
  {
   "cell_type": "markdown",
   "id": "890efc95",
   "metadata": {},
   "source": [
    "## Reshaping, Stacking, Squeezing, Unsqueezing, ... Tensors\n",
    "\n",
    "- Reshaping:    Changing the arrangement of elements in a tensor into a new shape while maintaining the total number of elements\n",
    "- View:         Return a view of an input tensor of certain shape but keep the same memory\n",
    "- Stacking:     Concatenating multiple tensors along a new dimension, increasing the total number of dimensions. (hstack/vstack)\n",
    "- Squeezing:    Removing dimensions of size 1 from a tensor's shape.\n",
    "- Unsqueezing:  Adding a dimension of size 1 at a specified position in a tensor's shape.\n",
    "- Permute:      Return a view of input with dimensions swapped in a certain way"
   ]
  },
  {
   "cell_type": "code",
   "execution_count": 40,
   "id": "241dcf4d",
   "metadata": {},
   "outputs": [
    {
     "data": {
      "text/plain": [
       "(tensor([1., 2., 3., 4., 5., 6., 7., 8., 9.]), torch.Size([9]))"
      ]
     },
     "execution_count": 40,
     "metadata": {},
     "output_type": "execute_result"
    }
   ],
   "source": [
    "import torch\n",
    "tensor = torch.arange(1.0,10.)\n",
    "tensor, tensor.shape"
   ]
  },
  {
   "cell_type": "code",
   "execution_count": 4,
   "id": "672ce706",
   "metadata": {},
   "outputs": [
    {
     "data": {
      "text/plain": [
       "tensor([[1., 2., 3.],\n",
       "        [4., 5., 6.],\n",
       "        [7., 8., 9.]])"
      ]
     },
     "execution_count": 4,
     "metadata": {},
     "output_type": "execute_result"
    }
   ],
   "source": [
    "tensor.reshape(3,3)"
   ]
  },
  {
   "cell_type": "code",
   "execution_count": 5,
   "id": "36cb3f63",
   "metadata": {},
   "outputs": [
    {
     "data": {
      "text/plain": [
       "tensor([[1., 2., 3.],\n",
       "        [4., 5., 6.],\n",
       "        [7., 8., 9.]])"
      ]
     },
     "execution_count": 5,
     "metadata": {},
     "output_type": "execute_result"
    }
   ],
   "source": [
    "tensor.view(3,3)"
   ]
  },
  {
   "cell_type": "code",
   "execution_count": null,
   "id": "e167e8af",
   "metadata": {},
   "outputs": [
    {
     "data": {
      "text/plain": [
       "torch.Size([3, 9])"
      ]
     },
     "execution_count": 24,
     "metadata": {},
     "output_type": "execute_result"
    }
   ],
   "source": [
    "# Horizontal Stack\n",
    "torch.stack([tensor, tensor, tensor],dim=0).shape"
   ]
  },
  {
   "cell_type": "code",
   "execution_count": 25,
   "id": "0cd348f8",
   "metadata": {},
   "outputs": [
    {
     "data": {
      "text/plain": [
       "torch.Size([9, 3])"
      ]
     },
     "execution_count": 25,
     "metadata": {},
     "output_type": "execute_result"
    }
   ],
   "source": [
    "# Vertical Stack\n",
    "torch.stack([tensor, tensor, tensor],dim=1).shape"
   ]
  },
  {
   "cell_type": "code",
   "execution_count": 33,
   "id": "106313de",
   "metadata": {},
   "outputs": [
    {
     "name": "stdout",
     "output_type": "stream",
     "text": [
      "torch.Size([1, 9])\n"
     ]
    },
    {
     "data": {
      "text/plain": [
       "torch.Size([9])"
      ]
     },
     "execution_count": 33,
     "metadata": {},
     "output_type": "execute_result"
    }
   ],
   "source": [
    "print(tensor.reshape(1,9).shape)\n",
    "s_tensor = tensor.squeeze()\n",
    "s_tensor.shape"
   ]
  },
  {
   "cell_type": "code",
   "execution_count": 39,
   "id": "684aa6ef",
   "metadata": {},
   "outputs": [
    {
     "data": {
      "text/plain": [
       "torch.Size([1, 9])"
      ]
     },
     "execution_count": 39,
     "metadata": {},
     "output_type": "execute_result"
    }
   ],
   "source": [
    "us_tensor = torch.unsqueeze(s_tensor, dim=0)\n",
    "us_tensor.shape"
   ]
  },
  {
   "cell_type": "code",
   "execution_count": null,
   "id": "9c6fc6bd",
   "metadata": {},
   "outputs": [
    {
     "name": "stdout",
     "output_type": "stream",
     "text": [
      "tensor([[[0.7457, 0.0568, 0.3926, 0.6394, 0.1810],\n",
      "         [0.7443, 0.9939, 0.2039, 0.4428, 0.3932],\n",
      "         [0.3008, 0.3278, 0.8890, 0.7036, 0.7722]],\n",
      "\n",
      "        [[0.9955, 0.8555, 0.3286, 0.9879, 0.7837],\n",
      "         [0.0158, 0.4958, 0.5395, 0.0318, 0.3989],\n",
      "         [0.4702, 0.7677, 0.3712, 0.3610, 0.0878]]])\n",
      "torch.Size([2, 3, 5])\n",
      "tensor([[[0.7457, 0.7443, 0.3008],\n",
      "         [0.9955, 0.0158, 0.4702]],\n",
      "\n",
      "        [[0.0568, 0.9939, 0.3278],\n",
      "         [0.8555, 0.4958, 0.7677]],\n",
      "\n",
      "        [[0.3926, 0.2039, 0.8890],\n",
      "         [0.3286, 0.5395, 0.3712]],\n",
      "\n",
      "        [[0.6394, 0.4428, 0.7036],\n",
      "         [0.9879, 0.0318, 0.3610]],\n",
      "\n",
      "        [[0.1810, 0.3932, 0.7722],\n",
      "         [0.7837, 0.3989, 0.0878]]])\n",
      "torch.Size([5, 2, 3])\n"
     ]
    }
   ],
   "source": [
    "# permute (shares the same memory as origninal tensor)\n",
    "\n",
    "tensor = torch.rand(2,3,5)\n",
    "\n",
    "print(tensor)\n",
    "print(tensor.shape)\n",
    "\n",
    "p_tensor = torch.permute(tensor, (2,0,1))\n",
    "print(p_tensor)\n",
    "print(p_tensor.shape)"
   ]
  },
  {
   "cell_type": "markdown",
   "id": "43dde43b",
   "metadata": {},
   "source": [
    "## Indexing (Selecting data from Tensors)\n"
   ]
  },
  {
   "cell_type": "code",
   "execution_count": 60,
   "id": "24854990",
   "metadata": {},
   "outputs": [
    {
     "data": {
      "text/plain": [
       "(tensor([[[1, 2, 3],\n",
       "          [4, 5, 6],\n",
       "          [7, 8, 9]]]),\n",
       " torch.Size([1, 3, 3]))"
      ]
     },
     "execution_count": 60,
     "metadata": {},
     "output_type": "execute_result"
    }
   ],
   "source": [
    "tensor = torch.arange(1,10).reshape(1,3,3)\n",
    "tensor, tensor.shape"
   ]
  },
  {
   "cell_type": "code",
   "execution_count": 48,
   "id": "89eb6544",
   "metadata": {},
   "outputs": [
    {
     "data": {
      "text/plain": [
       "tensor([[1, 2, 3],\n",
       "        [4, 5, 6],\n",
       "        [7, 8, 9]])"
      ]
     },
     "execution_count": 48,
     "metadata": {},
     "output_type": "execute_result"
    }
   ],
   "source": [
    "tensor[0]"
   ]
  },
  {
   "cell_type": "code",
   "execution_count": 49,
   "id": "b1fc04a4",
   "metadata": {},
   "outputs": [
    {
     "data": {
      "text/plain": [
       "tensor([1, 2, 3])"
      ]
     },
     "execution_count": 49,
     "metadata": {},
     "output_type": "execute_result"
    }
   ],
   "source": [
    "tensor[0][0]"
   ]
  },
  {
   "cell_type": "code",
   "execution_count": 55,
   "id": "68d42f84",
   "metadata": {},
   "outputs": [
    {
     "data": {
      "text/plain": [
       "tensor(5)"
      ]
     },
     "execution_count": 55,
     "metadata": {},
     "output_type": "execute_result"
    }
   ],
   "source": [
    "tensor[0][1][1]"
   ]
  },
  {
   "cell_type": "code",
   "execution_count": 51,
   "id": "341b69d1",
   "metadata": {},
   "outputs": [
    {
     "data": {
      "text/plain": [
       "tensor(9)"
      ]
     },
     "execution_count": 51,
     "metadata": {},
     "output_type": "execute_result"
    }
   ],
   "source": [
    "tensor[0][2][2]"
   ]
  },
  {
   "cell_type": "code",
   "execution_count": 54,
   "id": "0da173d4",
   "metadata": {},
   "outputs": [
    {
     "data": {
      "text/plain": [
       "tensor([5])"
      ]
     },
     "execution_count": 54,
     "metadata": {},
     "output_type": "execute_result"
    }
   ],
   "source": [
    "tensor[:,1,1]"
   ]
  },
  {
   "cell_type": "code",
   "execution_count": 64,
   "id": "33e7a9c1",
   "metadata": {},
   "outputs": [
    {
     "data": {
      "text/plain": [
       "tensor([[3, 6, 9]])"
      ]
     },
     "execution_count": 64,
     "metadata": {},
     "output_type": "execute_result"
    }
   ],
   "source": [
    "tensor[:,:,2]"
   ]
  },
  {
   "cell_type": "markdown",
   "id": "dda80270",
   "metadata": {},
   "source": [
    "## Python Tensors and Numpy"
   ]
  },
  {
   "cell_type": "markdown",
   "id": "c93b94dc",
   "metadata": {},
   "source": [
    "#### Numpy Array to Pytorch Tensor"
   ]
  },
  {
   "cell_type": "code",
   "execution_count": 68,
   "id": "0e571969",
   "metadata": {},
   "outputs": [
    {
     "data": {
      "text/plain": [
       "(array([1., 2., 3., 4., 5., 6., 7.]),\n",
       " tensor([1., 2., 3., 4., 5., 6., 7.], dtype=torch.float64))"
      ]
     },
     "execution_count": 68,
     "metadata": {},
     "output_type": "execute_result"
    }
   ],
   "source": [
    "import torch\n",
    "import numpy as np\n",
    "\n",
    "array = np.arange(1.0,8.0)\n",
    "tensor = torch.from_numpy(array)\n",
    "array, tensor"
   ]
  },
  {
   "cell_type": "markdown",
   "id": "e1e49c40",
   "metadata": {},
   "source": [
    "#### Pytorch Tensor to Numpy Array \n",
    "Numpy stores in float64 whereas Torch tensors are float32 by default."
   ]
  },
  {
   "cell_type": "code",
   "execution_count": 73,
   "id": "6a9e8bd6",
   "metadata": {},
   "outputs": [
    {
     "data": {
      "text/plain": [
       "(tensor([1., 1., 1., 1., 1., 1., 1.]),\n",
       " array([1., 1., 1., 1., 1., 1., 1.], dtype=float32))"
      ]
     },
     "execution_count": 73,
     "metadata": {},
     "output_type": "execute_result"
    }
   ],
   "source": [
    "tensor = torch.ones(7)\n",
    "np_tensor = tensor.numpy()\n",
    "tensor, np_tensor"
   ]
  },
  {
   "cell_type": "code",
   "execution_count": 74,
   "id": "1c50efda",
   "metadata": {},
   "outputs": [
    {
     "data": {
      "text/plain": [
       "(3040558081968, 3040558276720)"
      ]
     },
     "execution_count": 74,
     "metadata": {},
     "output_type": "execute_result"
    }
   ],
   "source": [
    "# They have different memory\n",
    "id(tensor), id(np_tensor)"
   ]
  },
  {
   "cell_type": "markdown",
   "id": "bec050a0",
   "metadata": {},
   "source": [
    "## Reproducibility \n",
    "\n",
    "Reproducibility is the ability to get the exact same results when running the same code with the same inputs multiple times. This is crucial for debugging, comparing models,"
   ]
  },
  {
   "cell_type": "code",
   "execution_count": 113,
   "id": "364e220d",
   "metadata": {},
   "outputs": [
    {
     "name": "stdout",
     "output_type": "stream",
     "text": [
      "tensor([[0.8823, 0.9150, 0.3829],\n",
      "        [0.9593, 0.3904, 0.6009],\n",
      "        [0.2566, 0.7936, 0.9408]])\n",
      "tensor([[0.8823, 0.9150, 0.3829],\n",
      "        [0.9593, 0.3904, 0.6009],\n",
      "        [0.2566, 0.7936, 0.9408]])\n",
      "tensor([[True, True, True],\n",
      "        [True, True, True],\n",
      "        [True, True, True]])\n"
     ]
    }
   ],
   "source": [
    "import torch\n",
    "\n",
    "RANDOM_SEED = 42\n",
    "\n",
    "torch.manual_seed(RANDOM_SEED)\n",
    "random_tensor_A = torch.rand(3,3)\n",
    "\n",
    "torch.manual_seed(RANDOM_SEED)\n",
    "random_tensor_B = torch.rand(3,3)\n",
    "\n",
    "print(random_tensor_A)\n",
    "print(random_tensor_B)\n",
    "print(random_tensor_A == random_tensor_B )\n",
    "\n"
   ]
  },
  {
   "cell_type": "markdown",
   "id": "57ed8f67",
   "metadata": {},
   "source": [
    "# Running Tensors on GPUs"
   ]
  },
  {
   "cell_type": "code",
   "execution_count": 115,
   "id": "a553379a",
   "metadata": {},
   "outputs": [
    {
     "name": "stdout",
     "output_type": "stream",
     "text": [
      "Wed Jun 18 16:48:48 2025       \n",
      "+-----------------------------------------------------------------------------------------+\n",
      "| NVIDIA-SMI 560.94                 Driver Version: 560.94         CUDA Version: 12.6     |\n",
      "|-----------------------------------------+------------------------+----------------------+\n",
      "| GPU  Name                  Driver-Model | Bus-Id          Disp.A | Volatile Uncorr. ECC |\n",
      "| Fan  Temp   Perf          Pwr:Usage/Cap |           Memory-Usage | GPU-Util  Compute M. |\n",
      "|                                         |                        |               MIG M. |\n",
      "|=========================================+========================+======================|\n",
      "|   0  NVIDIA GeForce GTX 1060 3GB  WDDM  |   00000000:01:00.0  On |                  N/A |\n",
      "| 24%   54C    P0             26W /  120W |    2228MiB /   3072MiB |     16%      Default |\n",
      "|                                         |                        |                  N/A |\n",
      "+-----------------------------------------+------------------------+----------------------+\n",
      "                                                                                         \n",
      "+-----------------------------------------------------------------------------------------+\n",
      "| Processes:                                                                              |\n",
      "|  GPU   GI   CI        PID   Type   Process name                              GPU Memory |\n",
      "|        ID   ID                                                               Usage      |\n",
      "|=========================================================================================|\n",
      "|    0   N/A  N/A      2764    C+G   ...t.LockApp_cw5n1h2txyewy\\LockApp.exe      N/A      |\n",
      "|    0   N/A  N/A      5332    C+G   ...s\\System32\\ApplicationFrameHost.exe      N/A      |\n",
      "|    0   N/A  N/A      5888    C+G   ...siveControlPanel\\SystemSettings.exe      N/A      |\n",
      "|    0   N/A  N/A      5960    C+G   ...crosoft\\Edge\\Application\\msedge.exe      N/A      |\n",
      "|    0   N/A  N/A      6148    C+G   ...m Files\\Mozilla Firefox\\firefox.exe      N/A      |\n",
      "|    0   N/A  N/A      8648    C+G   ...2txyewy\\StartMenuExperienceHost.exe      N/A      |\n",
      "|    0   N/A  N/A      8696    C+G   ...m Files\\Mozilla Firefox\\firefox.exe      N/A      |\n",
      "|    0   N/A  N/A      8824    C+G   ...Programs\\Microsoft VS Code\\Code.exe      N/A      |\n",
      "|    0   N/A  N/A      9028    C+G   C:\\Windows\\explorer.exe                     N/A      |\n",
      "|    0   N/A  N/A      9096    C+G   C:\\Windows\\System32\\ShellHost.exe           N/A      |\n",
      "|    0   N/A  N/A      9784    C+G   ...cal\\Microsoft\\OneDrive\\OneDrive.exe      N/A      |\n",
      "|    0   N/A  N/A     10028    C+G   ...bs\\Common\\Client\\v1.6.0\\rsAppUI.exe      N/A      |\n",
      "|    0   N/A  N/A     10232    C+G   ...nt.CBS_cw5n1h2txyewy\\SearchHost.exe      N/A      |\n",
      "|    0   N/A  N/A     11384    C+G   ...bs\\Common\\Client\\v1.6.0\\rsAppUI.exe      N/A      |\n",
      "|    0   N/A  N/A     13004    C+G   ...on\\137.0.3296.83\\msedgewebview2.exe      N/A      |\n",
      "|    0   N/A  N/A     14168    C+G   ...ekyb3d8bbwe\\PhoneExperienceHost.exe      N/A      |\n",
      "|    0   N/A  N/A     14672    C+G   ...CBS_cw5n1h2txyewy\\TextInputHost.exe      N/A      |\n",
      "|    0   N/A  N/A     16376    C+G   ...\\cef\\cef.win7x64\\steamwebhelper.exe      N/A      |\n",
      "|    0   N/A  N/A     16480    C+G   ...on\\137.0.3296.83\\msedgewebview2.exe      N/A      |\n",
      "|    0   N/A  N/A     19556    C+G   ...m Files\\Mozilla Firefox\\firefox.exe      N/A      |\n",
      "|    0   N/A  N/A     24876    C+G   ...4__8wekyb3d8bbwe\\EdgeGameAssist.exe      N/A      |\n",
      "+-----------------------------------------------------------------------------------------+\n"
     ]
    }
   ],
   "source": [
    "!nvidia-smi"
   ]
  },
  {
   "cell_type": "code",
   "execution_count": 116,
   "id": "af8e2b22",
   "metadata": {},
   "outputs": [
    {
     "data": {
      "text/plain": [
       "True"
      ]
     },
     "execution_count": 116,
     "metadata": {},
     "output_type": "execute_result"
    }
   ],
   "source": [
    "import torch\n",
    "\n",
    "torch.cuda.is_available()"
   ]
  },
  {
   "cell_type": "code",
   "execution_count": 118,
   "id": "46bd1dde",
   "metadata": {},
   "outputs": [
    {
     "data": {
      "text/plain": [
       "'cuda'"
      ]
     },
     "execution_count": 118,
     "metadata": {},
     "output_type": "execute_result"
    }
   ],
   "source": [
    "# Setup device agnostic code\n",
    "\n",
    "device = 'cuda' if torch.cuda.is_available() else 'cpu'\n",
    "device"
   ]
  },
  {
   "cell_type": "code",
   "execution_count": 119,
   "id": "03e04233",
   "metadata": {},
   "outputs": [
    {
     "data": {
      "text/plain": [
       "1"
      ]
     },
     "execution_count": 119,
     "metadata": {},
     "output_type": "execute_result"
    }
   ],
   "source": [
    "# Count number of devices\n",
    "\n",
    "torch.cuda.device_count()"
   ]
  },
  {
   "cell_type": "markdown",
   "id": "1a43ba4c",
   "metadata": {},
   "source": [
    "## Putting tensors & model on the GPU"
   ]
  },
  {
   "cell_type": "code",
   "execution_count": null,
   "id": "d21d482a",
   "metadata": {},
   "outputs": [
    {
     "name": "stdout",
     "output_type": "stream",
     "text": [
      "tensor([1, 2, 3]) cpu\n"
     ]
    }
   ],
   "source": [
    "# Creating Tensor on cpu\n",
    "\n",
    "tensor = torch.tensor([1,2,3])\n",
    "\n",
    "print(tensor, tensor.device)"
   ]
  },
  {
   "cell_type": "code",
   "execution_count": 133,
   "id": "5ba31adb",
   "metadata": {},
   "outputs": [
    {
     "name": "stdout",
     "output_type": "stream",
     "text": [
      "tensor([1, 2, 3], device='cuda:0') cuda:0\n"
     ]
    }
   ],
   "source": [
    "# Creating Tensor on GPU\n",
    "\n",
    "tensor = torch.tensor([1,2,3],device=device)\n",
    "\n",
    "print(tensor, tensor.device)"
   ]
  },
  {
   "cell_type": "code",
   "execution_count": 136,
   "id": "f515e2eb",
   "metadata": {},
   "outputs": [
    {
     "name": "stdout",
     "output_type": "stream",
     "text": [
      "tensor([1, 2, 3]) cuda:0\n",
      "tensor([1, 2, 3], device='cuda:0') cuda:0\n"
     ]
    }
   ],
   "source": [
    "# Transferring from CPU to GPU\n",
    "\n",
    "tensor_cpu = torch.tensor([1,2,3])\n",
    "print(tensor_cpu, tensor.device)\n",
    "\n",
    "tensor_gpu = tensor_cpu.to(device=device)\n",
    "\n",
    "print(tensor_gpu, tensor.device)"
   ]
  },
  {
   "cell_type": "code",
   "execution_count": 165,
   "id": "6ffa37d3",
   "metadata": {},
   "outputs": [
    {
     "name": "stdout",
     "output_type": "stream",
     "text": [
      "tensor([1, 2, 3], device='cuda:0') cuda:0\n",
      "tensor([1, 2, 3]) cpu\n"
     ]
    }
   ],
   "source": [
    "# Transferring from GPU to CPU\n",
    "\n",
    "tensor_gpu = torch.tensor([1,2,3],device=device)\n",
    "print(tensor_gpu, tensor_gpu.device)\n",
    "\n",
    "tensor_cpu = tensor_gpu.to(device=\"cpu\")\n",
    "\n",
    "print(tensor_cpu, tensor_cpu.device)"
   ]
  },
  {
   "cell_type": "markdown",
   "id": "c295de6a",
   "metadata": {},
   "source": [
    "## Numpy only works with tensors on CPU"
   ]
  },
  {
   "cell_type": "code",
   "execution_count": 168,
   "id": "127e40a2",
   "metadata": {},
   "outputs": [
    {
     "ename": "TypeError",
     "evalue": "can't convert cuda:0 device type tensor to numpy. Use Tensor.cpu() to copy the tensor to host memory first.",
     "output_type": "error",
     "traceback": [
      "\u001b[1;31m---------------------------------------------------------------------------\u001b[0m",
      "\u001b[1;31mTypeError\u001b[0m                                 Traceback (most recent call last)",
      "Cell \u001b[1;32mIn[168], line 1\u001b[0m\n\u001b[1;32m----> 1\u001b[0m tensor_gpu\u001b[38;5;241m.\u001b[39mnumpy()\n",
      "\u001b[1;31mTypeError\u001b[0m: can't convert cuda:0 device type tensor to numpy. Use Tensor.cpu() to copy the tensor to host memory first."
     ]
    }
   ],
   "source": [
    "tensor_gpu.numpy()"
   ]
  },
  {
   "cell_type": "code",
   "execution_count": 170,
   "id": "7e7a2ff9",
   "metadata": {},
   "outputs": [
    {
     "data": {
      "text/plain": [
       "array([1, 2, 3], dtype=int64)"
      ]
     },
     "execution_count": 170,
     "metadata": {},
     "output_type": "execute_result"
    }
   ],
   "source": [
    "tensor_gpu.cpu().numpy()"
   ]
  }
 ],
 "metadata": {
  "kernelspec": {
   "display_name": "base",
   "language": "python",
   "name": "python3"
  },
  "language_info": {
   "codemirror_mode": {
    "name": "ipython",
    "version": 3
   },
   "file_extension": ".py",
   "mimetype": "text/x-python",
   "name": "python",
   "nbconvert_exporter": "python",
   "pygments_lexer": "ipython3",
   "version": "3.12.4"
  }
 },
 "nbformat": 4,
 "nbformat_minor": 5
}
