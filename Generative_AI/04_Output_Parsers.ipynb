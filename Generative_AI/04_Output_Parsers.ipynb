{
 "cells": [
  {
   "cell_type": "markdown",
   "id": "aa2d46ec",
   "metadata": {
    "papermill": {
     "duration": 0.001961,
     "end_time": "2025-06-30T07:42:40.343505",
     "exception": false,
     "start_time": "2025-06-30T07:42:40.341544",
     "status": "completed"
    },
    "tags": []
   },
   "source": [
    "# Generative Artificial Intelligence\n",
    "---\n",
    "\n",
    "Get started with LLMs\n",
    "\n",
    "---\n",
    "\n",
    "## 📑 Contents\n",
    "\n",
    "1. OpenAI API - GPT\n",
    "2. Anthropic API - Claude\n",
    "3. Google API - Gemini\n",
    "4. HuggingFace API\n",
    "5. OpenAI Embeddings\n",
    "6. HuggingFace Embeddings\n",
    "7. Mini Project"
   ]
  },
  {
   "cell_type": "markdown",
   "id": "abb02c3a",
   "metadata": {},
   "source": [
    "## 1. String Output Parsers"
   ]
  },
  {
   "cell_type": "code",
   "execution_count": 1,
   "id": "55ac5589",
   "metadata": {},
   "outputs": [
    {
     "name": "stdout",
     "output_type": "stream",
     "text": [
      "Black holes are dense regions in spacetime where gravity is so strong that nothing, not even light, can escape. They form from the collapse of massive stars, creating singularities and event horizons. Black holes exhibit properties such as mass and spin, impacting surrounding environments, including warping spacetime and driving the formation of accretion disks. Through gravitational lensing, accreting materials, and X-ray emissions, astronomers have observed these fascinating objects. Research into black holes provides insights into the development of galaxies, the evolution of the universe, and even the fabric of spacetime itself. \n",
      "\n"
     ]
    }
   ],
   "source": [
    "from langchain_huggingface import ChatHuggingFace, HuggingFaceEndpoint\n",
    "from dotenv import load_dotenv\n",
    "from langchain_core.prompts import PromptTemplate\n",
    "\n",
    "load_dotenv()\n",
    "\n",
    "llm = HuggingFaceEndpoint(\n",
    "    repo_id=\"google/gemma-2-2b-it\",\n",
    "    task=\"text-generation\"\n",
    ")\n",
    "\n",
    "model = ChatHuggingFace(llm=llm)\n",
    "\n",
    "# 1st prompt -> detailed report\n",
    "template1 = PromptTemplate(\n",
    "    template='Write a detailed report on {topic}',\n",
    "    input_variables=['topic']\n",
    ")\n",
    "\n",
    "# 2nd prompt -> summary\n",
    "template2 = PromptTemplate(\n",
    "    template='Write a 5 line summary on the following text. /n {text}',\n",
    "    input_variables=['text']\n",
    ")\n",
    "\n",
    "prompt1 = template1.invoke({'topic':'black hole'})\n",
    "\n",
    "result = model.invoke(prompt1)\n",
    "\n",
    "prompt2 = template2.invoke({'text':result.content})\n",
    "\n",
    "result1 = model.invoke(prompt2)\n",
    "\n",
    "print(result1.content)\n"
   ]
  },
  {
   "cell_type": "markdown",
   "id": "4197fc81",
   "metadata": {},
   "source": [
    "## 1.1 String Output parsers using Chain"
   ]
  },
  {
   "cell_type": "code",
   "execution_count": 2,
   "id": "c9baecba",
   "metadata": {},
   "outputs": [
    {
     "name": "stdout",
     "output_type": "stream",
     "text": [
      "Here is a 5-line summary of the text provided:\n",
      "\n",
      "Black holes are regions of spacetime where gravity is so strong that even light cannot escape. Formed from the collapse of massive stars, they have an event horizon where escape velocity exceeds the speed of light, and a singularity at their core. Their presence can be detected through various phenomena, like accretion disks, gravitational lensing, and gravitational waves.  They play a crucial role in galaxy evolution, as well as our quest to understand the fundamental laws of physics through studying their properties. Ongoing research seeks to answer fundamental questions about their nature and the composition of their singularity. \n",
      "\n",
      "Black holes are dense regions in spacetime where gravity is so strong that nothing, not even light, can escape. They form from the collapse of massive stars, creating singularities and event horizons. Black holes exhibit properties such as mass and spin, impacting surrounding environments, including warping spacetime and driving the formation of accretion disks. Through gravitational lensing, accreting materials, and X-ray emissions, astronomers have observed these fascinating objects. Research into black holes provides insights into the development of galaxies, the evolution of the universe, and even the fabric of spacetime itself. \n",
      "\n"
     ]
    }
   ],
   "source": [
    "from langchain_huggingface import ChatHuggingFace, HuggingFaceEndpoint\n",
    "from dotenv import load_dotenv\n",
    "from langchain_core.prompts import PromptTemplate\n",
    "from langchain_core.output_parsers import StrOutputParser\n",
    "\n",
    "load_dotenv()\n",
    "\n",
    "llm = HuggingFaceEndpoint(\n",
    "    repo_id=\"google/gemma-2-2b-it\",\n",
    "    task=\"text-generation\"\n",
    ")\n",
    "\n",
    "model = ChatHuggingFace(llm=llm)\n",
    "\n",
    "# 1st prompt -> detailed report\n",
    "template1 = PromptTemplate(\n",
    "    template='Write a detailed report on {topic}',\n",
    "    input_variables=['topic']\n",
    ")\n",
    "\n",
    "# 2nd prompt -> summary\n",
    "template2 = PromptTemplate(\n",
    "    template='Write a 5 line summary on the following text. /n {text}',\n",
    "    input_variables=['text']\n",
    ")\n",
    "\n",
    "parser = StrOutputParser()\n",
    "\n",
    "chain = template1 | model | parser | template2 | model | parser\n",
    "\n",
    "result = chain.invoke({'topic':'black hole'})\n",
    "\n",
    "print(result)\n",
    "print(result1.content)\n"
   ]
  },
  {
   "cell_type": "markdown",
   "id": "6269175f",
   "metadata": {},
   "source": [
    "## 2. JSON Output Parser"
   ]
  },
  {
   "cell_type": "code",
   "execution_count": 3,
   "id": "65bee5c4",
   "metadata": {},
   "outputs": [
    {
     "name": "stdout",
     "output_type": "stream",
     "text": [
      "[{'fact': 'Black holes are regions of spacetime where gravity is so strong that nothing, not even light, can escape.', 'detail': 'This is due to an extremely dense concentration of mass packed into a microscopic point called a singularity.'}, {'fact': 'Black holes are formed when large stars run out of fuel and collapse under their own gravity.', 'detail': 'The collapse can create a black hole whose mass is equivalent to the mass of many suns.'}, {'fact': 'Black holes come in different sizes. There are stellar-mass black holes formed by extremely massive stars, supermassive black holes found at the center of galaxies, and intermediate-mass black holes which are still being explored.', 'detail': 'The size varies from the stellar mass to supermassive depending on their formation process.'}, {'fact': 'Black holes can pull in surrounding matter, eventually warping space and time around them', 'detail': 'This warping creates a region known as the event horizon. Anything crossing this boundary is trapped forever.'}, {'fact': 'Though they are mysterious, telescopes are still able to detect black holes indirectly by observing their effects on surrounding matter.', 'detail': 'These effects include the gravitational lensing of light around them and the rapid acceleration of stars and gas in their vicinity.'}]\n"
     ]
    }
   ],
   "source": [
    "from langchain_huggingface import ChatHuggingFace, HuggingFaceEndpoint\n",
    "from dotenv import load_dotenv\n",
    "from langchain_core.prompts import PromptTemplate\n",
    "from langchain_core.output_parsers import JsonOutputParser\n",
    "\n",
    "load_dotenv()\n",
    "\n",
    "# Define the model\n",
    "llm = HuggingFaceEndpoint(\n",
    "    repo_id=\"google/gemma-2-2b-it\",\n",
    "    task=\"text-generation\"\n",
    ")\n",
    "\n",
    "model = ChatHuggingFace(llm=llm)\n",
    "\n",
    "parser = JsonOutputParser()\n",
    "\n",
    "template = PromptTemplate(\n",
    "    template='Give me 5 facts about {topic} \\n {format_instruction}',\n",
    "    input_variables=['topic'],\n",
    "    partial_variables={'format_instruction': parser.get_format_instructions()}\n",
    ")\n",
    "\n",
    "chain = template | model | parser\n",
    "\n",
    "result = chain.invoke({'topic':'black hole'})\n",
    "\n",
    "print(result)\n"
   ]
  },
  {
   "cell_type": "markdown",
   "id": "cb523fb7",
   "metadata": {},
   "source": [
    "## 3. Structured Output Parser"
   ]
  },
  {
   "cell_type": "code",
   "execution_count": 4,
   "id": "b3cecf93",
   "metadata": {},
   "outputs": [
    {
     "name": "stdout",
     "output_type": "stream",
     "text": [
      "{'fact_1': 'A black hole is an area of spacetime where gravity is so strong that nothing, not even light, can escape.', 'fact_2': 'Black holes are formed when massive stars collapse at the end of their lives.', 'fact_3': \"We can't see a black hole directly because it doesn't emit any light. However, we can detect them by observing their effects on nearby objects, such as stars orbiting a central point that disappears from view.\"}\n"
     ]
    }
   ],
   "source": [
    "from langchain_huggingface import ChatHuggingFace, HuggingFaceEndpoint\n",
    "from dotenv import load_dotenv\n",
    "from langchain_core.prompts import PromptTemplate\n",
    "from langchain.output_parsers import StructuredOutputParser, ResponseSchema\n",
    "\n",
    "load_dotenv()\n",
    "\n",
    "# Define the model\n",
    "llm = HuggingFaceEndpoint(\n",
    "    repo_id=\"google/gemma-2-2b-it\",\n",
    "    task=\"text-generation\"\n",
    ")\n",
    "\n",
    "model = ChatHuggingFace(llm=llm)\n",
    "\n",
    "schema = [\n",
    "    ResponseSchema(name='fact_1', description='Fact 1 about the topic'),\n",
    "    ResponseSchema(name='fact_2', description='Fact 2 about the topic'),\n",
    "    ResponseSchema(name='fact_3', description='Fact 3 about the topic'),\n",
    "]\n",
    "\n",
    "parser = StructuredOutputParser.from_response_schemas(schema)\n",
    "\n",
    "template = PromptTemplate(\n",
    "    template='Give 3 fact about {topic} \\n {format_instruction}',\n",
    "    input_variables=['topic'],\n",
    "    partial_variables={'format_instruction':parser.get_format_instructions()}\n",
    ")\n",
    "\n",
    "chain = template | model | parser\n",
    "\n",
    "result = chain.invoke({'topic':'black hole'})\n",
    "\n",
    "print(result)"
   ]
  },
  {
   "cell_type": "markdown",
   "id": "f26583b1",
   "metadata": {},
   "source": [
    "## 4. Pydantic Output Parser"
   ]
  },
  {
   "cell_type": "code",
   "execution_count": 5,
   "id": "8518a6bf",
   "metadata": {},
   "outputs": [
    {
     "name": "stdout",
     "output_type": "stream",
     "text": [
      "name='Seunghee Park' age=25 city='Seoul'\n"
     ]
    }
   ],
   "source": [
    "from langchain_huggingface import ChatHuggingFace, HuggingFaceEndpoint\n",
    "from dotenv import load_dotenv\n",
    "from langchain_core.prompts import PromptTemplate\n",
    "from langchain_core.output_parsers import PydanticOutputParser\n",
    "from pydantic import BaseModel, Field\n",
    "\n",
    "load_dotenv()\n",
    "\n",
    "# Define the model\n",
    "llm = HuggingFaceEndpoint(\n",
    "    repo_id=\"google/gemma-2-2b-it\",\n",
    "    task=\"text-generation\"\n",
    ")\n",
    "\n",
    "model = ChatHuggingFace(llm=llm)\n",
    "\n",
    "class Person(BaseModel):\n",
    "\n",
    "    name: str = Field(description='Name of the person')\n",
    "    age: int = Field(gt=18, description='Age of the person')\n",
    "    city: str = Field(description='Name of the city the person belongs to')\n",
    "\n",
    "parser = PydanticOutputParser(pydantic_object=Person)\n",
    "\n",
    "template = PromptTemplate(\n",
    "    template='Generate the name, age and city of a fictional {place} person \\n {format_instruction}',\n",
    "    input_variables=['place'],\n",
    "    partial_variables={'format_instruction':parser.get_format_instructions()}\n",
    ")\n",
    "\n",
    "chain = template | model | parser\n",
    "\n",
    "final_result = chain.invoke({'place':'Korean'})\n",
    "\n",
    "print(final_result)"
   ]
  }
 ],
 "metadata": {
  "kernelspec": {
   "display_name": "base",
   "language": "python",
   "name": "python3"
  },
  "language_info": {
   "codemirror_mode": {
    "name": "ipython",
    "version": 3
   },
   "file_extension": ".py",
   "mimetype": "text/x-python",
   "name": "python",
   "nbconvert_exporter": "python",
   "pygments_lexer": "ipython3",
   "version": "3.13.5"
  },
  "papermill": {
   "default_parameters": {},
   "duration": 13.057316,
   "end_time": "2025-06-30T07:42:48.794141",
   "environment_variables": {},
   "exception": null,
   "input_path": "__notebook__.ipynb",
   "output_path": "__notebook__.ipynb",
   "parameters": {},
   "start_time": "2025-06-30T07:42:35.736825",
   "version": "2.6.0"
  }
 },
 "nbformat": 4,
 "nbformat_minor": 5
}
