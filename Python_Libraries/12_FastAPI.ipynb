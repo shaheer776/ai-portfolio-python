{
 "cells": [
  {
   "cell_type": "markdown",
   "id": "f6547d25",
   "metadata": {},
   "source": [
    "\n",
    "# 📘 Fast API\n",
    "\n",
    "Fast API pracitse notebook\n",
    "\n",
    "> 📚 Official Docs: [https://fastapi.tiangolo.com/tutorial/](https://fastapi.tiangolo.com/tutorial/)\n"
   ]
  },
  {
   "cell_type": "markdown",
   "id": "760aec76",
   "metadata": {},
   "source": [
    "run code in CLI through uvicorn file_name:app --reload"
   ]
  },
  {
   "cell_type": "code",
   "execution_count": null,
   "id": "616202fa",
   "metadata": {},
   "outputs": [],
   "source": [
    "from fastapi import FastAPI\n",
    "\n",
    "app = FastAPI()\n",
    "\n",
    "@app.get(\"/\")\n",
    "def hello():\n",
    "    return {'message' : 'Hello World'}\n",
    "    \n",
    "@app.get(\"/about\")\n",
    "def about():\n",
    "    return {'message' : 'I am an AI Engineer'}"
   ]
  },
  {
   "cell_type": "markdown",
   "id": "e2150fff",
   "metadata": {},
   "source": [
    "### Patient Management System"
   ]
  },
  {
   "cell_type": "code",
   "execution_count": 3,
   "id": "307ccb2a",
   "metadata": {},
   "outputs": [],
   "source": [
    "from fastapi import FastAPI\n",
    "import json\n",
    "\n",
    "app = FastAPI()\n",
    "\n",
    "def load_data():\n",
    "    with open('patients.json', 'r') as f:\n",
    "        data = json.load(f)\n",
    "        return data\n",
    "\n",
    "@app.get(\"/\")\n",
    "def hello():\n",
    "    return {'message' : 'Patient Management System API'}\n",
    "\n",
    "@app.get(\"/about\")\n",
    "def about():\n",
    "    return {'message' : 'A fully functional API to manage your patient records'}\n",
    "\n",
    "@app.get('/view')\n",
    "def view():\n",
    "    data = load_data()\n",
    "    return data"
   ]
  },
  {
   "cell_type": "markdown",
   "id": "3e4dc0f6",
   "metadata": {},
   "source": [
    "### Path description\n"
   ]
  },
  {
   "cell_type": "code",
   "execution_count": null,
   "id": "95e1ba81",
   "metadata": {},
   "outputs": [],
   "source": [
    "from fastapi import FastAPI, Path\n",
    "import json\n",
    "\n",
    "app = FastAPI()\n",
    "\n",
    "def load_data():\n",
    "    with open('patients.json', 'r') as f:\n",
    "        data = json.load(f)\n",
    "        return data\n",
    "\n",
    "@app.get(\"/\")\n",
    "def hello():\n",
    "    return {'message' : 'Patient Management System API'}\n",
    "\n",
    "@app.get(\"/about\")\n",
    "def about():\n",
    "    return {'message' : 'A fully functional API to manage your patient records'}\n",
    "\n",
    "@app.get('/view')\n",
    "def view():\n",
    "    data = load_data()\n",
    "    return data\n",
    "\n",
    "@app.get('/patient/{patient_id}')\n",
    "def view_patient(patient_id: str = Path(..., description= 'ID of the patient in the DB', examples='P001')):\n",
    "    # load all the patients\n",
    "    data = load_data()\n",
    "\n",
    "    if patient_id in data:\n",
    "        return data[patient_id]\n",
    "    else:\n",
    "        return {'error' : 'patient not found'}"
   ]
  },
  {
   "cell_type": "markdown",
   "id": "e7d3cf4d",
   "metadata": {},
   "source": [
    "Now improving the HTTP Exception"
   ]
  },
  {
   "cell_type": "code",
   "execution_count": null,
   "id": "73febc0b",
   "metadata": {},
   "outputs": [],
   "source": [
    "from fastapi import FastAPI, Path, HTTPException\n",
    "import json\n",
    "\n",
    "app = FastAPI()\n",
    "\n",
    "def load_data():\n",
    "    with open('patients.json', 'r') as f:\n",
    "        data = json.load(f)\n",
    "        return data\n",
    "\n",
    "@app.get(\"/\")\n",
    "def hello():\n",
    "    return {'message' : 'Patient Management System API'}\n",
    "\n",
    "@app.get(\"/about\")\n",
    "def about():\n",
    "    return {'message' : 'A fully functional API to manage your patient records'}\n",
    "\n",
    "@app.get('/view')\n",
    "def view():\n",
    "    data = load_data()\n",
    "    return data\n",
    "\n",
    "@app.get('/patient/{patient_id}')\n",
    "def view_patient(patient_id: str = Path(..., description= 'ID of the patient in the DB', examples='P001')):\n",
    "    # load all the patients\n",
    "    data = load_data()\n",
    "\n",
    "    if patient_id in data:\n",
    "        return data[patient_id]\n",
    "    \n",
    "    raise HTTPException(status_code=404, detail='Patient not found')"
   ]
  },
  {
   "cell_type": "markdown",
   "id": "a25ab341",
   "metadata": {},
   "source": [
    "Adding the Sort option\n",
    "\n",
    "- Path parameters - URL dynamic part, helps in retrieval, updating and deleting\n",
    "- Query parameters - These are optional addition to present endpoints in order to filter or sort retrieved data "
   ]
  },
  {
   "cell_type": "code",
   "execution_count": 9,
   "id": "eaad7097",
   "metadata": {},
   "outputs": [],
   "source": [
    "from fastapi import FastAPI, Path, HTTPException, Query\n",
    "import json\n",
    "\n",
    "app = FastAPI()\n",
    "\n",
    "def load_data():\n",
    "    with open('patients.json', 'r') as f:\n",
    "        data = json.load(f)\n",
    "        return data\n",
    "\n",
    "@app.get(\"/\")\n",
    "def hello():\n",
    "    return {'message' : 'Patient Management System API'}\n",
    "\n",
    "@app.get(\"/about\")\n",
    "def about():\n",
    "    return {'message' : 'A fully functional API to manage your patient records'}\n",
    "\n",
    "@app.get('/view')\n",
    "def view():\n",
    "    data = load_data()\n",
    "    return data\n",
    "\n",
    "@app.get('/patient/{patient_id}')\n",
    "def view_patient(patient_id: str = Path(..., description= 'ID of the patient in the DB', examples='P001')):\n",
    "    # load all the patients\n",
    "    data = load_data()\n",
    "\n",
    "    if patient_id in data:\n",
    "        return data[patient_id]\n",
    "    \n",
    "    raise HTTPException(status_code=404, detail='Patient not found')\n",
    "\n",
    "@app.get('/sort')\n",
    "def sort_patients(sort_by: str = Query(..., description='Sort on the basis of height, weight or bmi'), order: str = Query('asc', description=' Sort in asc or desc order')):\n",
    "\n",
    "    valid_fields = ['height', 'weight', 'bmi']\n",
    "\n",
    "    if sort_by not in valid_fields:\n",
    "        raise HTTPException(status_code=400, detail='Invalid field select from {valid_fields}')\n",
    "    \n",
    "    if order not in ['asc', 'desc']:\n",
    "        raise HTTPException(status_code=400, detail='Invalid order select between asc and desc')\n",
    "    \n",
    "    data = load_data()\n",
    "\n",
    "    sort_order = True if order == 'desc' else False\n",
    "\n",
    "    sorted_data = sorted(data.values(), key=lambda x:x.get(sort_by, 0), reverse=sort_order)\n",
    "\n",
    "    return sorted_data"
   ]
  }
 ],
 "metadata": {
  "kernelspec": {
   "display_name": "base",
   "language": "python",
   "name": "python3"
  },
  "language_info": {
   "codemirror_mode": {
    "name": "ipython",
    "version": 3
   },
   "file_extension": ".py",
   "mimetype": "text/x-python",
   "name": "python",
   "nbconvert_exporter": "python",
   "pygments_lexer": "ipython3",
   "version": "3.13.5"
  }
 },
 "nbformat": 4,
 "nbformat_minor": 5
}
