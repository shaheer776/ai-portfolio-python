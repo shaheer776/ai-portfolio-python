{
 "cells": [
  {
   "cell_type": "markdown",
   "id": "d68a2076",
   "metadata": {},
   "source": [
    "# 🧮 NumPy Complete Guide\n",
    "\n",
    "**NumPy** (Numerical Python) is the fundamental package for numerical computing in Python. It provides powerful data structures, implementing multi-dimensional arrays and matrices, along with a large collection of high-level mathematical functions.\n",
    "\n",
    "📘 **NumPy Documentation01**: [Link](https://numpy.org/doc/)\n",
    "\n",
    "📘 **NumPy Documentation02**: [Link](https://www.w3schools.com/python/numpy/default.asp)\n",
    "\n",
    "---\n",
    "\n",
    "## 📑 Contents\n",
    "\n",
    "1. What is NumPy?\n",
    "3. NumPy Arrays vs Python Lists\n",
    "4. Creating Arrays\n",
    "5. Array Attributes\n",
    "6. Indexing & Slicing\n",
    "7. Array Manipulation\n",
    "8. Mathematical Operations\n",
    "9. Broadcasting\n",
    "10. Universal Functions (ufuncs)\n",
    "11. Aggregations & Statistics\n",
    "12. Boolean Masking\n",
    "13. File I/O with NumPy\n",
    "14. Random Module\n",
    "15. Useful Tips & Tricks\n",
    "16. Summary\n"
   ]
  },
  {
   "cell_type": "markdown",
   "id": "ddeaf1f2",
   "metadata": {},
   "source": [
    "## What is NumPy?\n",
    "\n",
    "NumPy is a powerful library for numerical operations in Python. It introduces `ndarray`, a fast and memory-efficient multi-dimensional array for vectorized operations. It is the foundation for libraries like Pandas, SciPy, and scikit-learn."
   ]
  },
  {
   "cell_type": "markdown",
   "id": "42cf57c4",
   "metadata": {},
   "source": [
    "## NumPy Arrays vs Python Lists\n",
    "\n",
    "- **Python Lists** are flexible but slower and consume more memory.\n",
    "- **NumPy Arrays** are typed, support vectorized operations, and are faster.\n",
    "```python\n",
    "\n",
    "```"
   ]
  },
  {
   "cell_type": "code",
   "execution_count": 1,
   "id": "74e83ad1",
   "metadata": {},
   "outputs": [
    {
     "name": "stdout",
     "output_type": "stream",
     "text": [
      "[3 4 5]\n"
     ]
    }
   ],
   "source": [
    "\n",
    "import numpy as np\n",
    "arr = np.array([1, 2, 3])\n",
    "print(arr + 2)  # Vectorized"
   ]
  },
  {
   "cell_type": "markdown",
   "id": "b8b2d6f8",
   "metadata": {},
   "source": [
    "## Some Functions\n",
    "\n"
   ]
  },
  {
   "cell_type": "markdown",
   "id": "b93ff51e",
   "metadata": {},
   "source": [
    "```python\n",
    "import numpy as np\n",
    "a = np.array([1, 2, 3])\n",
    "b = np.array([[1, 2, 3], [4, 5, 6]])\n",
    "```"
   ]
  },
  {
   "cell_type": "markdown",
   "id": "49d03fc0",
   "metadata": {},
   "source": [
    "| Category               | Function Name                    | Description                                    | Syntax / Usage                    | Example Output                         |\n",
    "| ---------------------- | -------------------------------- | ---------------------------------------------- | --------------------------------- | -------------------------------------- |\n",
    "| **Creation**           | `np.array()`                     | Creates a NumPy array                          | `np.array([1, 2, 3])`             | `[1 2 3]`                              |\n",
    "|                        | `np.zeros()`                     | Creates an array filled with 0s                | `np.zeros((2, 3))`                | `[[0. 0. 0.], [0. 0. 0.]]`             |\n",
    "|                        | `np.ones()`                      | Creates an array filled with 1s                | `np.ones((2, 3))`                 | `[[1. 1. 1.], [1. 1. 1.]]`             |\n",
    "|                        | `np.full()`                      | Creates an array filled with a specified value | `np.full((2, 2), 7)`              | `[[7 7], [7 7]]`                       |\n",
    "|                        | `np.eye()`                       | Identity matrix                                | `np.eye(3)`                       | `[[1. 0. 0.], [0. 1. 0.], [0. 0. 1.]]` |\n",
    "|                        | `np.arange()`                    | Creates array from range                       | `np.arange(1, 10, 2)`             | `[1 3 5 7 9]`                          |\n",
    "|                        | `np.linspace()`                  | Creates array with `n` equally spaced values   | `np.linspace(0, 1, 5)`            | `[0. 0.25 0.5 0.75 1.]`                |\n",
    "|                        | `np.random.rand()`               | Random values in `[0, 1)`                      | `np.random.rand(2, 2)`            | `[[0.64 0.12], [0.75 0.38]]`           |\n",
    "|                        | `np.random.randint()`            | Random integers in range                       | `np.random.randint(1, 10, (2,2))` | `[[7 2], [4 5]]`                       |\n",
    "| **Inspection**         | `a.shape`                        | Shape of array                                 | `a.shape`                         | `(3,)`                                 |\n",
    "|                        | `a.ndim`                         | Number of dimensions                           | `a.ndim`                          | `1`                                    |\n",
    "|                        | `a.size`                         | Total number of elements                       | `a.size`                          | `3`                                    |\n",
    "|                        | `a.dtype`                        | Data type                                      | `a.dtype`                         | `int64` or `int32`                     |\n",
    "|                        | `a.itemsize`                     | Bytes per element                              | `a.itemsize`                      | `8`                                    |\n",
    "|                        | `a.nbytes`                       | Total bytes                                    | `a.nbytes`                        | `24`                                   |\n",
    "| **Reshaping**          | `a.reshape()`                    | Changes shape                                  | `a.reshape((3, 1))`               | `[[1], [2], [3]]`                      |\n",
    "|                        | `a.flatten()`                    | Flattens to 1D                                 | `b.flatten()`                     | `[1 2 3 4 5 6]`                        |\n",
    "|                        | `np.ravel()`                     | Similar to flatten, returns view when possible | `np.ravel(b)`                     | `[1 2 3 4 5 6]`                        |\n",
    "|                        | `np.expand_dims()`               | Expands dimensions                             | `np.expand_dims(a, axis=0)`       | `[[1, 2, 3]]`                          |\n",
    "|                        | `np.squeeze()`                   | Removes single-dimensional entries             | `np.squeeze([[1]])`               | `1`                                    |\n",
    "| **Indexing & Slicing** | `a[1]`, `a[1:3]`                 | Access and slice elements                      | `a[1]`, `a[1:3]`                  | `2`, `[2, 3]`                          |\n",
    "|                        | `a[::2]`                         | Step slicing                                   | `a[::2]`                          | `[1 3]`                                |\n",
    "|                        | `a[::-1]`                        | Reverse array                                  | `a[::-1]`                         | `[3 2 1]`                              |\n",
    "|                        | `np.where()`                     | Conditional index                              | `np.where(a > 1)`                 | `(array([1, 2]),)`                     |\n",
    "|                        | `np.take()`                      | Extracts elements                              | `np.take(a, [0, 2])`              | `[1 3]`                                |\n",
    "| **Sorting**            | `np.sort()`                      | Sorts array                                    | `np.sort([3, 1, 2])`              | `[1 2 3]`                              |\n",
    "|                        | `np.argsort()`                   | Returns sort indices                           | `np.argsort([3, 1, 2])`           | `[1 2 0]`                              |\n",
    "| **Copying**            | `np.copy()`                      | Copies array                                   | `c = np.copy(a)`                  | Same as `a`                            |\n",
    "|                        | `a.view()`                       | Creates view (linked)                          | `v = a.view()`                    | Changes in `a` affect `v`              |\n",
    "| **Aggregation**        | `np.sum()`, `np.mean()`          | Total or average values                        | `np.mean(a)`                      | `2.0`                                  |\n",
    "|                        | `np.max()`, `np.min()`           | Max or min                                     | `np.max(a)`                       | `3`                                    |\n",
    "|                        | `np.std()`, `np.var()`           | Standard deviation and variance                | `np.std(a)`                       | `0.816`                                |\n",
    "| **Logic / Condition**  | `np.any()`, `np.all()`           | Checks if any/all elements are True            | `np.any(a > 1)`                   | `True`                                 |\n",
    "|                        | `np.equal()`, `np.array_equal()` | Element-wise comparison                        | `np.equal(a, [1, 0, 3])`          | `[True False True]`                    |\n",
    "| **Linear Algebra**     | `np.dot()`, `np.matmul()`        | Dot product, matrix multiplication             | `np.dot(a, [4,5,6])`              | `32`                                   |\n",
    "|                        | `np.linalg.inv()`                | Inverse of a matrix                            | `np.linalg.inv([[1,2],[3,4]])`    | Returns inverse                        |\n",
    "|                        | `np.linalg.det()`                | Determinant                                    | `np.linalg.det([[1,2],[3,4]])`    | `-2.0`                                 |\n",
    "|                        | `np.linalg.eig()`                | Eigenvalues and eigenvectors                   | `np.linalg.eig()`                 | Varies                                 |\n",
    "| **Saving / Loading**   | `np.save()`, `np.load()`         | Save/load `.npy` files                         | `np.save('file.npy', a)`          | Binary file                            |\n",
    "|                        | `np.savetxt()`, `np.loadtxt()`   | Save/load text (CSV, etc.)                     | `np.savetxt('file.txt', a)`       | Plain text                             |\n"
   ]
  },
  {
   "cell_type": "code",
   "execution_count": 6,
   "id": "b8eec4a2",
   "metadata": {},
   "outputs": [
    {
     "name": "stdout",
     "output_type": "stream",
     "text": [
      "[[1. 0. 0. 0.]\n",
      " [0. 1. 0. 0.]\n",
      " [0. 0. 1. 0.]\n",
      " [0. 0. 0. 1.]]\n"
     ]
    }
   ],
   "source": [
    "\n",
    "np.zeros((2, 3))\n",
    "np.ones((3,2))\n",
    "np.arange(0, 10, 2)\n",
    "np.linspace(0, 1, 5)\n",
    "np.eye(4)\n",
    "\n",
    "print(np.eye(4))"
   ]
  },
  {
   "cell_type": "markdown",
   "id": "17e3dc33",
   "metadata": {},
   "source": [
    "## Array Attributes\n",
    "\n",
    "Check the structure of a NumPy array:\n",
    "\n",
    "| Attribute      | Description                                                         | Example Usage    | Output / Explanation                         |\n",
    "| -------------- | ------------------------------------------------------------------- | ---------------- | -------------------------------------------- |\n",
    "| `arr.ndim`     | Returns the number of dimensions (axes)                             | `arr.ndim`       | `2` – it's a 2D array                        |\n",
    "| `arr.shape`    | Tuple showing the size of each dimension                            | `arr.shape`      | `(2, 3)` – 2 rows, 3 columns                 |\n",
    "| `arr.size`     | Total number of elements in the array                               | `arr.size`       | `6` – 2 × 3                                  |\n",
    "| `arr.dtype`    | Data type of the array elements                                     | `arr.dtype`      | `dtype('int64')` (on most systems)           |\n",
    "| `arr.itemsize` | Size (in bytes) of each element in the array                        | `arr.itemsize`   | `8` – each `int64` takes 8 bytes             |\n",
    "| `arr.nbytes`   | Total bytes consumed by the array                                   | `arr.nbytes`     | `48` – 6 elements × 8 bytes                  |\n",
    "| `arr.T`        | Transpose of the array (swaps axes)                                 | `arr.T`          | `[[1 4] [2 5] [3 6]]` – shape becomes (3,2)  |\n",
    "| `arr.flat`     | 1D iterator over array elements                                     | `list(arr.flat)` | `[1, 2, 3, 4, 5, 6]`                         |\n",
    "| `arr.real`     | Returns the real part (useful if array has complex numbers)         | `arr.real`       | Same as `arr` if real numbers                |\n",
    "| `arr.imag`     | Returns the imaginary part (0 if no imaginary part)                 | `arr.imag`       | All zeros for real-valued arrays             |\n",
    "| `arr.data`     | Buffer containing the actual array elements                         | `arr.data`       | Returns a memory buffer object               |\n",
    "| `arr.base`     | References the original object (if view), else `None`               | `arr.base`       | `None` – this is the original array          |\n",
    "| `arr.strides`  | Number of bytes to step in each dimension when traversing the array | `arr.strides`    | `(24, 8)` – row stride = 3×8, col stride = 8 |\n",
    "| `arr.flags`    | Info about memory layout (C-contiguous, F-contiguous, etc.)         | `arr.flags`      | Shows memory layout flags                    |\n"
   ]
  },
  {
   "cell_type": "code",
   "execution_count": 9,
   "id": "5580b760",
   "metadata": {},
   "outputs": [
    {
     "name": "stdout",
     "output_type": "stream",
     "text": [
      "(2, 3)\n",
      "2\n",
      "int32\n"
     ]
    }
   ],
   "source": [
    "arr = np.array([[1, 2, 3], [4, 5, 6]])\n",
    "print(arr.shape)   # (2, 3)\n",
    "print(arr.ndim)    # 2\n",
    "print(arr.dtype)   # int64"
   ]
  },
  {
   "cell_type": "markdown",
   "id": "76990207",
   "metadata": {},
   "source": [
    "## Indexing & Slicing\n",
    "\n",
    "Access elements or subarrays:\n"
   ]
  },
  {
   "cell_type": "code",
   "execution_count": 10,
   "id": "364593a6",
   "metadata": {},
   "outputs": [
    {
     "name": "stdout",
     "output_type": "stream",
     "text": [
      "20\n",
      "[20 30]\n"
     ]
    }
   ],
   "source": [
    "a = np.array([10, 20, 30, 40])\n",
    "print(a[1])      # 20\n",
    "print(a[1:3])    # [20 30]"
   ]
  },
  {
   "cell_type": "markdown",
   "id": "5c889af1",
   "metadata": {},
   "source": [
    "## Array Manipulation\n"
   ]
  },
  {
   "cell_type": "code",
   "execution_count": 11,
   "id": "05dd1546",
   "metadata": {},
   "outputs": [
    {
     "data": {
      "text/plain": [
       "array([[1, 3],\n",
       "       [2, 4]])"
      ]
     },
     "execution_count": 11,
     "metadata": {},
     "output_type": "execute_result"
    }
   ],
   "source": [
    "a = np.array([[1, 2], [3, 4]])\n",
    "a.reshape((4,))\n",
    "a.flatten()\n",
    "a.T  # Transpose"
   ]
  },
  {
   "cell_type": "markdown",
   "id": "d26afcd6",
   "metadata": {},
   "source": [
    "## Mathematical Operations\n",
    "Let’s assume:\n",
    "\n",
    "```python\n",
    "import numpy as np\n",
    "a = np.array([1, 2, 3])\n",
    "b = np.array([4, 5, 6])\n",
    "```"
   ]
  },
  {
   "cell_type": "markdown",
   "id": "4aef8b47",
   "metadata": {},
   "source": [
    "| Operation                 | Description                                     | Syntax / Function             | Example Output                 |\n",
    "| ------------------------- | ----------------------------------------------- | ----------------------------- | ------------------------------ |\n",
    "| **Addition**              | Element-wise addition                           | `a + b` or `np.add(a, b)`     | `[5 7 9]`                      |\n",
    "| **Subtraction**           | Element-wise subtraction                        | `a - b` or `np.subtract(a,b)` | `[-3 -3 -3]`                   |\n",
    "| **Multiplication**        | Element-wise multiplication                     | `a * b` or `np.multiply(a,b)` | `[4 10 18]`                    |\n",
    "| **Division**              | Element-wise division                           | `a / b` or `np.divide(a,b)`   | `[0.25 0.4 0.5]`               |\n",
    "| **Power**                 | Element-wise exponentiation                     | `a ** 2` or `np.power(a, 2)`  | `[1 4 9]`                      |\n",
    "| **Modulus**               | Element-wise modulus (remainder)                | `a % 2` or `np.mod(a, 2)`     | `[1 0 1]`                      |\n",
    "| **Floor Division**        | Element-wise floor division (discard remainder) | `a // 2`                      | `[0 1 1]`                      |\n",
    "| **Absolute**              | Element-wise absolute value                     | `np.abs([-1, -2, 3])`         | `[1 2 3]`                      |\n",
    "| **Square Root**           | Element-wise square root                        | `np.sqrt(a)`                  | `[1. 1.41 1.73]`               |\n",
    "| **Exponential**           | Element-wise exponential (e^x)                  | `np.exp(a)`                   | `[2.71 7.39 20.08]`            |\n",
    "| **Logarithm (natural)**   | Element-wise natural log                        | `np.log(a)`                   | `[0. 0.69 1.09]`               |\n",
    "| **Logarithm (base 10)**   | Logarithm base 10 of array elements             | `np.log10(a)`                 | `[0. 0.301 0.477]`             |\n",
    "| **Max / Min**             | Maximum or minimum element                      | `np.max(a)` / `np.min(a)`     | `3` / `1`                      |\n",
    "| **Sum**                   | Sum of all elements                             | `np.sum(a)`                   | `6`                            |\n",
    "| **Mean**                  | Arithmetic mean                                 | `np.mean(a)`                  | `2.0`                          |\n",
    "| **Median**                | Middle value                                    | `np.median(a)`                | `2.0`                          |\n",
    "| **Standard Deviation**    | Spread of elements                              | `np.std(a)`                   | `0.816`                        |\n",
    "| **Variance**              | Measure of variation                            | `np.var(a)`                   | `0.666`                        |\n",
    "| **Dot Product**           | Inner product of vectors                        | `np.dot(a, b)`                | `32`                           |\n",
    "| **Matrix Multiplication** | Matrix multiplication (2D+)                     | `np.matmul(a, b)`             | Only for 2D or reshaped arrays |\n",
    "| **Cumulative Sum**        | Running total                                   | `np.cumsum(a)`                | `[1 3 6]`                      |\n",
    "| **Cumulative Product**    | Running product                                 | `np.cumprod(a)`               | `[1 2 6]`                      |\n",
    "| **Clip**                  | Limit values to within min and max              | `np.clip(a, 1, 2)`            | `[1 2 2]`                      |\n",
    "| **Round**                 | Rounds elements to given decimals               | `np.round(np.sqrt(a), 2)`     | `[1. 1.41 1.73]`               |\n",
    "\n",
    "\n",
    "📘 **NumPy Math Functions**: [Link](https://numpy.org/doc/stable/reference/routines.math.html)"
   ]
  },
  {
   "cell_type": "code",
   "execution_count": 20,
   "id": "3154f1d1",
   "metadata": {},
   "outputs": [
    {
     "name": "stdout",
     "output_type": "stream",
     "text": [
      "[5 7 9]\n",
      "32\n",
      "32\n"
     ]
    }
   ],
   "source": [
    "# EXAMPLES\n",
    " \n",
    "a = np.array([1, 2, 3])\n",
    "b = np.array([4, 5, 6])\n",
    "print(a + b)  # [5 7 9]\n",
    "print(np.dot(a, b))  # 32\n",
    "print(np.matmul(a,b))"
   ]
  },
  {
   "cell_type": "markdown",
   "id": "9c34f41f",
   "metadata": {},
   "source": [
    "## Broadcasting\n",
    "\n",
    "Broadcasting is a trick NumPy uses to let you do math on arrays that aren't exactly the same size. NumPy attempts to make them compatible by applying a set of rules. \n",
    "\n",
    "Broadcasting Rules:\n",
    "\n",
    "For two arrays to be broadcastable, NumPy compares their shapes element-wise, starting from the trailing (rightmost) dimensions:\n",
    "\n",
    "    - Equal Dimensions: If the dimensions are equal, they are compatible.\n",
    "    - One Dimension is 1: If one of the dimensions is 1, it is stretched to match the other dimension.\n",
    "    - Missing Dimensions: If one array has fewer dimensions than the other, its shape is effectively \"padded\" with ones on its left side until both arrays have the same number of dimensions.\n",
    "    - Incompatible: If none of the above conditions are met for any pair of dimensions, the arrays are not broadcastable, and NumPy will raise a ValueError."
   ]
  },
  {
   "cell_type": "code",
   "execution_count": 21,
   "id": "e203b1b9",
   "metadata": {},
   "outputs": [
    {
     "name": "stdout",
     "output_type": "stream",
     "text": [
      "[[11 21 31]\n",
      " [12 22 32]\n",
      " [13 23 33]]\n"
     ]
    }
   ],
   "source": [
    "a = np.array([[1], [2], [3]])\n",
    "b = np.array([10, 20, 30])\n",
    "print(a + b)"
   ]
  },
  {
   "cell_type": "markdown",
   "id": "8d0eae14",
   "metadata": {},
   "source": [
    "## Universal Functions (ufuncs)\n",
    "\n",
    "Fast, element-wise functions:\n"
   ]
  },
  {
   "cell_type": "code",
   "execution_count": 23,
   "id": "81389132",
   "metadata": {},
   "outputs": [
    {
     "data": {
      "text/plain": [
       "array([0., 1.])"
      ]
     },
     "execution_count": 23,
     "metadata": {},
     "output_type": "execute_result"
    }
   ],
   "source": [
    "np.sqrt([1, 4, 9])\n",
    "np.exp([0, 1])\n",
    "np.log([1, np.e])"
   ]
  },
  {
   "cell_type": "markdown",
   "id": "96f7818a",
   "metadata": {},
   "source": [
    "## Aggregations & Statistics\n",
    "\n"
   ]
  },
  {
   "cell_type": "code",
   "execution_count": 28,
   "id": "e4ca56eb",
   "metadata": {},
   "outputs": [
    {
     "name": "stdout",
     "output_type": "stream",
     "text": [
      "10\n",
      "[2. 3.]\n",
      "4\n",
      "1.118033988749895\n"
     ]
    }
   ],
   "source": [
    "\n",
    "arr = np.array([[1, 2], [3, 4]])\n",
    "print(arr.sum())\n",
    "print(arr.mean(axis=0))\n",
    "print(arr.max())\n",
    "print(arr.std())\n"
   ]
  },
  {
   "cell_type": "markdown",
   "id": "c70ea271",
   "metadata": {},
   "source": [
    "## Boolean Masking\n"
   ]
  },
  {
   "cell_type": "code",
   "execution_count": 29,
   "id": "6506c8fc",
   "metadata": {},
   "outputs": [
    {
     "name": "stdout",
     "output_type": "stream",
     "text": [
      "[4 5]\n"
     ]
    }
   ],
   "source": [
    "arr = np.array([1, 2, 3, 4, 5])\n",
    "mask = arr > 3\n",
    "print(arr[mask])  # [4 5]"
   ]
  },
  {
   "cell_type": "markdown",
   "id": "d5e6eccd",
   "metadata": {},
   "source": [
    "## File I/O with NumPy\n"
   ]
  },
  {
   "cell_type": "code",
   "execution_count": 31,
   "id": "671f3859",
   "metadata": {},
   "outputs": [
    {
     "name": "stdout",
     "output_type": "stream",
     "text": [
      "[[1. 2. 3.]\n",
      " [4. 5. 6.]]\n"
     ]
    }
   ],
   "source": [
    "arr = np.array([[1, 2, 3], [4, 5, 6]])\n",
    "np.savetxt('data.txt', arr)                 # save file\n",
    "loaded = np.loadtxt('data.txt')             # load file\n",
    "print(loaded)"
   ]
  },
  {
   "cell_type": "markdown",
   "id": "4f6c4f99",
   "metadata": {},
   "source": [
    "## Random Module\n"
   ]
  },
  {
   "cell_type": "markdown",
   "id": "79abb6f2",
   "metadata": {},
   "source": [
    "| Function                                        | Description                                                       | Syntax / Usage Example                        | Example Output                             |\n",
    "| ----------------------------------------------- | ----------------------------------------------------------------- | --------------------------------------------- | ------------------------------------------ |\n",
    "| **Random Sampling**                             |                                                                   |                                               |                                            |\n",
    "| `np.random.rand(d0, d1, ...)`                   | Uniform distribution over \\[0, 1), returns samples in given shape | `np.random.rand(2, 2)`                        | `[[0.32 0.85], [0.76 0.19]]`               |\n",
    "| `np.random.randn(d0, d1, ...)`                  | Standard normal distribution (mean=0, std=1)                      | `np.random.randn(3)`                          | `[ 0.24 -1.12  1.45]`                      |\n",
    "| `np.random.randint(low, high, size)`            | Random integers in range \\[low, high)                             | `np.random.randint(1, 10, size=(2,2))`        | `[[3 5], [8 1]]`                           |\n",
    "| `np.random.random(size)`                        | Alias for `rand()`, samples from \\[0, 1)                          | `np.random.random((2,))`                      | `[0.5, 0.9]`                               |\n",
    "| `np.random.choice(a, size, replace, p)`         | Random samples from 1D array (with/without replacement)           | `np.random.choice([10, 20, 30], size=2)`      | `[30 10]`                                  |\n",
    "| `np.random.bytes(length)`                       | Returns random bytes                                              | `np.random.bytes(5)`                          | `b'\\xaf\\x93\\x84&\\x12'`                     |\n",
    "| **Distributions**                               |                                                                   |                                               |                                            |\n",
    "| `np.random.uniform(low, high, size)`            | Uniform distribution \\[low, high)                                 | `np.random.uniform(1.0, 2.0, 3)`              | `[1.2 1.7 1.9]`                            |\n",
    "| `np.random.normal(loc, scale, size)`            | Normal (Gaussian) distribution                                    | `np.random.normal(0, 1, 4)`                   | `[-1.0, 0.6, 0.1, 0.9]`                    |\n",
    "| `np.random.poisson(lam, size)`                  | Poisson distribution                                              | `np.random.poisson(3.0, 5)`                   | `[2 1 4 5 3]`                              |\n",
    "| `np.random.binomial(n, p, size)`                | Binomial distribution                                             | `np.random.binomial(10, 0.5, 5)`              | `[4 6 5 7 3]`                              |\n",
    "| `np.random.beta(a, b, size)`                    | Beta distribution                                                 | `np.random.beta(0.5, 0.5, 3)`                 | `[0.3 0.8 0.5]`                            |\n",
    "| `np.random.gamma(shape, scale, size)`           | Gamma distribution                                                | `np.random.gamma(2.0, 1.5, 3)`                | `[2.1 3.0 0.9]`                            |\n",
    "| `np.random.exponential(scale, size)`            | Exponential distribution                                          | `np.random.exponential(1.0, 5)`               | `[0.5 1.3 0.1 2.3 0.9]`                    |\n",
    "| `np.random.geometric(p, size)`                  | Geometric distribution                                            | `np.random.geometric(0.5, 5)`                 | `[2 1 1 3 1]`                              |\n",
    "| `np.random.lognormal(mean, sigma, size)`        | Log-normal distribution                                           | `np.random.lognormal(0.0, 1.0, 3)`            | `[1.2 2.7 0.8]`                            |\n",
    "| `np.random.laplace(loc, scale, size)`           | Laplace distribution                                              | `np.random.laplace(0.0, 1.0, 3)`              | `[-0.5, 0.1, 1.3]`                         |\n",
    "| `np.random.f(dfnum, dfden, size)`               | F (variance ratio) distribution                                   | `np.random.f(5, 2, 3)`                        | `[1.3 0.7 3.2]`                            |\n",
    "| `np.random.chisquare(df, size)`                 | Chi-square distribution                                           | `np.random.chisquare(2, 4)`                   | `[0.9 1.1 2.4 3.2]`                        |\n",
    "| `np.random.triangular(left, mode, right, size)` | Triangular distribution                                           | `np.random.triangular(1, 2, 3, 5)`            | `[2.1 2.3 1.8 1.9 2.0]`                    |\n",
    "| `np.random.wald(mean, scale, size)`             | Wald (inverse Gaussian) distribution                              | `np.random.wald(3, 2, 4)`                     | `[3.2 2.9 3.5 2.7]`                        |\n",
    "| `np.random.weibull(a, size)`                    | Weibull distribution                                              | `np.random.weibull(2.0, 5)`                   | `[0.4 0.7 1.1 1.4 1.2]`                    |\n",
    "| `np.random.standard_normal(size)`               | Standard normal (mean=0, std=1)                                   | `np.random.standard_normal(3)`                | `[0.2, -0.8, 1.4]`                         |\n",
    "| `np.random.standard_gamma(shape, size)`         | Standard Gamma (scale = 1)                                        | `np.random.standard_gamma(2.0, 4)`            | `[1.3 0.9 2.2 1.7]`                        |\n",
    "| `np.random.standard_exponential(size)`          | Standard Exponential (scale = 1)                                  | `np.random.standard_exponential(3)`           | `[0.6 1.2 0.3]`                            |\n",
    "| `np.random.standard_t(df, size)`                | Standard Student's t-distribution                                 | `np.random.standard_t(5, 4)`                  | `[0.4 1.1 -0.9 2.3]`                       |\n",
    "| **Shuffling / Permutation**                     |                                                                   |                                               |                                            |\n",
    "| `np.random.shuffle(x)`                          | Shuffles array in-place (only 1D or rows of 2D)                   | `x = np.array([1,2,3]); np.random.shuffle(x)` | `x` is now shuffled                        |\n",
    "| `np.random.permutation(x)`                      | Returns a shuffled copy                                           | `np.random.permutation(5)`                    | `[4 2 1 3 0]`                              |\n",
    "| **Seed Control**                                |                                                                   |                                               |                                            |\n",
    "| `np.random.seed(seed)`                          | Sets the seed for reproducibility                                 | `np.random.seed(42)`                          | Ensures same output every run              |\n",
    "| `np.random.get_state()`                         | Gets RNG state                                                    | `state = np.random.get_state()`               | Internal state (used to restore RNG state) |\n",
    "| `np.random.set_state(state)`                    | Restores RNG state                                                | `np.random.set_state(state)`                  |                                            |\n"
   ]
  },
  {
   "cell_type": "code",
   "execution_count": 32,
   "id": "23dbdae5",
   "metadata": {},
   "outputs": [
    {
     "data": {
      "text/plain": [
       "array([6, 9, 2])"
      ]
     },
     "execution_count": 32,
     "metadata": {},
     "output_type": "execute_result"
    }
   ],
   "source": [
    "np.random.seed(42)\n",
    "np.random.rand(2, 2)\n",
    "np.random.randint(0, 10, size=(3,))"
   ]
  },
  {
   "cell_type": "markdown",
   "id": "2c9a6b91",
   "metadata": {},
   "source": [
    "## Useful Tips & Tricks\n",
    "\n",
    "- Use `np.where()` for conditional logic\n",
    "- Use `np.unique()` for unique values\n",
    "- Use `np.concatenate()` to join arrays"
   ]
  },
  {
   "cell_type": "code",
   "execution_count": 33,
   "id": "5d9d2c08",
   "metadata": {},
   "outputs": [
    {
     "data": {
      "text/plain": [
       "array([['No', 'No', 'Yes'],\n",
       "       ['Yes', 'Yes', 'Yes']], dtype='<U3')"
      ]
     },
     "execution_count": 33,
     "metadata": {},
     "output_type": "execute_result"
    }
   ],
   "source": [
    "np.where(arr > 2, 'Yes', 'No')"
   ]
  },
  {
   "cell_type": "markdown",
   "id": "f572b9b7",
   "metadata": {},
   "source": [
    "## Value changing example"
   ]
  },
  {
   "cell_type": "code",
   "execution_count": 2,
   "id": "2d98e78c",
   "metadata": {},
   "outputs": [
    {
     "data": {
      "text/plain": [
       "array([[56, 18, 60, 22, 52],\n",
       "       [12, 11, 81, 21,  2],\n",
       "       [52, 26, 28,  9, 23],\n",
       "       [61, 29, 67, 22, 77]])"
      ]
     },
     "execution_count": 2,
     "metadata": {},
     "output_type": "execute_result"
    }
   ],
   "source": [
    "import numpy as np\n",
    "arr = np.array([[56,18,60,22,52],[12,11,81,21,2],[52,26,28,9,23],[61,29,67,22,77]])\n",
    "arr"
   ]
  },
  {
   "cell_type": "code",
   "execution_count": 3,
   "id": "e1d2f803",
   "metadata": {},
   "outputs": [
    {
     "data": {
      "text/plain": [
       "array([[ True, False,  True, False,  True],\n",
       "       [False, False,  True, False, False],\n",
       "       [ True, False, False, False, False],\n",
       "       [ True, False,  True, False,  True]])"
      ]
     },
     "execution_count": 3,
     "metadata": {},
     "output_type": "execute_result"
    }
   ],
   "source": [
    "arr >50"
   ]
  },
  {
   "cell_type": "code",
   "execution_count": null,
   "id": "c6a8a658",
   "metadata": {},
   "outputs": [
    {
     "data": {
      "text/plain": [
       "array([56, 60, 52, 81, 52, 61, 67, 77])"
      ]
     },
     "execution_count": 4,
     "metadata": {},
     "output_type": "execute_result"
    }
   ],
   "source": [
    "arr[arr > 50]"
   ]
  },
  {
   "cell_type": "code",
   "execution_count": 9,
   "id": "80c8088f",
   "metadata": {},
   "outputs": [
    {
     "data": {
      "text/plain": [
       "array([[56, 18, 60, 22, 52],\n",
       "       [12, 11,  0, 21,  2],\n",
       "       [52, 26, 28,  9, 23],\n",
       "       [ 0, 29,  0, 22,  0]])"
      ]
     },
     "execution_count": 9,
     "metadata": {},
     "output_type": "execute_result"
    }
   ],
   "source": [
    "arr[(arr > 50) & (arr%2!=0) ] = 0\n",
    "arr"
   ]
  },
  {
   "cell_type": "markdown",
   "id": "16837ca0",
   "metadata": {},
   "source": [
    "## Summary\n",
    "\n",
    "NumPy is essential for scientific computing and machine learning. Its fast, vectorized operations, broadcasting features, and extensive mathematical toolkit make it an indispensable tool in the Python ecosystem.\n"
   ]
  }
 ],
 "metadata": {
  "kernelspec": {
   "display_name": "base",
   "language": "python",
   "name": "python3"
  },
  "language_info": {
   "codemirror_mode": {
    "name": "ipython",
    "version": 3
   },
   "file_extension": ".py",
   "mimetype": "text/x-python",
   "name": "python",
   "nbconvert_exporter": "python",
   "pygments_lexer": "ipython3",
   "version": "3.12.4"
  }
 },
 "nbformat": 4,
 "nbformat_minor": 5
}
