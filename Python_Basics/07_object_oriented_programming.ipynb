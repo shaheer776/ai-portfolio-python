{
 "cells": [
  {
   "cell_type": "markdown",
   "id": "2b2489dc",
   "metadata": {},
   "source": [
    "# 🧱 07 - Object-Oriented Programming in Python"
   ]
  },
  {
   "cell_type": "markdown",
   "id": "d8c79884",
   "metadata": {},
   "source": [
    "## 📚 Contents\n",
    "1. What is OOP?\n",
    "2. Class and Object\n",
    "3. The `__init__` Method (Constructor)\n",
    "4. Instance Variables and Methods\n",
    "5. Class Variables and Methods\n",
    "6. Inheritance\n",
    "7. Method Overriding\n",
    "8. Encapsulation\n",
    "9. Polymorphism\n",
    "10. Special (Magic/Dunder) Methods\n",
    "11. `isinstance()` and `issubclass()`\n",
    "12. Composition vs Inheritance\n",
    "13. Summary\n",
    "14. References\n",
    "15. Detailed Special Methods\n",
    "16. Few Examples\n",
    "\n",
    "### 📘 Documentation\n",
    "\n",
    "🔗 [Python Classes - Official Docs](https://docs.python.org/3/tutorial/classes.html)\n",
    "\n",
    "🔗 [Real Python - OOP](https://realpython.com/python3-object-oriented-programming/)\n",
    "    "
   ]
  },
  {
   "cell_type": "markdown",
   "id": "d121c478",
   "metadata": {},
   "source": [
    "### 1. What is Object-Oriented Programming (OOP)?\n",
    "\n",
    "Object-Oriented Programming (OOP) is a programming paradigm based on the concept of objects. These objects can contain data, in the form of fields (attributes), and code, in the form of procedures (methods). OOP helps in building programs that are more modular, reusable, and easier to understand.\n",
    "Python supports OOP and allows you to create and work with objects using classes. It helps in modeling real-world entities, making your code more organized and maintainable. Object-Oriented Programming is a programming paradigm that organizes code into **objects**, which are instances of **classes**. It provides a clear structure for the code and promotes **reusability**, **modularity**, and **abstraction**.\n",
    "\n",
    "The four key principles of OOP:\n",
    "- **Encapsulation**: Hiding internal state and requiring all interaction to be performed through an object’s methods.\n",
    "- **Abstraction**: Hiding complex implementation details and showing only the essential features.\n",
    "- **Inheritance**: Ability of a class to inherit properties and methods from another class.\n",
    "- **Polymorphism**: The ability to use a shared interface for multiple forms (methods with the same name behaving differently based on the object).\n"
   ]
  },
  {
   "cell_type": "markdown",
   "id": "fd3b4b76",
   "metadata": {},
   "source": [
    "### 2. Class and Object\n",
    "\n",
    "- A class is like a blueprint or template for creating objects. It defines the attributes and behaviors that the objects created from it will have.\n",
    "\n",
    "- An object is a specific instance of a class. Each object can hold different values for its attributes.\n",
    "\n",
    "Think of a class as a mold, and an object as a product made from that mold.\n",
    "\n",
    "A **class** is a blueprint for creating objects. An **object** is an instance of a class.\n",
    "\n",
    "\n"
   ]
  },
  {
   "cell_type": "code",
   "execution_count": 2,
   "id": "811905dd",
   "metadata": {},
   "outputs": [
    {
     "name": "stdout",
     "output_type": "stream",
     "text": [
      "Woof!\n"
     ]
    }
   ],
   "source": [
    "\n",
    "class Dog:\n",
    "    def bark(self):\n",
    "        print(\"Woof!\")\n",
    "\n",
    "my_dog = Dog()\n",
    "my_dog.bark()  # Output: Woof!"
   ]
  },
  {
   "cell_type": "markdown",
   "id": "ab17c89e",
   "metadata": {},
   "source": [
    "### 3. The __init__ Method (Constructor)\n",
    "\n",
    "The __init__ method in Python is the constructor of the class. It is automatically called when a new object is created. Its primary purpose is to initialize the instance variables of the object.\n",
    "The first parameter of __init__ is always self, which refers to the instance being created. You can pass additional parameters to customize the object's initialization.\n",
    "\n",
    "The __init__ method is automatically called when a new object is created.\n",
    "\n"
   ]
  },
  {
   "cell_type": "code",
   "execution_count": 4,
   "id": "abefd939",
   "metadata": {},
   "outputs": [
    {
     "name": "stdout",
     "output_type": "stream",
     "text": [
      "My name is Buddy, and I am a Golden Retriever.\n"
     ]
    }
   ],
   "source": [
    "class Dog:\n",
    "    def __init__(self, name, breed):\n",
    "        self.name = name\n",
    "        self.breed = breed\n",
    "\n",
    "    def info(self):\n",
    "        print(f\"My name is {self.name}, and I am a {self.breed}.\")\n",
    "\n",
    "dog1 = Dog(\"Buddy\", \"Golden Retriever\")\n",
    "dog1.info()"
   ]
  },
  {
   "cell_type": "markdown",
   "id": "8e317c3d",
   "metadata": {},
   "source": [
    "### 4. Instance Variables and Methods\n",
    "\n",
    "- Instance variables are attributes that are unique to each object. They are typically defined in the __init__ method using self.variable_name.\n",
    "\n",
    "- Instance methods are functions defined within a class that operate on an instance of that class. They use self to access and modify the object’s attributes.\n",
    "\n",
    "Each object can have different values for the same instance variables, depending on how it was initialized.\n",
    "\n",
    "\n",
    "\n",
    "\n",
    "\n"
   ]
  },
  {
   "cell_type": "code",
   "execution_count": 5,
   "id": "8e6648c5",
   "metadata": {},
   "outputs": [
    {
     "name": "stdout",
     "output_type": "stream",
     "text": [
      "Toyota (2020)\n",
      "Honda (2022)\n"
     ]
    }
   ],
   "source": [
    "class Car:\n",
    "    def __init__(self, brand, year):\n",
    "        self.brand = brand\n",
    "        self.year = year\n",
    "\n",
    "    def display(self):\n",
    "        print(f\"{self.brand} ({self.year})\")\n",
    "\n",
    "car1 = Car(\"Toyota\", 2020)\n",
    "car2 = Car(\"Honda\", 2022)\n",
    "\n",
    "car1.display()\n",
    "car2.display()"
   ]
  },
  {
   "cell_type": "markdown",
   "id": "32ebcb30",
   "metadata": {},
   "source": [
    "### 5. Static/Class Variables and Methods\n",
    "\n",
    "- Class variables are shared by all instances of a class. They are defined outside the __init__ method, directly in the class body.\n",
    "\n",
    "- Class methods are methods bound to the class and not the instance. They use @classmethod as a decorator and take cls (class itself) as their first argument.\n",
    "\n",
    "Class methods are useful when you want to perform operations that relate to the class as a whole, not individual objects."
   ]
  },
  {
   "cell_type": "code",
   "execution_count": 13,
   "id": "b2954956",
   "metadata": {},
   "outputs": [
    {
     "name": "stdout",
     "output_type": "stream",
     "text": [
      "Company: TechCorp\n",
      "Company: Tesla\n"
     ]
    }
   ],
   "source": [
    "class Employee:\n",
    "    company = \"TechCorp\"  # Class variable\n",
    "    company2 = \"Tesla\"\n",
    "\n",
    "    def __init__(self, name):\n",
    "        self.name = name \n",
    "\n",
    "\n",
    "    @classmethod\n",
    "    def show_company(cls):\n",
    "        print(f\"Company: {cls.company}\")\n",
    "\n",
    "    @staticmethod\n",
    "    def show_company2():\n",
    "        print(f\"Company: {Employee.company2}\")\n",
    "\n",
    "e1 = Employee(\"Alice\")\n",
    "e2 = Employee(\"Bob\")\n",
    "\n",
    "Employee.show_company()\n",
    "Employee.show_company2()"
   ]
  },
  {
   "cell_type": "markdown",
   "id": "de7aa0d9",
   "metadata": {},
   "source": [
    "### 6. Inheritance\n",
    "\n",
    "Inheritance allows a class (child/derived) to inherit attributes and methods from another class (parent/base). It supports code reuse, and allows the child class to override or extend the parent’s functionality. Private variables and methods are not inherited.\n",
    "\n",
    "This makes your code DRY (Don't Repeat Yourself) and modular. The child class can have its own additional properties and methods."
   ]
  },
  {
   "cell_type": "code",
   "execution_count": 11,
   "id": "2a9c4432",
   "metadata": {},
   "outputs": [
    {
     "name": "stdout",
     "output_type": "stream",
     "text": [
      "Some sound\n",
      "Meow!\n"
     ]
    }
   ],
   "source": [
    "class Animal:\n",
    "    def sound(self):\n",
    "        print(\"Some sound\")\n",
    "\n",
    "class Cat(Animal):\n",
    "    def meow(self):\n",
    "        print(\"Meow!\")\n",
    "\n",
    "c = Cat()\n",
    "c.sound()\n",
    "c.meow()"
   ]
  },
  {
   "cell_type": "markdown",
   "id": "29cd85a9",
   "metadata": {},
   "source": [
    "#### super() usage\n",
    "\n",
    "super() in Python is a built-in function that's primarily used to call constructor and methods from a parent class within a class hierarchy."
   ]
  },
  {
   "cell_type": "code",
   "execution_count": 8,
   "id": "6ad7e6e5",
   "metadata": {},
   "outputs": [
    {
     "name": "stdout",
     "output_type": "stream",
     "text": [
      "Hello from Parent\n",
      "Hello from Child\n"
     ]
    }
   ],
   "source": [
    "class Parent:\n",
    "    def greet(self):\n",
    "        print(\"Hello from Parent\")\n",
    "\n",
    "class Child(Parent):\n",
    "    def greet(self):\n",
    "        super().greet()  # Calls the greet method of the Parent class\n",
    "        print(\"Hello from Child\")\n",
    "\n",
    "child_obj = Child()\n",
    "child_obj.greet()"
   ]
  },
  {
   "cell_type": "code",
   "execution_count": 6,
   "id": "f4d5995b",
   "metadata": {},
   "outputs": [
    {
     "name": "stdout",
     "output_type": "stream",
     "text": [
      "Inside phone constructor\n",
      "Buying a smartphone\n",
      "Buying a phone\n"
     ]
    }
   ],
   "source": [
    "class Phone:\n",
    "    def __init__(self,price,brand,camera):\n",
    "        print(\"Inside phone constructor\")\n",
    "        self.__price = price\n",
    "        self.brand = brand\n",
    "        self.camera = camera\n",
    "    \n",
    "    def buy(self):\n",
    "        print(\"Buying a phone\")\n",
    "\n",
    "class Smartphone(Phone):\n",
    "\n",
    "    def __init__(self, price, brand, camera, os, ram):\n",
    "        super().__init__(price, brand, camera)\n",
    "        self.os = os\n",
    "        self.ram = ram\n",
    "\n",
    "    def buy(self):\n",
    "        print(\"Buying a smartphone\")\n",
    "        super().buy()\n",
    "\n",
    "s = Smartphone(20000, \"Apple\", 13, 14.02, 8)\n",
    "s.buy()\n"
   ]
  },
  {
   "cell_type": "markdown",
   "id": "264d2f7f",
   "metadata": {},
   "source": [
    "#### Types of Inheritance\n",
    "\n",
    "- Single Inheritance\n",
    "- Multiple Inheritance\n",
    "- Multilevel Inheritance\n",
    "- Hierarchical Inheritance\n",
    "- Hybrid Inheritance"
   ]
  },
  {
   "cell_type": "code",
   "execution_count": 9,
   "id": "b76202a9",
   "metadata": {},
   "outputs": [
    {
     "name": "stdout",
     "output_type": "stream",
     "text": [
      "Method from Parent\n",
      "Method from Child\n"
     ]
    }
   ],
   "source": [
    "# Single Inheritance\n",
    "\n",
    "class Parent:\n",
    "    def method_one(self):\n",
    "        print(\"Method from Parent\")\n",
    "\n",
    "class Child(Parent):\n",
    "    def method_two(self):\n",
    "        print(\"Method from Child\")\n",
    "\n",
    "child_obj = Child()\n",
    "child_obj.method_one()  # Inherited from Parent\n",
    "child_obj.method_two()"
   ]
  },
  {
   "cell_type": "code",
   "execution_count": 10,
   "id": "38784763",
   "metadata": {},
   "outputs": [
    {
     "name": "stdout",
     "output_type": "stream",
     "text": [
      "Method from ParentOne\n",
      "Method from ParentTwo\n",
      "Method from Child\n",
      "[<class '__main__.Child'>, <class '__main__.ParentOne'>, <class '__main__.ParentTwo'>, <class 'object'>]\n"
     ]
    }
   ],
   "source": [
    "# Multiple Inheritance\n",
    "\n",
    "class ParentOne:\n",
    "    def method_one(self):\n",
    "        print(\"Method from ParentOne\")\n",
    "\n",
    "class ParentTwo:\n",
    "    def method_two(self):\n",
    "        print(\"Method from ParentTwo\")\n",
    "\n",
    "class Child(ParentOne, ParentTwo):\n",
    "    def method_three(self):\n",
    "        print(\"Method from Child\")\n",
    "\n",
    "child_obj = Child()\n",
    "child_obj.method_one()  # Inherited from ParentOne\n",
    "child_obj.method_two()  # Inherited from ParentTwo\n",
    "child_obj.method_three()\n",
    "print(Child.mro())  # Shows the Method Resolution Order"
   ]
  },
  {
   "cell_type": "code",
   "execution_count": 11,
   "id": "e600dca9",
   "metadata": {},
   "outputs": [
    {
     "name": "stdout",
     "output_type": "stream",
     "text": [
      "Method from Grandparent\n",
      "Method from Parent\n",
      "Method from Child\n"
     ]
    }
   ],
   "source": [
    "# Multilevel Inheritance\n",
    "\n",
    "class Grandparent:\n",
    "    def method_grandparent(self):\n",
    "        print(\"Method from Grandparent\")\n",
    "\n",
    "class Parent(Grandparent):\n",
    "    def method_parent(self):\n",
    "        print(\"Method from Parent\")\n",
    "\n",
    "class Child(Parent):\n",
    "    def method_child(self):\n",
    "        print(\"Method from Child\")\n",
    "\n",
    "child_obj = Child()\n",
    "child_obj.method_grandparent()  # Inherited from Grandparent\n",
    "child_obj.method_parent()     # Inherited from Parent\n",
    "child_obj.method_child()"
   ]
  },
  {
   "cell_type": "code",
   "execution_count": 12,
   "id": "deec63d1",
   "metadata": {},
   "outputs": [
    {
     "name": "stdout",
     "output_type": "stream",
     "text": [
      "Method from Parent\n",
      "Method from ChildOne\n",
      "Method from Parent\n",
      "Method from ChildTwo\n"
     ]
    }
   ],
   "source": [
    "# Hierarchical Inheritance\n",
    "\n",
    "class Parent:\n",
    "    def method_parent(self):\n",
    "        print(\"Method from Parent\")\n",
    "\n",
    "class ChildOne(Parent):\n",
    "    def method_child_one(self):\n",
    "        print(\"Method from ChildOne\")\n",
    "\n",
    "class ChildTwo(Parent):\n",
    "    def method_child_two(self):\n",
    "        print(\"Method from ChildTwo\")\n",
    "\n",
    "child_one_obj = ChildOne()\n",
    "child_one_obj.method_parent()\n",
    "child_one_obj.method_child_one()\n",
    "\n",
    "child_two_obj = ChildTwo()\n",
    "child_two_obj.method_parent()\n",
    "child_two_obj.method_child_two()"
   ]
  },
  {
   "cell_type": "code",
   "execution_count": 14,
   "id": "93657a06",
   "metadata": {},
   "outputs": [
    {
     "name": "stdout",
     "output_type": "stream",
     "text": [
      "Method A\n",
      "Method B\n",
      "Method C\n",
      "Method D\n",
      "[<class '__main__.D'>, <class '__main__.B'>, <class '__main__.C'>, <class '__main__.A'>, <class 'object'>]\n"
     ]
    }
   ],
   "source": [
    "# Hybrid Inheritance\n",
    "\n",
    "class A:\n",
    "    def method_a(self):\n",
    "        print(\"Method A\")\n",
    "\n",
    "class B(A):\n",
    "    def method_b(self):\n",
    "        print(\"Method B\")\n",
    "\n",
    "class C(A):\n",
    "    def method_c(self):\n",
    "        print(\"Method C\")\n",
    "\n",
    "class D(B, C):  # Hybrid: Multiple inheritance from B and C, which inherit from A\n",
    "    def method_d(self):\n",
    "        print(\"Method D\")\n",
    "\n",
    "d_obj = D()\n",
    "d_obj.method_a()\n",
    "d_obj.method_b()\n",
    "d_obj.method_c()\n",
    "d_obj.method_d()\n",
    "print(D.mro()) # The order in which Python searches for a method in a class hierarchy. You can see the MRO using the __mro__ attribute or the mro() method of a class. "
   ]
  },
  {
   "cell_type": "markdown",
   "id": "8951ab11",
   "metadata": {},
   "source": [
    "#### mro() - In Python, when a class inherits from multiple classes, mro() helps Python decide which method or attribute to use first if there’s a conflict or overlap.\n",
    "\n",
    "- mro() tells the order in which Python looks for methods and attributes when you call them on an object — especially in multiple inheritance."
   ]
  },
  {
   "cell_type": "code",
   "execution_count": 15,
   "id": "08187e65",
   "metadata": {},
   "outputs": [
    {
     "name": "stdout",
     "output_type": "stream",
     "text": [
      "[<class '__main__.D'>, <class '__main__.B'>, <class '__main__.C'>, <class '__main__.A'>, <class 'object'>]\n"
     ]
    }
   ],
   "source": [
    "class A:\n",
    "    def show(self):\n",
    "        print(\"A\")\n",
    "\n",
    "class B(A):\n",
    "    def show(self):\n",
    "        print(\"B\")\n",
    "\n",
    "class C(A):\n",
    "    def show(self):\n",
    "        print(\"C\")\n",
    "\n",
    "class D(B, C):\n",
    "    pass\n",
    "\n",
    "print(D.mro())\n"
   ]
  },
  {
   "cell_type": "markdown",
   "id": "d57fdf89",
   "metadata": {},
   "source": [
    "### 7. Method Overriding\n",
    "\n",
    "Method overriding occurs when a child class provides its own implementation of a method that is already defined in its parent class. It allows customization of inherited behavior without changing the parent class.\n",
    "This is a key aspect of polymorphism in OOP."
   ]
  },
  {
   "cell_type": "code",
   "execution_count": 9,
   "id": "19ded019",
   "metadata": {},
   "outputs": [
    {
     "name": "stdout",
     "output_type": "stream",
     "text": [
      "Bark!\n"
     ]
    }
   ],
   "source": [
    "class Animal:\n",
    "    def sound(self):\n",
    "        print(\"Animal sound\")\n",
    "\n",
    "class Dog(Animal):\n",
    "    def sound(self):\n",
    "        print(\"Bark!\")\n",
    "\n",
    "d = Dog()\n",
    "d.sound()  # Output: Bark!\n"
   ]
  },
  {
   "cell_type": "markdown",
   "id": "e54046e1",
   "metadata": {},
   "source": [
    "### 8. Encapsulation\n",
    "\n",
    "Encapsulation refers to the bundling of data (attributes) and methods that operate on the data into a single unit or class, and restricting access to some of the object’s components.\n",
    "\n",
    "- It helps in hiding the internal state of the object from the outside world.\n",
    "\n",
    "- This is done using private variables (by prefixing variable names with _ or __).\n",
    "\n",
    "- When variable is prefix by __, it is renamed to _classname__varname, e.g. _Person__name.\n",
    "\n",
    "Encapsulation ensures that internal object details remain hidden, and changes to those details don’t affect other parts of the code."
   ]
  },
  {
   "cell_type": "code",
   "execution_count": 90,
   "id": "8a75f853",
   "metadata": {},
   "outputs": [
    {
     "name": "stdout",
     "output_type": "stream",
     "text": [
      "John\n",
      "CHAMP\n"
     ]
    }
   ],
   "source": [
    "class Person:\n",
    "    def __init__(self, name):\n",
    "        self.__name = name  # private variable\n",
    "\n",
    "    def get_name(self):\n",
    "        return self.__name\n",
    "\n",
    "    def set_name(self, name):\n",
    "        self.__name = name \n",
    "\n",
    "p = Person(\"John\")\n",
    "print(p.get_name())  # Access through getter\n",
    "p.set_name(\"CHAMP\")\n",
    "print(p.get_name())"
   ]
  },
  {
   "cell_type": "markdown",
   "id": "8c203a34",
   "metadata": {},
   "source": [
    "### 9. Polymorphism\n",
    "\n",
    "Polymorphism means \"many forms\". In OOP, it refers to the ability of different classes to respond to the same method call in different ways.\n",
    "\n",
    "It allows objects of different classes to be treated as objects of a common super class. The most common use of polymorphism is when different classes implement the same method but with different behaviors.\n",
    "\n",
    "\n"
   ]
  },
  {
   "cell_type": "code",
   "execution_count": 12,
   "id": "9675612c",
   "metadata": {},
   "outputs": [
    {
     "name": "stdout",
     "output_type": "stream",
     "text": [
      "Tweet\n",
      "Moo\n"
     ]
    }
   ],
   "source": [
    "\n",
    "class Bird:\n",
    "    def sound(self):\n",
    "        print(\"Tweet\")\n",
    "\n",
    "class Cow:\n",
    "    def sound(self):\n",
    "        print(\"Moo\")\n",
    "\n",
    "for animal in (Bird(), Cow()):\n",
    "    animal.sound()\n"
   ]
  },
  {
   "cell_type": "markdown",
   "id": "e242cbdf",
   "metadata": {},
   "source": [
    "### 10. Special (Magic/Dunder) Methods\n",
    "\n",
    "These are special methods that have double underscores at the beginning and end (also called dunder methods). They allow classes to define custom behavior for Python operators and built-in functions.\n",
    "\n",
    "Examples:\n",
    "\n",
    "- __init__() – Constructor\n",
    "\n",
    "- __str__() – String representation\n",
    "\n",
    "- __len__(), __getitem__(), __add__() – Operator/function overloading\n",
    "\n",
    "They make your classes more Pythonic and integrate seamlessly with Python’s syntax and built-ins.\n",
    "More detail at the End !\n",
    "\n"
   ]
  },
  {
   "cell_type": "code",
   "execution_count": 13,
   "id": "546a8747",
   "metadata": {},
   "outputs": [
    {
     "name": "stdout",
     "output_type": "stream",
     "text": [
      "Book: 1984\n"
     ]
    }
   ],
   "source": [
    "\n",
    "class Book:\n",
    "    def __init__(self, title):\n",
    "        self.title = title\n",
    "\n",
    "    def __str__(self):\n",
    "        return f\"Book: {self.title}\"\n",
    "\n",
    "b = Book(\"1984\")\n",
    "print(b)\n"
   ]
  },
  {
   "cell_type": "markdown",
   "id": "b78cf1ed",
   "metadata": {},
   "source": [
    "### 11. isinstance() and issubclass()\n",
    "\n",
    "- isinstance(object, Class) – Checks if the object is an instance of the specified class or its subclass.\n",
    "\n",
    "- issubclass(SubClass, ParentClass) – Checks if a class is a subclass of another class.\n",
    "\n",
    "These functions are useful for type checking and implementing polymorphic behavior safely.\n",
    "\n"
   ]
  },
  {
   "cell_type": "code",
   "execution_count": 14,
   "id": "2f772e6c",
   "metadata": {},
   "outputs": [
    {
     "name": "stdout",
     "output_type": "stream",
     "text": [
      "True\n",
      "True\n"
     ]
    }
   ],
   "source": [
    "\n",
    "print(isinstance(\"hello\", str))      # True\n",
    "print(issubclass(bool, int))         # True\n"
   ]
  },
  {
   "cell_type": "markdown",
   "id": "0eb50f3f",
   "metadata": {},
   "source": [
    "### 12. Composition vs Inheritance\n",
    "\n",
    "- Inheritance expresses an \"is-a\" relationship. It is used when a class shares behavior with a parent class but wants to add/modify features.\n",
    "\n",
    "- Composition expresses a \"has-a\" relationship. One class contains another as part of its attributes.\n",
    "\n",
    "Composition is often preferred over inheritance because it allows for greater flexibility and decoupling.\n"
   ]
  },
  {
   "cell_type": "code",
   "execution_count": 15,
   "id": "5f1f18b1",
   "metadata": {},
   "outputs": [
    {
     "name": "stdout",
     "output_type": "stream",
     "text": [
      "Engine starting...\n",
      "Car is driving\n"
     ]
    }
   ],
   "source": [
    "\n",
    "class Engine:\n",
    "    def start(self):\n",
    "        print(\"Engine starting...\")\n",
    "\n",
    "class Car:\n",
    "    def __init__(self):\n",
    "        self.engine = Engine()\n",
    "\n",
    "    def drive(self):\n",
    "        self.engine.start()\n",
    "        print(\"Car is driving\")\n",
    "\n",
    "c = Car()\n",
    "c.drive()\n"
   ]
  },
  {
   "cell_type": "markdown",
   "id": "0b47d34e",
   "metadata": {},
   "source": [
    "### ✅ Summary\n",
    "\n",
    "- Use classes and objects to structure your code.\n",
    "\n",
    "- Understand key OOP principles: Encapsulation, Inheritance, Polymorphism, Abstraction.\n",
    "\n",
    "- Use special methods to make your objects more Pythonic.\n",
    "\n",
    "- Use composition for flexibility when inheritance doesn’t fit.\n"
   ]
  },
  {
   "cell_type": "markdown",
   "id": "099c177e",
   "metadata": {},
   "source": [
    "### 📘 References\n",
    "\n",
    "🔗 [Python Classes - Official Docs](https://docs.python.org/3/tutorial/classes.html)\n",
    "\n",
    "🔗 [Real Python - OOP](https://realpython.com/python3-object-oriented-programming/)\n",
    "    "
   ]
  },
  {
   "cell_type": "markdown",
   "id": "72bdbea2",
   "metadata": {},
   "source": [
    "# ✨ Magic (Dunder) Methods in Python\n",
    "\n",
    "---\n",
    "\n",
    "## 📌 What Are Magic/Dunder Methods?\n",
    "\n",
    "Magic methods (also called dunder methods because they have double underscores before and after their names) are **special methods predefined by Python**. They let you define how your objects behave with:\n",
    "\n",
    "- Built-in functions (`len()`, `str()`, `bool()`)\n",
    "- Operators (`+`, `-`, `==`)\n",
    "- Indexing (`obj[key]`)\n",
    "- Function-like calls (`obj()`)\n",
    "\n",
    "They make classes behave more like built-in types.\n",
    "\n",
    "- 🔗 [Magic Methods - Documentation Link 01](https://www.geeksforgeeks.org/dunder-magic-methods-python/)\n",
    "- 🔗 [Magic Methods - Documentation Link 02](https://www.tutorialsteacher.com/python/magic-methods-in-python)\n",
    "---\n",
    "\n",
    "## ✅ Common Magic Methods with Explanation\n",
    "\n",
    "---\n",
    "\n",
    "\n"
   ]
  },
  {
   "cell_type": "markdown",
   "id": "eb5cefd4",
   "metadata": {},
   "source": [
    "| Category       | Method                          | Description                            | Example           |\n",
    "| -------------- | ------------------------------- | -------------------------------------- | ----------------- |\n",
    "| Initialization | `__init__(self, ...)`           | Constructor, called on object creation | `obj = MyClass()` |\n",
    "| Representation | `__str__(self)`                 | Informal string, used in `print()`     | `str(obj)`        |\n",
    "|                | `__repr__(self)`                | Official string, used in `repr()`      | `repr(obj)`       |\n",
    "| Length         | `__len__(self)`                 | Returns length of object               | `len(obj)`        |\n",
    "| Arithmetic     | `__add__(self, other)`          | Addition (`+`) operator                | `obj1 + obj2`     |\n",
    "|                | `__sub__(self, other)`          | Subtraction (`-`)                      | `obj1 - obj2`     |\n",
    "|                | `__mul__(self, other)`          | Multiplication (`*`)                   | `obj1 * obj2`     |\n",
    "|                | `__truediv__(self, other)`      | Division (`/`)                         | `obj1 / obj2`     |\n",
    "| Comparison     | `__eq__(self, other)`           | Equality (`==`)                        | `obj1 == obj2`    |\n",
    "|                | `__lt__(self, other)`           | Less than (`<`)                        | `obj1 < obj2`     |\n",
    "|                | `__gt__(self, other)`           | Greater than (`>`)                     | `obj1 > obj2`     |\n",
    "| Callable       | `__call__(self, ...)`           | Make object callable like a function   | `obj()`           |\n",
    "| Container      | `__getitem__(self, key)`        | Get item with indexing (`[]`)          | `obj[key]`        |\n",
    "|                | `__setitem__(self, key, value)` | Set item with indexing                 | `obj[key] = val`  |\n",
    "|                | `__delitem__(self, key)`        | Delete item                            | `del obj[key]`    |\n",
    "| Boolean        | `__bool__(self)`                | Boolean context                        | `if obj:`         |\n",
    "| Cleanup        | `__del__(self)`                 | Destructor, on object deletion         | `del obj`         |\n"
   ]
  },
  {
   "cell_type": "markdown",
   "id": "050da414",
   "metadata": {},
   "source": [
    "### 🔸 `__init__`: Object Constructor\n",
    "\n",
    "This method is called automatically when an object is created. It's used to initialize instance variables.\n"
   ]
  },
  {
   "cell_type": "code",
   "execution_count": 62,
   "id": "e9d259b0",
   "metadata": {},
   "outputs": [
    {
     "name": "stdout",
     "output_type": "stream",
     "text": [
      "Alice\n"
     ]
    }
   ],
   "source": [
    "\n",
    "class Person:\n",
    "    def __init__(self, name):\n",
    "        self.name = name\n",
    "\n",
    "p = Person(\"Alice\")\n",
    "print(p.name)  # Output: Alice\n"
   ]
  },
  {
   "cell_type": "markdown",
   "id": "3bb3f696",
   "metadata": {},
   "source": [
    "### 🔸 `__str__` and `__repr__` : Object Representation\n",
    "\n",
    "`__str__` is called by `print()` and `str()` to return a user-friendly string.\n",
    "\n",
    "`__repr__` is called by `repr()` and used in debugging, returns a developer-friendly string."
   ]
  },
  {
   "cell_type": "code",
   "execution_count": 63,
   "id": "37a5f759",
   "metadata": {},
   "outputs": [
    {
     "name": "stdout",
     "output_type": "stream",
     "text": [
      "This is Rocky\n",
      "Dog('Rocky')\n"
     ]
    }
   ],
   "source": [
    "class Dog:\n",
    "    def __init__(self, name):\n",
    "        self.name = name\n",
    "\n",
    "    def __str__(self):\n",
    "        return f\"This is {self.name}\"\n",
    "\n",
    "    def __repr__(self):\n",
    "        return f\"Dog('{self.name}')\"\n",
    "\n",
    "d = Dog(\"Rocky\")\n",
    "print(str(d))     # This is Rocky\n",
    "print(repr(d))    # Dog('Rocky')\n"
   ]
  },
  {
   "cell_type": "markdown",
   "id": "148ba9c1",
   "metadata": {},
   "source": [
    "### 🔸 `__len__`: Object length \n",
    "\n",
    "Lets you define what len(obj) should return."
   ]
  },
  {
   "cell_type": "code",
   "execution_count": 64,
   "id": "e6210bbb",
   "metadata": {},
   "outputs": [
    {
     "name": "stdout",
     "output_type": "stream",
     "text": [
      "3\n"
     ]
    }
   ],
   "source": [
    "class Team:\n",
    "    def __init__(self, members):\n",
    "        self.members = members\n",
    "\n",
    "    def __len__(self):\n",
    "        return len(self.members)\n",
    "\n",
    "t = Team([\"A\", \"B\", \"C\"])\n",
    "print(len(t))  # Output: 3\n"
   ]
  },
  {
   "cell_type": "markdown",
   "id": "4c03cf8a",
   "metadata": {},
   "source": [
    "### 🔸 Arithmetic Methods: `__add__`, `__sub__`, etc.\n",
    "\n",
    "Allow objects to use arithmetic operators."
   ]
  },
  {
   "cell_type": "code",
   "execution_count": 84,
   "id": "1109402e",
   "metadata": {},
   "outputs": [
    {
     "name": "stdout",
     "output_type": "stream",
     "text": [
      "15\n"
     ]
    }
   ],
   "source": [
    "class Score:\n",
    "    def __init__(self, points):\n",
    "        self.points = points\n",
    "\n",
    "    def __add__(self, other):\n",
    "        return Score(self.points + other.points)\n",
    "\n",
    "s1 = Score(10)\n",
    "s2 = Score(5)\n",
    "print((s1 + s2).points)  # Output: 15\n"
   ]
  },
  {
   "cell_type": "markdown",
   "id": "e80ec8d7",
   "metadata": {},
   "source": [
    "### 🔸 Comparison Methods: `__eq__`, `__lt__`, etc.\n",
    "\n",
    "Used to compare objects (==, <, >, etc.)"
   ]
  },
  {
   "cell_type": "code",
   "execution_count": 66,
   "id": "429cc541",
   "metadata": {},
   "outputs": [
    {
     "name": "stdout",
     "output_type": "stream",
     "text": [
      "False\n",
      "True\n"
     ]
    }
   ],
   "source": [
    "class Box:\n",
    "    def __init__(self, volume):\n",
    "        self.volume = volume\n",
    "\n",
    "    def __eq__(self, other):\n",
    "        return self.volume == other.volume\n",
    "\n",
    "    def __lt__(self, other):\n",
    "        return self.volume < other.volume\n",
    "\n",
    "b1 = Box(10)\n",
    "b2 = Box(15)\n",
    "print(b1 == b2)  # False\n",
    "print(b1 < b2)   # True\n"
   ]
  },
  {
   "cell_type": "markdown",
   "id": "8f139ff1",
   "metadata": {},
   "source": [
    "### 🔸 `__call__`: Make Object Callable\n",
    "\n",
    "Allows the object to be used like a function."
   ]
  },
  {
   "cell_type": "code",
   "execution_count": 67,
   "id": "e8198d9f",
   "metadata": {},
   "outputs": [
    {
     "name": "stdout",
     "output_type": "stream",
     "text": [
      "Hello!\n"
     ]
    }
   ],
   "source": [
    "class Greeter:\n",
    "    def __call__(self):\n",
    "        print(\"Hello!\")\n",
    "\n",
    "greet = Greeter()\n",
    "greet()  # Output: Hello!\n"
   ]
  },
  {
   "cell_type": "markdown",
   "id": "bf069398",
   "metadata": {},
   "source": [
    "### 🔸`__getitem__`, `__setitem__`, `__delitem__`: Index Access\n",
    "\n",
    "Allow custom indexing and assignment using []."
   ]
  },
  {
   "cell_type": "code",
   "execution_count": 68,
   "id": "40086aa9",
   "metadata": {},
   "outputs": [
    {
     "name": "stdout",
     "output_type": "stream",
     "text": [
      "100\n"
     ]
    }
   ],
   "source": [
    "class MyList:\n",
    "    def __init__(self):\n",
    "        self.data = {}\n",
    "\n",
    "    def __getitem__(self, key):\n",
    "        return self.data[key]\n",
    "\n",
    "    def __setitem__(self, key, value):\n",
    "        self.data[key] = value\n",
    "\n",
    "    def __delitem__(self, key):\n",
    "        del self.data[key]\n",
    "\n",
    "lst = MyList()\n",
    "lst[\"a\"] = 100\n",
    "print(lst[\"a\"])  # Output: 100\n",
    "del lst[\"a\"]\n"
   ]
  },
  {
   "cell_type": "markdown",
   "id": "371da2da",
   "metadata": {},
   "source": [
    "### 🔸 `__bool__`: Boolean Conversion\n",
    "\n",
    "Defines how an object behaves in a boolean context (e.g., if obj:)."
   ]
  },
  {
   "cell_type": "code",
   "execution_count": 69,
   "id": "cb11715a",
   "metadata": {},
   "outputs": [
    {
     "name": "stdout",
     "output_type": "stream",
     "text": [
      "Switch is on\n"
     ]
    }
   ],
   "source": [
    "class Switch:\n",
    "    def __init__(self, state):\n",
    "        self.state = state\n",
    "\n",
    "    def __bool__(self):\n",
    "        return self.state\n",
    "\n",
    "s = Switch(True)\n",
    "if s:\n",
    "    print(\"Switch is on\")  # Output: Switch is on\n"
   ]
  },
  {
   "cell_type": "markdown",
   "id": "2fcb1bf0",
   "metadata": {},
   "source": [
    "### 🔸 `__del__`: Destructor\n",
    "\n",
    "Called when an object is about to be destroyed."
   ]
  },
  {
   "cell_type": "code",
   "execution_count": 70,
   "id": "326300c0",
   "metadata": {},
   "outputs": [
    {
     "name": "stdout",
     "output_type": "stream",
     "text": [
      "File object deleted\n"
     ]
    }
   ],
   "source": [
    "class File:\n",
    "    def __del__(self):\n",
    "        print(\"File object deleted\")\n",
    "\n",
    "f = File()\n",
    "del f  # Output: File object deleted\n"
   ]
  },
  {
   "cell_type": "markdown",
   "id": "96ab0c59",
   "metadata": {},
   "source": [
    "## SOME OOP EXAMPLE CODES ##"
   ]
  },
  {
   "cell_type": "code",
   "execution_count": 50,
   "id": "d86bf4e5",
   "metadata": {},
   "outputs": [
    {
     "name": "stdout",
     "output_type": "stream",
     "text": [
      "Wrong Pin\n"
     ]
    }
   ],
   "source": [
    "# ATM EXAMPLE\n",
    "\n",
    "class Atm:\n",
    "\n",
    "    def __init__(self):\n",
    "        self.pin='1234'\n",
    "        self.balance = 50\n",
    "        self.menu()\n",
    "\n",
    "    def menu(self):\n",
    "        user_input = input(\"\"\"\n",
    "        Hello, how would you like to proceed?\n",
    "                            1. Enter 1 to create pin\n",
    "                            2. Enter 2 to deposit\n",
    "                            3. Enter 3 to withdraw\n",
    "                            4. Enter 4 to chech balance\n",
    "                            5. Enter 5 to exit\n",
    "\"\"\")\n",
    "        \n",
    "        if user_input ==\"1\":\n",
    "            self.create_pin()\n",
    "        elif user_input ==\"2\":\n",
    "            self.deposit()\n",
    "        elif user_input ==\"3\":\n",
    "            self.withdraw()\n",
    "        elif user_input ==\"4\":\n",
    "            print()\n",
    "        elif user_input ==\"5\":\n",
    "            print()\n",
    "    \n",
    "    def create_pin(self):\n",
    "        self.pin = input(\"Enter your pin\")\n",
    "        print(\"Pin set successfully!\")\n",
    "\n",
    "    def check_pin(self):\n",
    "        temp = input(\"Enter your pin: \")\n",
    "        if temp == self.pin:\n",
    "            return True\n",
    "        else:\n",
    "            print(\"Wrong Pin\")\n",
    "\n",
    "    def deposit(self):\n",
    "        if self.check_pin() is True:\n",
    "            amount = int(input(\"Enter the $ amount\"))\n",
    "            self.balance += amount\n",
    "            print(\"Deposit successful\")\n",
    "            print(f\"New Balance: {self.balance}$\")\n",
    "    \n",
    "    def withdraw(self):\n",
    "        if self.check_pin() is True:\n",
    "            amount = int(input(\"Enter the $ amount\"))\n",
    "            if amount < self.balance:\n",
    "                self.balance-= amount\n",
    "                print(\"Withdraw successful\")\n",
    "                print(f\"Remaining Balance: {self.balance}$\")\n",
    "            else:\n",
    "                print(\"Not enough Balance\")\n",
    "\n",
    "\n",
    "\n",
    "a = Atm()"
   ]
  },
  {
   "cell_type": "code",
   "execution_count": 80,
   "id": "2cf20018",
   "metadata": {},
   "outputs": [
    {
     "name": "stdout",
     "output_type": "stream",
     "text": [
      "18/20\n"
     ]
    }
   ],
   "source": [
    "# Fraction Example\n",
    "\n",
    "class Fraction:\n",
    "    def __init__(self,n,d):\n",
    "        self.num = n\n",
    "        self.den = d\n",
    "\n",
    "    def __str__(self):\n",
    "        return f\"{self.num}/{self.den}\"\n",
    "\n",
    "    def __add__(self,other):\n",
    "        temp_num = self.num * other.den + other.num * self.den\n",
    "        temp_den = self.den * other.den\n",
    "        return f\"{temp_num}/{temp_den}\"\n",
    "    \n",
    "    def __sub__(self,other):\n",
    "        temp_num = self.num * other.den - other.num * self.den\n",
    "        temp_den = self.den * other.den\n",
    "        return f\"{temp_num}/{temp_den}\"\n",
    "\n",
    "    def __mul__(self,other):\n",
    "        temp_num = self.num * other.num\n",
    "        temp_den = self.den * other.den\n",
    "        return f\"{temp_num}/{temp_den}\"\n",
    "    \n",
    "    def __truediv__(self,other):\n",
    "        temp_num = self.num * other.den\n",
    "        temp_den = self.den * other.num\n",
    "        return f\"{temp_num}/{temp_den}\"\n",
    "\n",
    "x = Fraction(3,4)\n",
    "y = Fraction(5,6)\n",
    "\n",
    "\n",
    "print(x/y)\n",
    "\n"
   ]
  },
  {
   "cell_type": "code",
   "execution_count": 2,
   "id": "0085ecbf",
   "metadata": {},
   "outputs": [
    {
     "name": "stdout",
     "output_type": "stream",
     "text": [
      "Hello Jenny ma'am\n",
      "CHAMP\n"
     ]
    }
   ],
   "source": [
    "# PASS BY REFERENCE\n",
    "\n",
    "class Customer:\n",
    "\n",
    "    def __init__(self,name,gender):\n",
    "        self.name = name\n",
    "        self.gender = gender\n",
    "\n",
    "def greet(customer):\n",
    "    if customer == \"Male\":\n",
    "        print(\"Hello\", customer.name,\"sir\")\n",
    "    else:\n",
    "        print(\"Hello\", customer.name,\"ma'am\")\n",
    "\n",
    "    cust2 = Customer(\"CHAMP\", \"Male\")\n",
    "\n",
    "    return cust2\n",
    "\n",
    "\n",
    "cust = Customer(\"Jenny\",\"Female\")\n",
    "\n",
    "new_cust = greet(cust)\n",
    "\n",
    "print(new_cust.name)\n",
    "        "
   ]
  },
  {
   "cell_type": "code",
   "execution_count": null,
   "id": "6b9d4860",
   "metadata": {},
   "outputs": [
    {
     "name": "stdout",
     "output_type": "stream",
     "text": [
      "1616583979776\n",
      "[1, 2, 3, 4]\n",
      "1616583979776\n",
      "[1, 2, 3, 4, 5]\n",
      "1616583779056\n",
      "(1, 2, 3, 4)\n",
      "1616583779056\n",
      "1616583722272\n",
      "(1, 2, 3, 4)\n"
     ]
    }
   ],
   "source": [
    "def change(L):\n",
    "    print(id(L))\n",
    "    L.append(5)\n",
    "\n",
    "L1 = [1,2,3,4]\n",
    "print(id(L1))\n",
    "print(L1)\n",
    "\n",
    "change(L1)\n",
    "print(L1)\n",
    "\n",
    "def change1(L):\n",
    "    print(id(L))\n",
    "    L = L + (5,6)\n",
    "    print(id(L))\n",
    "\n",
    "L2 = (1,2,3,4)\n",
    "print(id(L2))\n",
    "print(L2)\n",
    "\n",
    "change1(L2)\n",
    "print(L2)\n",
    "\n",
    "\n",
    "# class objects change the contents at original address of mutable datatypes like list, dict, set (not tuple)\n",
    "# You may use cloning L[:]"
   ]
  },
  {
   "cell_type": "code",
   "execution_count": null,
   "id": "f6fd835f",
   "metadata": {},
   "outputs": [],
   "source": []
  }
 ],
 "metadata": {
  "kaggle": {
   "accelerator": "nvidiaTeslaT4",
   "dataSources": [],
   "dockerImageVersionId": 30886,
   "isGpuEnabled": true,
   "isInternetEnabled": true,
   "language": "python",
   "sourceType": "notebook"
  },
  "kernelspec": {
   "display_name": "base",
   "language": "python",
   "name": "python3"
  },
  "language_info": {
   "codemirror_mode": {
    "name": "ipython",
    "version": 3
   },
   "file_extension": ".py",
   "mimetype": "text/x-python",
   "name": "python",
   "nbconvert_exporter": "python",
   "pygments_lexer": "ipython3",
   "version": "3.12.4"
  }
 },
 "nbformat": 4,
 "nbformat_minor": 5
}
